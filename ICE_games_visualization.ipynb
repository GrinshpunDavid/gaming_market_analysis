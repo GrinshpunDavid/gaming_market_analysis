{
 "cells": [
  {
   "cell_type": "markdown",
   "metadata": {},
   "source": [
    "# Ice - online video games store"
   ]
  },
  {
   "cell_type": "markdown",
   "metadata": {},
   "source": [
    "# Project description\n",
    "\n",
    "The goal of this project is to identify patterns that determine whether a game succeeds or not.\n",
    "Using user and expert reviews, genres, platforms and historical data on game sales for several years. I will try to give my recomendations to pick games that will be sucssesful in the near future.\n",
    "\n",
    "Outline of analysis:\n",
    "* Assessed the data and made decisions about outliers and skewed values.\n",
    "* Performed statistical comparison between game-genres, rigions and gaming-platforms using Pandas and Numpy.\n",
    "* Made recommendations backed by statistical inferences for the commercial department.\n",
    "\n",
    "Data description:\n",
    "- Name\n",
    "- Platform\n",
    "- Year_of_Release\n",
    "- Genre\n",
    "- NA_sales (North American sales in USD million)\n",
    "- EU_sales (sales in Europe in USD million)\n",
    "- JP_sales (sales in Japan in USD million)\n",
    "- Other_sales (sales in other countries in USD million)\n",
    "- Critic_Score (maximum of 100)\n",
    "- User_Score (maximum of 10)\n",
    "- Rating (ESRB)\n",
    "Data for 2016 may be incomplete."
   ]
  },
  {
   "cell_type": "markdown",
   "metadata": {},
   "source": [
    "## Open the data file and study the general information:"
   ]
  },
  {
   "cell_type": "code",
   "execution_count": 3,
   "metadata": {},
   "outputs": [],
   "source": [
    "import pandas as pd\n",
    "import numpy as np\n",
    "import matplotlib.pyplot as plt \n",
    "from scipy import stats as st\n",
    "from math import factorial\n",
    "from scipy.stats import norm\n",
    "from functools import reduce\n",
    "import warnings\n",
    "import random\n",
    "import seaborn as sns\n",
    "\n",
    "games_df = pd.read_csv(r\"C:\\Users\\grins\\jupyter\\video_games/games.csv\")\n",
    "games_df_ed = pd.read_csv(r\"C:\\Users\\grins\\jupyter\\video_games/games.csv\")\n",
    "test = pd.read_csv(r\"C:\\Users\\grins\\jupyter\\video_games/games.csv\")\n",
    "warnings.simplefilter(action='ignore')"
   ]
  },
  {
   "cell_type": "markdown",
   "metadata": {},
   "source": [
    "I created 3 dataframes:\n",
    "1. original data: games_df\n",
    "2. data to be filled and cleaned: games_df_ed\n",
    "3. data only to be cleaned: test"
   ]
  },
  {
   "cell_type": "markdown",
   "metadata": {},
   "source": [
    "#### examine the data:"
   ]
  },
  {
   "cell_type": "code",
   "execution_count": 4,
   "metadata": {},
   "outputs": [
    {
     "name": "stdout",
     "output_type": "stream",
     "text": [
      "                       Name Platform  Year_of_Release         Genre  NA_sales  \\\n",
      "0                Wii Sports      Wii           2006.0        Sports     41.36   \n",
      "1         Super Mario Bros.      NES           1985.0      Platform     29.08   \n",
      "2            Mario Kart Wii      Wii           2008.0        Racing     15.68   \n",
      "3         Wii Sports Resort      Wii           2009.0        Sports     15.61   \n",
      "4  Pokemon Red/Pokemon Blue       GB           1996.0  Role-Playing     11.27   \n",
      "\n",
      "   EU_sales  JP_sales  Other_sales  Critic_Score User_Score Rating  \n",
      "0     28.96      3.77         8.45          76.0          8      E  \n",
      "1      3.58      6.81         0.77           NaN        NaN    NaN  \n",
      "2     12.76      3.79         3.29          82.0        8.3      E  \n",
      "3     10.93      3.28         2.95          80.0          8      E  \n",
      "4      8.89     10.22         1.00           NaN        NaN    NaN  \n",
      "------------------------------------------------------------------------------\n",
      "<class 'pandas.core.frame.DataFrame'>\n",
      "RangeIndex: 16715 entries, 0 to 16714\n",
      "Data columns (total 11 columns):\n",
      " #   Column           Non-Null Count  Dtype  \n",
      "---  ------           --------------  -----  \n",
      " 0   Name             16713 non-null  object \n",
      " 1   Platform         16715 non-null  object \n",
      " 2   Year_of_Release  16446 non-null  float64\n",
      " 3   Genre            16713 non-null  object \n",
      " 4   NA_sales         16715 non-null  float64\n",
      " 5   EU_sales         16715 non-null  float64\n",
      " 6   JP_sales         16715 non-null  float64\n",
      " 7   Other_sales      16715 non-null  float64\n",
      " 8   Critic_Score     8137 non-null   float64\n",
      " 9   User_Score       10014 non-null  object \n",
      " 10  Rating           9949 non-null   object \n",
      "dtypes: float64(6), object(5)\n",
      "memory usage: 1.4+ MB\n",
      "None\n",
      "------------------------------------------------------------------------------\n",
      "Name                0.01\n",
      "Platform            0.00\n",
      "Year_of_Release     1.61\n",
      "Genre               0.01\n",
      "NA_sales            0.00\n",
      "EU_sales            0.00\n",
      "JP_sales            0.00\n",
      "Other_sales         0.00\n",
      "Critic_Score       51.32\n",
      "User_Score         40.09\n",
      "Rating             40.48\n",
      "dtype: float64\n"
     ]
    }
   ],
   "source": [
    "print(games_df.head())\n",
    "print(\"------------------------------------------------------------------------------\")\n",
    "print(games_df.info())\n",
    "print(\"------------------------------------------------------------------------------\")\n",
    "print(round(100*games_df.isnull().sum()/len(games_df),2))"
   ]
  },
  {
   "cell_type": "markdown",
   "metadata": {},
   "source": [
    "* We have alot of missing values I will try to fill in: Critic_Score, User_Score and Rating."
   ]
  },
  {
   "cell_type": "markdown",
   "metadata": {},
   "source": [
    "#### check if user_score and critic_score are the same:\n",
    "* if they are the same i can use them to fill each other."
   ]
  },
  {
   "cell_type": "code",
   "execution_count": 5,
   "metadata": {},
   "outputs": [],
   "source": [
    "test.columns = test.columns.str.lower()\n",
    "test.user_score.replace( \"tbd\" , np.NaN , inplace=True)\n",
    "test.dropna(subset=['name' ], inplace=True)\n",
    "test['user_score'] = test['user_score'].replace('RP', np.nan)\n",
    "test['user_score'] = pd.to_numeric(test['user_score'], errors='coerce')\n",
    "test.user_score = test.user_score*10"
   ]
  },
  {
   "cell_type": "markdown",
   "metadata": {},
   "source": [
    "prepere test dataframe for analysis."
   ]
  },
  {
   "cell_type": "code",
   "execution_count": 6,
   "metadata": {},
   "outputs": [
    {
     "name": "stdout",
     "output_type": "stream",
     "text": [
      "alpha:    0.05\n",
      "p-value:  5.2271183226999035e-23\n",
      "We reject the null hypothesis\n"
     ]
    },
    {
     "data": {
      "image/png": "[encoded data removed]",
      "text/plain": [
       "<Figure size 432x288 with 1 Axes>"
      ]
     },
     "metadata": {
      "needs_background": "light"
     },
     "output_type": "display_data"
    }
   ],
   "source": [
    "#null hypothesis - critic_score and user_score are equal.\n",
    "#Alternative hypotheses - critic_score and user_score are not equal.\n",
    "critic_score_T = test[test.critic_score.notna()].critic_score\n",
    "user_score_T = test[test.user_score.notna()].user_score\n",
    "\n",
    "alpha = 0.05  \n",
    "results = st.ttest_ind(user_score_T, critic_score_T)\n",
    "print('alpha:   ', alpha)\n",
    "print('p-value: ', results.pvalue)\n",
    "\n",
    "if (results.pvalue < alpha):\n",
    "    print('We reject the null hypothesis')\n",
    "else:\n",
    "    print(\"We can't reject the null hypothesis\") \n",
    "    \n",
    "ax = test['user_score'].hist(bins=25, alpha=0.5,density=True,label=['user'])\n",
    "ax = test['critic_score'].hist(bins=25, alpha=0.5,density=True,label=['critics'])\n",
    "plt.gca().set(title='User scores compered to Critic scores', ylabel='Frequency',xlabel='score')\n",
    "ax.legend(prop={'size': 10});"
   ]
  },
  {
   "cell_type": "markdown",
   "metadata": {},
   "source": [
    "critic_score and user_score are not equal so i canot use them to fill each other."
   ]
  },
  {
   "cell_type": "markdown",
   "metadata": {},
   "source": [
    "## Prepare the data\n",
    "\n",
    "* Describe the columns where the data types have been changed and why.\n",
    "* Decide how to deal with missing values: Explain why you filled in the missing values as you did or why you decided to leave them blank.\n",
    "* Why do you think the values are missing? Give possible reasons."
   ]
  },
  {
   "cell_type": "code",
   "execution_count": 7,
   "metadata": {},
   "outputs": [],
   "source": [
    "games_df_ed.columns = games_df_ed.columns.str.lower()\n",
    "games_df_ed.user_score.replace( \"tbd\" , np.NaN , inplace=True)\n",
    "games_df_ed.dropna(subset=['name' ], inplace=True)\n",
    "games_df_ed = games_df_ed.reset_index()\n",
    "games_df_ed['tot_sales'] = games_df_ed[['na_sales', 'eu_sales', 'jp_sales', 'other_sales']].sum(axis=1)"
   ]
  },
  {
   "cell_type": "markdown",
   "metadata": {},
   "source": [
    "* changed column names to lowercase.\n",
    "* changed \"tbd\" in user_score Nan (tbd didnt gave us information helpful to our research).\n",
    "* droped rows without names (cant re-fill missing names)\n",
    "* made new column 'tot_sales' as sum of all rigional sales."
   ]
  },
  {
   "cell_type": "code",
   "execution_count": 8,
   "metadata": {},
   "outputs": [],
   "source": [
    "games_df_ed['rating'] = games_df_ed['rating'].replace('EC', 'E')\n",
    "games_df_ed['rating'] = games_df_ed['rating'].replace('K-A', 'E')\n",
    "games_df_ed['rating'] = games_df_ed['rating'].replace('AO', 'M')\n",
    "games_df_ed['rating'] = games_df_ed['rating'].replace('RP', np.nan)"
   ]
  },
  {
   "cell_type": "markdown",
   "metadata": {},
   "source": [
    "* There are several rating inputs that diviate from the ESRB current coding system.\n",
    "* I chose to change them to their compatible rank, making the rating more managble."
   ]
  },
  {
   "cell_type": "code",
   "execution_count": 9,
   "metadata": {},
   "outputs": [],
   "source": [
    "games_df_ed['user_score'] = games_df_ed['user_score'].replace('RP', np.nan)\n",
    "games_df_ed['user_score'] = pd.to_numeric(games_df_ed['user_score'], errors='coerce')\n",
    "games_df_ed[\"user_score\"] = np.where(games_df_ed[\"user_score\"] >10, np.nan,games_df_ed[\"user_score\"])\n",
    "games_df_ed.user_score = games_df_ed.user_score*10 \n",
    "games_df_ed.year_of_release = pd.to_datetime(games_df_ed.year_of_release.dropna().astype('int64'), format='%Y',errors='raise')\n",
    "games_df_ed.rating  = games_df_ed.rating.astype(\"category\")\n",
    "games_df_ed.genre  = games_df_ed.genre.astype(\"category\")\n",
    "games_df_ed.platform  = games_df_ed.platform.astype(\"category\")"
   ]
  },
  {
   "cell_type": "markdown",
   "metadata": {},
   "source": [
    "* I change user_score tonumerical type, and multiplied by 10 to make it the same scale as the crit_score for better handeling in the future.\n",
    "* I chose to change the year_of_release to datetime.\n",
    "* changed rating, genre, and platform to categoricl to save memory."
   ]
  },
  {
   "cell_type": "code",
   "execution_count": 10,
   "metadata": {},
   "outputs": [],
   "source": [
    "games_df_ed[\"titles\"] = np.nan\n",
    "for ind in range(len(games_df_ed)):\n",
    "    try:\n",
    "        if ':' in games_df_ed.name[ind]:\n",
    "            games_df_ed['titles'][ind] = games_df_ed.name[ind].split(\":\")[0]\n",
    "            \n",
    "    except:\n",
    "        print(\"Error\")\n",
    "\n",
    "games_df_ed['title_count'] = games_df_ed.groupby('titles')['titles'].transform('count')        "
   ]
  },
  {
   "cell_type": "markdown",
   "metadata": {},
   "source": [
    "* many game names are in this format: {titles : secondery titles}.\n",
    "* to increase the rating filling by names will be doing it by titles as well."
   ]
  },
  {
   "cell_type": "markdown",
   "metadata": {},
   "source": [
    "#### Filling missing data:"
   ]
  },
  {
   "cell_type": "code",
   "execution_count": 11,
   "metadata": {},
   "outputs": [
    {
     "name": "stdout",
     "output_type": "stream",
     "text": [
      "Error: function failed 0 times.\n"
     ]
    }
   ],
   "source": [
    "def fill_years(data):\n",
    "    count = 0\n",
    "    new = data.copy()\n",
    "    for ind in data.index:\n",
    "        try:\n",
    "            if data['year_of_release'][ind] != data['year_of_release'][ind]:\n",
    "                name = data['name'][ind]\n",
    "                year = data[ data['name'] == name].year_of_release\n",
    "                year.dropna(inplace=True)\n",
    "                \n",
    "                if len(year):\n",
    "                    new['year_of_release'][ind] = year.value_counts().idxmax()   \n",
    "                    \n",
    "                elif data['title_count'][ind] > 1:\n",
    "                    name = data['titles'][ind]\n",
    "                    year = data[ data['titles'] == name].year_of_release\n",
    "                    year.dropna(inplace=True)\n",
    "                    \n",
    "                    if len(year):\n",
    "                        new['year_of_release'][ind] = year.value_counts().idxmax()   \n",
    "        except:\n",
    "            count+=1 \n",
    "            \n",
    "    print('Error: function failed',count ,'times.')\n",
    "    return new\n",
    "\n",
    "games_df_ed = fill_years(games_df_ed)"
   ]
  },
  {
   "cell_type": "markdown",
   "metadata": {},
   "source": [
    "In the filling process I am searching for same name game as the the one with the missing value.\n",
    "I save the games with simillar names in list and pick the most frequent value to replase our missing one. I do the same with the 'titles' column I prepared earlier."
   ]
  },
  {
   "cell_type": "code",
   "execution_count": 12,
   "metadata": {},
   "outputs": [
    {
     "name": "stdout",
     "output_type": "stream",
     "text": [
      "Error: function failed 0 times.\n"
     ]
    }
   ],
   "source": [
    "def fill_rating(data):\n",
    "    count = 0\n",
    "    new = data.copy()\n",
    "    for ind in data.index:\n",
    "        try:\n",
    "            if data['rating'][ind] != data['rating'][ind]:\n",
    "                name = data['name'][ind]\n",
    "                rating = data[ data['name'] == name].rating\n",
    "                rating.dropna(inplace=True)\n",
    "                \n",
    "                if len(rating):\n",
    "                    new['rating'][ind] = rating.value_counts().idxmax()   \n",
    "                    \n",
    "                elif data['title_count'][ind] > 1:\n",
    "                    name = data['titles'][ind]\n",
    "                    rating = data[ data['titles'] == name].rating\n",
    "                    rating.dropna(inplace=True)\n",
    "                    if len(rating):\n",
    "                        new['rating'][ind] = rating.value_counts().idxmax()   \n",
    "        except:\n",
    "            count+=1  \n",
    "            \n",
    "    print('Error: function failed',count ,'times.')\n",
    "    return new\n",
    "\n",
    "games_df_ed = fill_rating(games_df_ed)"
   ]
  },
  {
   "cell_type": "markdown",
   "metadata": {},
   "source": [
    "same as above."
   ]
  },
  {
   "cell_type": "code",
   "execution_count": 13,
   "metadata": {},
   "outputs": [],
   "source": [
    "def fill_rank(row):\n",
    "    try:\n",
    "        if row.rating == 'E':\n",
    "            return 1\n",
    "        if row.rating == 'E10+':\n",
    "            return 2\n",
    "        if row.rating == 'T':\n",
    "            return 3\n",
    "        if row.rating == 'M':\n",
    "            return 4\n",
    "        else:\n",
    "            return np.nan\n",
    "    except:\n",
    "            print(Error)\n",
    "               \n",
    "games_df_ed['rating_numeric'] = games_df_ed.apply( lambda row: fill_rank(row ), axis=1)"
   ]
  },
  {
   "cell_type": "markdown",
   "metadata": {},
   "source": [
    "Add new column for 'rating_numeric' that transform the rating 'str' to numeric value that can be prossesed in later analysis."
   ]
  },
  {
   "cell_type": "code",
   "execution_count": 14,
   "metadata": {},
   "outputs": [
    {
     "name": "stdout",
     "output_type": "stream",
     "text": [
      "Error: function failed 0 times.\n"
     ]
    }
   ],
   "source": [
    "def fill_critic(data):\n",
    "    count = 0\n",
    "    new = data.copy()\n",
    "    for ind in data.index:\n",
    "        try:\n",
    "            if data['critic_score'][ind] != data['critic_score'][ind]:\n",
    "                name = data['name'][ind]\n",
    "                score = data[ data['name'] == name].critic_score\n",
    "                score.dropna(inplace=True)\n",
    "                \n",
    "                if len(score):\n",
    "                    new['critic_score'][ind] = round(score.mean())  \n",
    "                \n",
    "                elif data['title_count'][ind] > 1:\n",
    "                    name = data['titles'][ind]\n",
    "                    score = data[ data['titles'] == name].critic_score\n",
    "                    score.dropna(inplace=True)\n",
    "                    if len(score):\n",
    "                        new['critic_score'][ind] = round(score.mean())                   \n",
    "        except:\n",
    "            count+=1 \n",
    "            \n",
    "    print('Error: function failed',count ,'times.')\n",
    "    return new\n",
    "  \n",
    "games_df_ed = fill_critic(games_df_ed)"
   ]
  },
  {
   "cell_type": "markdown",
   "metadata": {},
   "source": [
    "here i pick the mean value to fill with and not the most frequent one as the score is a scale."
   ]
  },
  {
   "cell_type": "code",
   "execution_count": 15,
   "metadata": {},
   "outputs": [
    {
     "name": "stdout",
     "output_type": "stream",
     "text": [
      "Error: function failed 0 times.\n"
     ]
    }
   ],
   "source": [
    "def fill_user(data):\n",
    "    count = 0\n",
    "    new = data.copy()\n",
    "    for ind in data.index:\n",
    "        try:\n",
    "            if data['user_score'][ind] != data['user_score'][ind]:\n",
    "                name = data['name'][ind]\n",
    "                score = data[ data['name'] == name].user_score\n",
    "                score.dropna(inplace=True)\n",
    "                if len(score):\n",
    "                    new['user_score'][ind] = round(score.mean())\n",
    "                    \n",
    "                elif data['title_count'][ind] > 1:\n",
    "                    name = data['titles'][ind]\n",
    "                    score = data[ data['titles'] == name].user_score\n",
    "                    score.dropna(inplace=True)\n",
    "                    if len(score):\n",
    "                        new['user_score'][ind] = round(score.mean())                     \n",
    "        except:\n",
    "            count+=1 \n",
    "            \n",
    "    print('Error: function failed',count ,'times.')\n",
    "    return new\n",
    "  \n",
    "games_df_ed = fill_user(games_df_ed)"
   ]
  },
  {
   "cell_type": "markdown",
   "metadata": {},
   "source": [
    "same as above."
   ]
  },
  {
   "cell_type": "markdown",
   "metadata": {},
   "source": [
    "#### Check if the values filled didnt change our data:"
   ]
  },
  {
   "cell_type": "code",
   "execution_count": 16,
   "metadata": {},
   "outputs": [
    {
     "name": "stdout",
     "output_type": "stream",
     "text": [
      "alpha:    0.01\n",
      "p-value:  0.10916851871512118\n",
      "We can't reject the null hypothesis\n"
     ]
    },
    {
     "data": {
      "image/png": "[encoded data removed]",
      "text/plain": [
       "<Figure size 432x288 with 1 Axes>"
      ]
     },
     "metadata": {
      "needs_background": "light"
     },
     "output_type": "display_data"
    }
   ],
   "source": [
    "#null hypothesis - user_score in test and user_score in games_df_ed are equal. \n",
    "test_user = test[(test.user_score.notna())].user_score\n",
    "games_df_ed_user = games_df_ed[(games_df_ed.user_score.notna())].user_score\n",
    "\n",
    "alpha = 0.01  \n",
    "results = st.ttest_ind(test_user, games_df_ed_user)\n",
    "print('alpha:   ', alpha)\n",
    "print('p-value: ', results.pvalue)\n",
    "\n",
    "if (results.pvalue < alpha):\n",
    "    print('We reject the null hypothesis')\n",
    "else:\n",
    "    print(\"We can't reject the null hypothesis\") \n",
    "    \n",
    "ax = test_user.hist(bins=25, alpha=0.5,density=True,label=['test'])\n",
    "ax = games_df_ed_user.hist(bins=25, alpha=0.5,density=True,label=['games_df_ed'])\n",
    "plt.gca().set(title='User Score: games_df_ed compered to test', ylabel='Frequency',xlabel='score')\n",
    "ax.legend(prop={'size': 10});"
   ]
  },
  {
   "cell_type": "code",
   "execution_count": 17,
   "metadata": {},
   "outputs": [
    {
     "name": "stdout",
     "output_type": "stream",
     "text": [
      "alpha:    0.01\n",
      "p-value:  0.036509076726647154\n",
      "We can't reject the null hypothesis\n"
     ]
    },
    {
     "data": {
      "image/png": "[encoded data removed]",
      "text/plain": [
       "<Figure size 432x288 with 1 Axes>"
      ]
     },
     "metadata": {
      "needs_background": "light"
     },
     "output_type": "display_data"
    }
   ],
   "source": [
    "#null hypothesis - critic_score in test and critic_score in games_df_ed are equal. \n",
    "test_crit = test[(test.critic_score.notna())].critic_score\n",
    "games_df_ed_crit = games_df_ed[(games_df_ed.critic_score.notna())].critic_score\n",
    "\n",
    "alpha = 0.01  \n",
    "results = st.ttest_ind(test_crit, games_df_ed_crit)\n",
    "print('alpha:   ', alpha)\n",
    "print('p-value: ', results.pvalue)\n",
    "\n",
    "if (results.pvalue < alpha):\n",
    "    print('We reject the null hypothesis')\n",
    "else:\n",
    "    print(\"We can't reject the null hypothesis\") \n",
    "    \n",
    "ax = test_crit.hist(bins=25, alpha=0.5,density=True,label=['test'])\n",
    "ax = games_df_ed_crit.hist(bins=25, alpha=0.5,density=True,label=['games_df_ed'])\n",
    "plt.gca().set(title='Critic Score: games_df_ed compered to test', ylabel='Frequency',xlabel='score');\n",
    "ax.legend(prop={'size': 10});"
   ]
  },
  {
   "cell_type": "markdown",
   "metadata": {},
   "source": [
    "* user_score and critic_score filled in games_df_ed are equal to those in the test dataframe with 99% certainty."
   ]
  },
  {
   "cell_type": "code",
   "execution_count": 18,
   "metadata": {},
   "outputs": [
    {
     "data": {
      "text/plain": [
       "user_score         10.57\n",
       "critic_score        9.68\n",
       "rating              5.84\n",
       "year_of_release     0.89\n",
       "platform            0.00\n",
       "other_sales         0.00\n",
       "name                0.00\n",
       "na_sales            0.00\n",
       "jp_sales            0.00\n",
       "genre               0.00\n",
       "eu_sales            0.00\n",
       "dtype: float64"
      ]
     },
     "execution_count": 18,
     "metadata": {},
     "output_type": "execute_result"
    }
   ],
   "source": [
    "(round(100*(test.isnull().sum()/len(test)- games_df_ed.isnull().sum()/len(games_df_ed)),2)).dropna().sort_values(ascending=False)"
   ]
  },
  {
   "cell_type": "markdown",
   "metadata": {},
   "source": [
    "* we can see the change in the presentage of data filled by columns."
   ]
  },
  {
   "cell_type": "markdown",
   "metadata": {},
   "source": [
    "## Analyze the data"
   ]
  },
  {
   "cell_type": "code",
   "execution_count": 19,
   "metadata": {},
   "outputs": [
    {
     "data": {
      "image/png": "[encoded data removed]",
      "text/plain": [
       "<Figure size 864x432 with 2 Axes>"
      ]
     },
     "metadata": {
      "needs_background": "light"
     },
     "output_type": "display_data"
    }
   ],
   "source": [
    "# plot missing_crit_user_score and gemes released by years\n",
    "missing_user = test[test.user_score != test.user_score].year_of_release\n",
    "missing_crit = test[test.critic_score != test.critic_score].year_of_release\n",
    "game_year_release = test.year_of_release\n",
    "missing_crit_user_score = [game_year_release,missing_user, missing_crit]\n",
    "\n",
    "crit_missing_y = test[test.critic_score != test.critic_score].year_of_release.value_counts()\n",
    "crit_missing_ratio = ((crit_missing_y / test.year_of_release.value_counts())-1).abs()\n",
    "crit_missing_ratio = pd.DataFrame (crit_missing_ratio)\n",
    "\n",
    "fig, ax = plt.subplots(figsize=(12, 6))\n",
    "\n",
    "ax.hist(missing_crit_user_score, histtype='stepfilled', alpha=0.5, bins=36, label=['games released','missing user score','missing crit score'])\n",
    "ax.legend(prop={'size': 10})\n",
    "ax.set_xlabel('Year')\n",
    "ax.set_ylabel('game releases per year')\n",
    "ax.set_title('games released yearly & ratio of crit scores')\n",
    "ax.legend(loc='upper left')\n",
    "\n",
    "ax1=ax.twinx()\n",
    "ax1.plot(crit_missing_ratio,label=['ratio'],color=\"red\")\n",
    "ax1.set_ylabel(\"ratio of crit scores to games released\",color=\"red\")\n",
    "\n",
    "plt.show()"
   ]
  },
  {
   "cell_type": "markdown",
   "metadata": {},
   "source": [
    "we can see that tere are 3 distinct periods in games released per year:\n",
    "* pre 1990, small amounts of games, the beginning of the industry.\n",
    "* 1990-2000, steady growth in number of games published.\n",
    "* 2000-2010, great increase in number of games published yearly.\n",
    "* 2010-present, big dip in games publiushed in 2013-2015 than a recover in 2016."
   ]
  },
  {
   "cell_type": "markdown",
   "metadata": {},
   "source": [
    "the amount of non existing scores inputs can be devided into two groups:\n",
    "\n",
    "* Pre-2000, the scoring of game was probably underdeveloped institution therefore missing scores are close to 100%.\n",
    "* 2000-2005, best time in crit scores wise, 70-60% of games being being reviewed.\n",
    "* 2005-present, the numbers have staibalized on 40% of games being reviewed.\n",
    "\n",
    "\n",
    "* the reason for missing crit score reviews are probably because there are alot of games beeing published and to score them a critic must spend alot of hours playing and assessing the game.\n",
    "\n",
    "* the reason for missing user score reviews are probably because it is valuntary action that the users dont get compensation for."
   ]
  },
  {
   "cell_type": "code",
   "execution_count": 20,
   "metadata": {},
   "outputs": [
    {
     "name": "stdout",
     "output_type": "stream",
     "text": [
      "PS2 is the platforms with the greatest total sales of: 1255 million dollars.\n"
     ]
    },
    {
     "data": {
      "image/png": "[encoded data removed]",
      "text/plain": [
       "<Figure size 1152x288 with 1 Axes>"
      ]
     },
     "metadata": {
      "needs_background": "light"
     },
     "output_type": "display_data"
    },
    {
     "data": {
      "image/png": "[encoded data removed]",
      "text/plain": [
       "<Figure size 1152x288 with 1 Axes>"
      ]
     },
     "metadata": {
      "needs_background": "light"
     },
     "output_type": "display_data"
    }
   ],
   "source": [
    "PS2_yearly_income = games_df_ed[games_df_ed.platform == \"PS2\"].groupby('year_of_release').tot_sales.sum()\n",
    "PS2_yearly_income = pd.DataFrame (PS2_yearly_income)\n",
    "PS2_yearly_income[\"sales_of_tot\"] = 100*PS2_yearly_income.tot_sales / PS2_yearly_income.tot_sales.sum()\n",
    "PS2_yearly_income = PS2_yearly_income.reset_index()\n",
    "PS2_yearly_income[\"year_of_release\"] = PS2_yearly_income.year_of_release.dt.year\n",
    "plt_sales = games_df_ed.groupby('platform').tot_sales.sum().sort_values(ascending=False).reset_index()\n",
    "print(\"{:} is the platforms with the greatest total sales of: {:} million dollars.\".format(plt_sales.platform[0],int(plt_sales.tot_sales[0])))\n",
    "\n",
    "plt.figure(figsize=(16, 4))\n",
    "plots = sns.barplot(x=\"platform\", y=\"tot_sales\", data=plt_sales, order=plt_sales.platform)\n",
    " \n",
    "for bar in plots.patches:\n",
    "    plots.annotate(format(bar.get_height(), '.0f'),\n",
    "                   (bar.get_x() + bar.get_width() / 2,\n",
    "                    bar.get_height()), ha='center', va='center',\n",
    "                   size=8, xytext=(0, 5),\n",
    "                   textcoords='offset points')\n",
    "\n",
    "plt.xlabel(\"Platforms\", size=10)\n",
    "plt.ylabel(\"Sales\", size=10)\n",
    "plt.title(\"Platforms Income Comparrison\", size=14)\n",
    "plt.show()\n",
    "\n",
    "plt.figure(figsize=(16, 4))\n",
    "plots = sns.barplot(x=\"year_of_release\", y=\"sales_of_tot\", data=PS2_yearly_income)\n",
    " \n",
    "for bar in plots.patches:\n",
    "    plots.annotate(format(bar.get_height(), '.2f'),\n",
    "                   (bar.get_x() + bar.get_width() / 2,\n",
    "                    bar.get_height()), ha='center', va='center',\n",
    "                   size=8, xytext=(0, 5),\n",
    "                   textcoords='offset points')\n",
    "\n",
    "plt.xlabel(\"Years\", size=10)\n",
    "plt.ylabel('Percentage (%)', size=10)\n",
    "plt.title(\"PS2 Sales Distrebution Over the Years\", size=14)\n",
    "plt.show()"
   ]
  },
  {
   "cell_type": "markdown",
   "metadata": {},
   "source": [
    "* PS2 is the most profitable platform of all time.\n",
    "* It was introdused in 2000 and lasted until 2011.\n",
    "* It dominated the market between 2001-2005, afterwards it began its decline."
   ]
  },
  {
   "cell_type": "code",
   "execution_count": 21,
   "metadata": {},
   "outputs": [
    {
     "name": "stdout",
     "output_type": "stream",
     "text": [
      "All active platforms ordered by sales:\n",
      "  platform  tot_sales launch_year  lifespan\n",
      "0     X360     971.42  2003-01-01        13\n",
      "1      PS3     939.65  2005-01-01        11\n",
      "2      Wii     907.51  2005-01-01        11\n",
      "3      PS4     314.14  2013-01-01         3\n",
      "4       PC     259.52  1985-01-01        31\n",
      "5      3DS     259.00  2000-01-01        16\n",
      "6     XOne     159.32  2013-01-01         3\n",
      "7     WiiU      82.19  2012-01-01         4\n",
      "8      PSV      54.07  2008-01-01         8 \n",
      "\n",
      "Top 10 retired platforms ordered by sales:\n",
      "  platform  tot_sales launch_year  lifespan\n",
      "0      PS2    1255.77  2000-01-01        11\n",
      "1       DS     806.12  1985-01-01        28\n",
      "2       PS     730.86  1994-01-01         9\n",
      "3      GBA     317.85  2000-01-01         7\n",
      "4      PSP     294.05  2004-01-01        11\n",
      "5       XB     257.74  2000-01-01         9\n",
      "6       GB     255.46  1988-01-01        13\n",
      "7      NES     251.05  1983-01-01        11\n",
      "8      N64     218.68  1996-01-01         8\n",
      "9     SNES     200.04  1990-01-01         9\n"
     ]
    },
    {
     "data": {
      "image/png": "[encoded data removed]",
      "text/plain": [
       "<Figure size 432x144 with 1 Axes>"
      ]
     },
     "metadata": {
      "needs_background": "light"
     },
     "output_type": "display_data"
    },
    {
     "name": "stdout",
     "output_type": "stream",
     "text": [
      "longest run for retiered platform: 28 years\n",
      "platform name: DS \n",
      "\n",
      "longest run for active platform: 31 years\n",
      "platform name: PC \n",
      "\n",
      "correlation between platform profitability to its lifspan: 0.6192\n"
     ]
    }
   ],
   "source": [
    "platform_df = games_df_ed.groupby('platform').tot_sales.sum()\n",
    "platform_df = pd.DataFrame (platform_df)\n",
    "platform_df['launch_year'] =games_df_ed.groupby('platform').year_of_release.min()\n",
    "platform_df['max_year'] =games_df_ed.groupby('platform').year_of_release.max()\n",
    "platform_df['lifespan'] = platform_df['max_year'].dt.year - platform_df['launch_year'].dt.year\n",
    "\n",
    "platform_df['retired'] = False\n",
    "for i in range(len(platform_df)):\n",
    "    if platform_df['max_year'][i] == platform_df['max_year'].max():\n",
    "        platform_df['retired'][i] = False\n",
    "    else:\n",
    "        platform_df['retired'][i] = True\n",
    "\n",
    "print(\"All active platforms ordered by sales:\")\n",
    "print(platform_df[platform_df.retired == False].sort_values(by='tot_sales',ascending = False)[[\"tot_sales\",\"launch_year\",\"lifespan\"]].reset_index(),\"\\n\")\n",
    "print(\"Top 10 retired platforms ordered by sales:\")\n",
    "print(platform_df[platform_df.retired == True].sort_values(by='tot_sales',ascending = False)[[\"tot_sales\",\"launch_year\",\"lifespan\"]].head(10).reset_index())\n",
    "  \n",
    "lifspan_corr = round(platform_df[platform_df.retired == True].tot_sales.corr(platform_df[platform_df.retired == True].lifespan),4)\n",
    "ax =platform_df[ platform_df.retired ].lifespan.hist(bins = 28,figsize=(6, 2))\n",
    "ax.set_xlabel('lifespan')\n",
    "ax.set_ylabel('platforms')\n",
    "ax.set_title('Lifespan of Retiered Platforms')\n",
    "plt.show()\n",
    "\n",
    "print(\"longest run for retiered platform:\",platform_df[ platform_df.retired ].lifespan.max(),\"years\")\n",
    "print(\"platform name:\",platform_df[ platform_df.retired ].lifespan.idxmax(),\"\\n\")\n",
    "print(\"longest run for active platform:\",platform_df.lifespan.max(),\"years\")\n",
    "print(\"platform name:\",platform_df.lifespan.idxmax(),\"\\n\")\n",
    "print(\"correlation between platform profitability to its lifspan:\",lifspan_corr)"
   ]
  },
  {
   "cell_type": "markdown",
   "metadata": {},
   "source": [
    "There is great veriaty in platform lifspans:\n",
    "* Most of platforms lifspan is about 3-12 years.\n",
    "* Oldest retired platform is: DS.\n",
    "* Oldest active platform is: PC.\n",
    "* It seems there is a  strong correlation between platforms lifspan and its profitability."
   ]
  },
  {
   "cell_type": "code",
   "execution_count": 22,
   "metadata": {},
   "outputs": [
    {
     "data": {
      "image/png": "[encoded data removed]",
      "text/plain": [
       "<Figure size 648x216 with 1 Axes>"
      ]
     },
     "metadata": {
      "needs_background": "light"
     },
     "output_type": "display_data"
    },
    {
     "name": "stdout",
     "output_type": "stream",
     "text": [
      "A platform on average will make 48% of its revenue by its 3th year.\n",
      "A platform on average will make 92% of its revenue by its 7th year.\n"
     ]
    }
   ],
   "source": [
    "relevant_platforms = platform_df[platform_df['retired']].sort_values(by=['tot_sales'], ascending=False).query('tot_sales > 2').index\n",
    "platform_sale_ratio = [np.nan]*platform_df.lifespan.max()\n",
    "platform_sale_ratio = pd.DataFrame(platform_sale_ratio)\n",
    "\n",
    "for con in list(set(relevant_platforms)):\n",
    "    temp = games_df_ed[games_df_ed.platform == con].groupby('year_of_release').tot_sales.sum()\n",
    "    temp = pd.DataFrame (temp)\n",
    "    temp[\"sales_of_tot\"] = temp.tot_sales / temp.tot_sales.sum()\n",
    "    temp.reset_index(inplace=True)\n",
    "    platform_sale_ratio[con] = temp.sales_of_tot\n",
    "\n",
    "platform_sale_ratio.drop(labels=0,axis=1,inplace=True)\n",
    "platform_sale_ratio[\"average\"] = platform_sale_ratio.T.sum()/len(relevant_platforms)\n",
    "\n",
    "platform_sale_ratio[\"year\"] = list(range(1,32))\n",
    "platform_sale_ratio.set_index(\"year\",drop=True, inplace=True)\n",
    "\n",
    "ax=platform_sale_ratio.query('year < 14')[\"average\"].plot(kind=\"bar\", figsize=(9, 3));\n",
    "ax.set_ylabel('relative income')\n",
    "ax.set_title('Relative Revenue Over Average Platform Life Cycle')\n",
    "plt.show()\n",
    "\n",
    "print(\"A platform on average will make {:}% of its revenue by its 3th year.\".format(round(100*platform_sale_ratio.query('year < 4')[\"average\"].sum())))\n",
    "print(\"A platform on average will make {:}% of its revenue by its 7th year.\".format(round(100*platform_sale_ratio.query('year < 8')[\"average\"].sum())))"
   ]
  },
  {
   "cell_type": "markdown",
   "metadata": {},
   "source": [
    "How long does it generally take for new platforms to appear and old ones to fade?\n",
    "\n",
    "* I choose to check only platforms that have finished their life cycle and are retired.\n",
    "* I created df with column for every retiered platforms total income.\n",
    "* Turned the income to reletive income and ploted the yearly mean of all platforms to get a product income life cycle graph.\n",
    "\n",
    "Conclusions:\n",
    "1. In its 7th year it is the first time the revenue from a platform is lower then in its first year, on average a platform will make 92% of its revenue by its 7th year.\n",
    "\n",
    "2. the maximun yearly revenue of a platform will happen in its 3rd year."
   ]
  },
  {
   "cell_type": "markdown",
   "metadata": {},
   "source": [
    "#### Determine what period you should take data for:\n",
    "##### first lets look at the market as a whole divided by top developers:"
   ]
  },
  {
   "cell_type": "code",
   "execution_count": 23,
   "metadata": {},
   "outputs": [
    {
     "data": {
      "image/png": "[encoded data removed]",
      "text/plain": [
       "<Figure size 864x288 with 1 Axes>"
      ]
     },
     "metadata": {
      "needs_background": "light"
     },
     "output_type": "display_data"
    },
    {
     "data": {
      "image/png": "[encoded data removed]",
      "text/plain": [
       "<Figure size 864x288 with 1 Axes>"
      ]
     },
     "metadata": {
      "needs_background": "light"
     },
     "output_type": "display_data"
    },
    {
     "data": {
      "image/png": "[encoded data removed]",
      "text/plain": [
       "<Figure size 864x288 with 1 Axes>"
      ]
     },
     "metadata": {
      "needs_background": "light"
     },
     "output_type": "display_data"
    }
   ],
   "source": [
    "relevant_platforms = platform_df.sort_values(by=['tot_sales'], ascending=False).query('tot_sales > 2').index\n",
    "games_df_lean2 = games_df_ed[games_df_ed.year_of_release.dt.year > 1991]\n",
    "plat_income = games_df_lean2.loc[games_df_lean2['platform'].isin(relevant_platforms)]\n",
    "plat_income = plat_income.groupby([\"year_of_release\",\"platform\"]).tot_sales.sum().reset_index()\n",
    "plat_plot = plat_income.pivot_table(index='year_of_release', columns='platform', values='tot_sales').fillna(value=0)\n",
    "\n",
    "plat_plot_dic ={}\n",
    "for col in  list(plat_plot.columns.values):\n",
    "    plat_plot_dic[col] = plat_plot[col].tolist()    \n",
    "\n",
    "res = {key: plat_plot_dic[key] for key in plat_plot_dic.keys() & {'XB', 'X360','XOne'}}\n",
    "fig, ax4 = plt.subplots(figsize=(12, 4))\n",
    "ax4.stackplot(plat_plot.index , res.values(),labels=res.keys(), alpha=0.8)\n",
    "ax4.legend(loc='upper left')\n",
    "ax4.set_title('Gaming Platforms Profitability: Microsoft')\n",
    "ax4.set_xlabel('Year')\n",
    "ax4.set_ylabel('yearly income')\n",
    "\n",
    "res = {key: plat_plot_dic[key] for key in plat_plot_dic.keys() & {'PS', 'PS2','PS3','PS4'}}\n",
    "fig, ax4 = plt.subplots(figsize=(12, 4))\n",
    "ax4.stackplot(plat_plot.index , res.values(),labels=res.keys(), alpha=0.8)\n",
    "ax4.legend(loc='upper left')\n",
    "ax4.set_title('Gaming Platforms Profitability: Sony')\n",
    "ax4.set_xlabel('Year')\n",
    "ax4.set_ylabel('yearly income')\n",
    "\n",
    "res = {key: plat_plot_dic[key] for key in plat_plot_dic.keys() & {'Wii', 'DS', 'WiiU','3DS'}}\n",
    "fig, ax4 = plt.subplots(figsize=(12, 4))\n",
    "ax4.stackplot(plat_plot.index , res.values(),labels=res.keys(), alpha=0.8)\n",
    "ax4.legend(loc='upper left')\n",
    "ax4.set_title('Gaming Platforms Profitability: Nintendo')\n",
    "ax4.set_xlabel('Year')\n",
    "ax4.set_ylabel('yearly income')\n",
    "plt.show()"
   ]
  },
  {
   "cell_type": "markdown",
   "metadata": {},
   "source": [
    "* I chose relevant platforms to us and grouped them by developer.\n",
    "* I grouped yearly income by date and platform, them pivoted it to the proper shape.\n",
    "* than I stack ploted the related platforms to represent the change between platforms generations.\n",
    "\n",
    "Sony platforms:\n",
    "* PS - retired \n",
    "* PS2 - retired\n",
    "* PS3 - near the end of its life cycle\n",
    "* PS4 - 3 years old, PS3 successor, has growth potential\n",
    "\n",
    "Microsoft platforms:\n",
    "* XB - retired \n",
    "* X360 - near the end of its life cycle\n",
    "* XOne - 3 years old, X360 successor, has growth potential\n",
    "\n",
    "Nintendo platforms:\n",
    "* DS - retired \n",
    "* 3DS - DS successor,16 years old, no growth potential\n",
    "* Wii - at the end of its life cycle\n",
    "* WiiU - 4 years old, Wii successor, has growth potential"
   ]
  },
  {
   "cell_type": "markdown",
   "metadata": {},
   "source": [
    "* I chose to examin games from 2014-2016 trying to catch the latest trends."
   ]
  },
  {
   "cell_type": "code",
   "execution_count": 24,
   "metadata": {},
   "outputs": [
    {
     "data": {
      "text/plain": [
       "platform\n",
       "PS4     42.60\n",
       "XOne    19.62\n",
       "3DS     11.73\n",
       "PS3      7.81\n",
       "WiiU     5.43\n",
       "Name: yearly_precent, dtype: float64"
      ]
     },
     "execution_count": 24,
     "metadata": {},
     "output_type": "execute_result"
    }
   ],
   "source": [
    "#Determine what period you should take data for.\n",
    "games_df_lean = games_df_ed[games_df_ed.year_of_release.dt.year > 2013]\n",
    "plat_lean = games_df_lean.groupby(['year_of_release','platform']).tot_sales.sum()\n",
    "plat_lean = pd.DataFrame (plat_lean).reset_index()\n",
    "plat_lean['yearly_precent'] = np.nan\n",
    "\n",
    "for i in range(len(plat_lean)):\n",
    "    plat_sum = plat_lean[plat_lean.year_of_release == plat_lean['year_of_release'][i]].tot_sales.sum()\n",
    "    plat_lean['yearly_precent'][i] = 100*plat_lean['tot_sales'][i]/plat_sum\n",
    "\n",
    "#Which platforms are leading in sales? \n",
    "plat_lean.groupby('platform').yearly_precent.mean().sort_values(ascending = False).head().round(2)"
   ]
  },
  {
   "cell_type": "markdown",
   "metadata": {},
   "source": [
    "* I learned that: PS4 is the dominating platform with 42% market share."
   ]
  },
  {
   "cell_type": "code",
   "execution_count": 25,
   "metadata": {},
   "outputs": [
    {
     "data": {
      "image/png": "[encoded data removed]",
      "text/plain": [
       "<Figure size 1152x576 with 1 Axes>"
      ]
     },
     "metadata": {
      "needs_background": "light"
     },
     "output_type": "display_data"
    }
   ],
   "source": [
    "new_platforms =list(games_df_lean.groupby(\"platform\").tot_sales.sum().reset_index().query(\"tot_sales > 0\").platform)\n",
    "sales_platform = games_df_lean[games_df_lean['platform'].isin(new_platforms)]\n",
    "sales_platform.platform = sales_platform.platform.cat.remove_unused_categories()\n",
    "\n",
    "plt.figure(figsize=(16,8))\n",
    "order= sales_platform.groupby(\"platform\").tot_sales.mean().sort_values(ascending=False).index\n",
    "sns.boxplot(x='platform', y='tot_sales', data=sales_platform, order= order )\n",
    "plt.title('Box Plot of Sales by Gaming Platforms', fontsize=16)\n",
    "plt.xlabel(\"Platforms\", size=10)\n",
    "plt.ylabel('Sales in millions', size=10)\n",
    "plt.ylim(0, 9)\n",
    "plt.show()"
   ]
  },
  {
   "cell_type": "markdown",
   "metadata": {},
   "source": [
    "* boxplot of gamesales per platform, ordered by mean.\n",
    "* Wii have highest Q3 out of all the platforms, but really short tail.\n",
    "* PS4 have the highest mean out of all the platforms, the reason is the large amount of profitable games that can be seen as outliers in the graph."
   ]
  },
  {
   "cell_type": "code",
   "execution_count": 26,
   "metadata": {},
   "outputs": [
    {
     "name": "stdout",
     "output_type": "stream",
     "text": [
      "Average sales on all platforms is: 0.43\n"
     ]
    },
    {
     "data": {
      "text/html": [
       "<div>\n",
       "<style scoped>\n",
       "    .dataframe tbody tr th:only-of-type {\n",
       "        vertical-align: middle;\n",
       "    }\n",
       "\n",
       "    .dataframe tbody tr th {\n",
       "        vertical-align: top;\n",
       "    }\n",
       "\n",
       "    .dataframe thead th {\n",
       "        text-align: right;\n",
       "    }\n",
       "</style>\n",
       "<table border=\"1\" class=\"dataframe\">\n",
       "  <thead>\n",
       "    <tr style=\"text-align: right;\">\n",
       "      <th></th>\n",
       "      <th>platform</th>\n",
       "      <th>mean_sales</th>\n",
       "      <th>percent_from_tot_sales_mean</th>\n",
       "    </tr>\n",
       "  </thead>\n",
       "  <tbody>\n",
       "    <tr>\n",
       "      <th>0</th>\n",
       "      <td>PS4</td>\n",
       "      <td>0.77</td>\n",
       "      <td>77.47</td>\n",
       "    </tr>\n",
       "    <tr>\n",
       "      <th>1</th>\n",
       "      <td>XOne</td>\n",
       "      <td>0.62</td>\n",
       "      <td>42.56</td>\n",
       "    </tr>\n",
       "    <tr>\n",
       "      <th>2</th>\n",
       "      <td>WiiU</td>\n",
       "      <td>0.59</td>\n",
       "      <td>36.34</td>\n",
       "    </tr>\n",
       "    <tr>\n",
       "      <th>3</th>\n",
       "      <td>Wii</td>\n",
       "      <td>0.46</td>\n",
       "      <td>6.73</td>\n",
       "    </tr>\n",
       "    <tr>\n",
       "      <th>4</th>\n",
       "      <td>X360</td>\n",
       "      <td>0.43</td>\n",
       "      <td>0.60</td>\n",
       "    </tr>\n",
       "    <tr>\n",
       "      <th>5</th>\n",
       "      <td>3DS</td>\n",
       "      <td>0.41</td>\n",
       "      <td>-5.32</td>\n",
       "    </tr>\n",
       "    <tr>\n",
       "      <th>6</th>\n",
       "      <td>PS3</td>\n",
       "      <td>0.31</td>\n",
       "      <td>-27.91</td>\n",
       "    </tr>\n",
       "    <tr>\n",
       "      <th>7</th>\n",
       "      <td>PC</td>\n",
       "      <td>0.18</td>\n",
       "      <td>-58.26</td>\n",
       "    </tr>\n",
       "    <tr>\n",
       "      <th>8</th>\n",
       "      <td>PSV</td>\n",
       "      <td>0.08</td>\n",
       "      <td>-82.42</td>\n",
       "    </tr>\n",
       "    <tr>\n",
       "      <th>9</th>\n",
       "      <td>PSP</td>\n",
       "      <td>0.03</td>\n",
       "      <td>-93.59</td>\n",
       "    </tr>\n",
       "  </tbody>\n",
       "</table>\n",
       "</div>"
      ],
      "text/plain": [
       "  platform  mean_sales  percent_from_tot_sales_mean\n",
       "0      PS4        0.77                        77.47\n",
       "1     XOne        0.62                        42.56\n",
       "2     WiiU        0.59                        36.34\n",
       "3      Wii        0.46                         6.73\n",
       "4     X360        0.43                         0.60\n",
       "5      3DS        0.41                        -5.32\n",
       "6      PS3        0.31                       -27.91\n",
       "7       PC        0.18                       -58.26\n",
       "8      PSV        0.08                       -82.42\n",
       "9      PSP        0.03                       -93.59"
      ]
     },
     "execution_count": 26,
     "metadata": {},
     "output_type": "execute_result"
    }
   ],
   "source": [
    "average_sales = sales_platform.groupby(\"platform\").tot_sales.mean().sort_values(ascending=False).reset_index()\n",
    "average_sales.columns = [\"platform\", \"mean_sales\"]\n",
    "average_sales[\"percent_from_tot_sales_mean\"] = 100*((average_sales.mean_sales/sales_platform.tot_sales.mean())-1)\n",
    "print(\"Average sales on all platforms is:\",round(sales_platform.tot_sales.mean(),2))\n",
    "average_sales.round(2)"
   ]
  },
  {
   "cell_type": "markdown",
   "metadata": {},
   "source": [
    "* PS4, XOne and WiiU are overperforming in games sales compared to the markets average."
   ]
  },
  {
   "cell_type": "code",
   "execution_count": 27,
   "metadata": {},
   "outputs": [
    {
     "name": "stdout",
     "output_type": "stream",
     "text": [
      "Largest number of sales: PS4\n"
     ]
    }
   ],
   "source": [
    "print(\"Largest number of sales:\",games_df_lean.groupby('platform').tot_sales.count().sort_values(ascending=False).idxmax())"
   ]
  },
  {
   "cell_type": "markdown",
   "metadata": {},
   "source": [
    "* I chose to compare user and professional reviews affect on sales for the platform with sale data: PS4"
   ]
  },
  {
   "cell_type": "markdown",
   "metadata": {},
   "source": [
    "#### I chose to compare user and professional reviews affect on sales for 'PS4' platform."
   ]
  },
  {
   "cell_type": "code",
   "execution_count": 28,
   "metadata": {},
   "outputs": [
    {
     "name": "stdout",
     "output_type": "stream",
     "text": [
      "User and professional reviews affect on sales for PS4:\n"
     ]
    },
    {
     "data": {
      "image/png": "[encoded data removed]",
      "text/plain": [
       "<Figure size 1008x288 with 2 Axes>"
      ]
     },
     "metadata": {
      "needs_background": "light"
     },
     "output_type": "display_data"
    },
    {
     "name": "stdout",
     "output_type": "stream",
     "text": [
      "           tot_sales  critic_score  user_score\n",
      "tot_sales        1.0      0.353668   -0.053648 \n",
      "\n",
      "---------------------------------------------------------------------------------------------\n",
      "\n",
      "User and professional reviews affect on sales for XOne:\n"
     ]
    },
    {
     "data": {
      "image/png": "[encoded data removed]",
      "text/plain": [
       "<Figure size 1008x288 with 2 Axes>"
      ]
     },
     "metadata": {
      "needs_background": "light"
     },
     "output_type": "display_data"
    },
    {
     "name": "stdout",
     "output_type": "stream",
     "text": [
      "           tot_sales  critic_score  user_score\n",
      "tot_sales        1.0      0.347311   -0.101439 \n",
      "\n",
      "---------------------------------------------------------------------------------------------\n",
      "\n",
      "User and professional reviews affect on sales for WiiU:\n"
     ]
    },
    {
     "data": {
      "image/png": "[encoded data removed]",
      "text/plain": [
       "<Figure size 1008x288 with 2 Axes>"
      ]
     },
     "metadata": {
      "needs_background": "light"
     },
     "output_type": "display_data"
    },
    {
     "name": "stdout",
     "output_type": "stream",
     "text": [
      "           tot_sales  critic_score  user_score\n",
      "tot_sales        1.0      0.372662    0.386228 \n",
      "\n"
     ]
    }
   ],
   "source": [
    "nintendo_ds = games_df_lean[games_df_lean.platform == \"PS4\"][[ \"tot_sales\", \"critic_score\", \"user_score\"]]\n",
    "ds_corr = nintendo_ds.corr()\n",
    "ds_ratio = round(100*(ds_corr.critic_score[0]/ds_corr.user_score[0]-1))\n",
    "\n",
    "print(\"User and professional reviews affect on sales for PS4:\")\n",
    "fig, ax = plt.subplots(1,2,figsize=(14, 4))\n",
    "ax[0].scatter(nintendo_ds.critic_score, nintendo_ds.tot_sales,alpha=0.4 )\n",
    "ax[0].set_xlabel('critics score')\n",
    "ax[0].set_ylabel('revenue')\n",
    "ax[0].set_title('score to revenue: critics ')\n",
    "\n",
    "ax[1].scatter(nintendo_ds.user_score, nintendo_ds.tot_sales,alpha=0.4)\n",
    "ax[1].set_xlabel('user score')\n",
    "ax[1].set_ylabel('revenue')\n",
    "ax[1].set_title('score to revenue: user ')\n",
    "plt.show()\n",
    "\n",
    "print(ds_corr.head(1),\"\\n\")\n",
    "print(\"---------------------------------------------------------------------------------------------\\n\")\n",
    "\n",
    "#ds_game_list = games_df_lean[games_df_lean.platform == \"PS4\"].name\n",
    "#ds_games_df = games_df_lean.loc[games_df_lean.name.isin(ds_game_list)]\n",
    "nintendo_ds = games_df_lean[games_df_lean.platform == \"XOne\"][[ \"tot_sales\", \"critic_score\", \"user_score\"]]\n",
    "ds_corr = nintendo_ds.corr()\n",
    "ds_ratio = round(100*(ds_corr.critic_score[0]/ds_corr.user_score[0]-1))\n",
    "\n",
    "print(\"User and professional reviews affect on sales for XOne:\")\n",
    "fig, ax = plt.subplots(1,2,figsize=(14, 4))\n",
    "ax[0].scatter(nintendo_ds.critic_score, nintendo_ds.tot_sales,alpha=0.4 )\n",
    "ax[0].set_xlabel('critics score')\n",
    "ax[0].set_ylabel('revenue')\n",
    "ax[0].set_title('score to revenue: critics ')\n",
    "\n",
    "ax[1].scatter(nintendo_ds.user_score, nintendo_ds.tot_sales,alpha=0.4)\n",
    "ax[1].set_xlabel('user score')\n",
    "ax[1].set_ylabel('revenue')\n",
    "ax[1].set_title('score to revenue: user ')\n",
    "plt.show()\n",
    "\n",
    "print(ds_corr.head(1),\"\\n\")\n",
    "print(\"---------------------------------------------------------------------------------------------\\n\")\n",
    "\n",
    "#ds_game_list = games_df_lean[games_df_lean.platform == \"PS4\"].name\n",
    "#ds_games_df = games_df_lean.loc[games_df_lean.name.isin(ds_game_list)]\n",
    "nintendo_ds = games_df_lean[games_df_lean.platform == \"WiiU\"][[ \"tot_sales\", \"critic_score\", \"user_score\"]]\n",
    "ds_corr = nintendo_ds.corr()\n",
    "ds_ratio = round(100*(ds_corr.critic_score[0]/ds_corr.user_score[0]-1))\n",
    "\n",
    "print(\"User and professional reviews affect on sales for WiiU:\")\n",
    "fig, ax = plt.subplots(1,2,figsize=(14, 4))\n",
    "ax[0].scatter(nintendo_ds.critic_score, nintendo_ds.tot_sales,alpha=0.4 )\n",
    "ax[0].set_xlabel('critics score')\n",
    "ax[0].set_ylabel('revenue')\n",
    "ax[0].set_title('score to revenue: critics ')\n",
    "\n",
    "ax[1].scatter(nintendo_ds.user_score, nintendo_ds.tot_sales,alpha=0.4)\n",
    "ax[1].set_xlabel('user score')\n",
    "ax[1].set_ylabel('revenue')\n",
    "ax[1].set_title('score to revenue: user ')\n",
    "plt.show()\n",
    "\n",
    "print(ds_corr.head(1),\"\\n\")"
   ]
  },
  {
   "cell_type": "markdown",
   "metadata": {},
   "source": [
    "PS4: \n",
    "* User score has no correlation to sales, the conclusion is that users score cannot predict games success financially.\n",
    "* Critics score has positive corelation with games success, we can asume that they are doing a good job assessing games quality.\n",
    "\n",
    "\n",
    "XOne: \n",
    "* User score has negetive correlation to sales, the conclusion is that users score cannot predict games success financially.\n",
    "* Critics score has positive corelation with games success, we can asume that they are doing a good job assessing games quality.\n",
    "\n",
    "WiiU: \n",
    "* Critics score and user scores has positive corelation with games success, we can asume that they are doing a good job assessing games quality."
   ]
  },
  {
   "cell_type": "markdown",
   "metadata": {},
   "source": [
    "#### compare the sales of the same games on other platforms:"
   ]
  },
  {
   "cell_type": "code",
   "execution_count": 29,
   "metadata": {},
   "outputs": [
    {
     "name": "stdout",
     "output_type": "stream",
     "text": [
      "PS4 games revenue share by platform is:\n",
      "platform\n",
      "PS4     52.80\n",
      "XOne    21.34\n",
      "PS3     10.28\n",
      "X360     7.34\n",
      "PC       3.35\n",
      "PSV      1.84\n",
      "dtype: float64\n"
     ]
    }
   ],
   "source": [
    "ds_game_list = games_df_lean[games_df_lean.platform == \"PS4\"].name\n",
    "ds_games_cross_plat = games_df_lean.pivot_table(index='name', columns='platform', values='tot_sales').fillna(value=0)\n",
    "ds_games_cross_plat = ds_games_cross_plat.loc[ds_games_cross_plat.index.isin(ds_game_list)]\n",
    "ds_games_share_ratio = round((100*ds_games_cross_plat.sum()/ds_games_cross_plat.sum().sum()),2).sort_values(ascending = False)\n",
    "\n",
    "print(\"PS4 games revenue share by platform is:\")\n",
    "print(ds_games_share_ratio.head(6))"
   ]
  },
  {
   "cell_type": "markdown",
   "metadata": {},
   "source": [
    "* Games that are present on the 'PS4' platform are mostly being played on 'PS4' with more than 52% of all game sales share."
   ]
  },
  {
   "cell_type": "code",
   "execution_count": 30,
   "metadata": {},
   "outputs": [
    {
     "data": {
      "text/html": [
       "<div>\n",
       "<style scoped>\n",
       "    .dataframe tbody tr th:only-of-type {\n",
       "        vertical-align: middle;\n",
       "    }\n",
       "\n",
       "    .dataframe tbody tr th {\n",
       "        vertical-align: top;\n",
       "    }\n",
       "\n",
       "    .dataframe thead th {\n",
       "        text-align: right;\n",
       "    }\n",
       "</style>\n",
       "<table border=\"1\" class=\"dataframe\">\n",
       "  <thead>\n",
       "    <tr style=\"text-align: right;\">\n",
       "      <th></th>\n",
       "      <th>genre</th>\n",
       "      <th>game_count</th>\n",
       "      <th>game_ratio</th>\n",
       "      <th>tot_sales</th>\n",
       "      <th>tot_sales_ratio</th>\n",
       "      <th>profitability_ratio</th>\n",
       "    </tr>\n",
       "  </thead>\n",
       "  <tbody>\n",
       "    <tr>\n",
       "      <th>8</th>\n",
       "      <td>Shooter</td>\n",
       "      <td>128</td>\n",
       "      <td>7.573964</td>\n",
       "      <td>170.94</td>\n",
       "      <td>23.422856</td>\n",
       "      <td>3.092549</td>\n",
       "    </tr>\n",
       "    <tr>\n",
       "      <th>10</th>\n",
       "      <td>Sports</td>\n",
       "      <td>161</td>\n",
       "      <td>9.526627</td>\n",
       "      <td>109.48</td>\n",
       "      <td>15.001370</td>\n",
       "      <td>1.574678</td>\n",
       "    </tr>\n",
       "    <tr>\n",
       "      <th>4</th>\n",
       "      <td>Platform</td>\n",
       "      <td>38</td>\n",
       "      <td>2.248521</td>\n",
       "      <td>18.09</td>\n",
       "      <td>2.478761</td>\n",
       "      <td>1.102396</td>\n",
       "    </tr>\n",
       "    <tr>\n",
       "      <th>2</th>\n",
       "      <td>Fighting</td>\n",
       "      <td>60</td>\n",
       "      <td>3.550296</td>\n",
       "      <td>28.22</td>\n",
       "      <td>3.866813</td>\n",
       "      <td>1.089152</td>\n",
       "    </tr>\n",
       "    <tr>\n",
       "      <th>7</th>\n",
       "      <td>Role-Playing</td>\n",
       "      <td>221</td>\n",
       "      <td>13.076923</td>\n",
       "      <td>101.44</td>\n",
       "      <td>13.899699</td>\n",
       "      <td>1.062918</td>\n",
       "    </tr>\n",
       "  </tbody>\n",
       "</table>\n",
       "</div>"
      ],
      "text/plain": [
       "           genre  game_count  game_ratio  tot_sales  tot_sales_ratio  \\\n",
       "8        Shooter         128    7.573964     170.94        23.422856   \n",
       "10        Sports         161    9.526627     109.48        15.001370   \n",
       "4       Platform          38    2.248521      18.09         2.478761   \n",
       "2       Fighting          60    3.550296      28.22         3.866813   \n",
       "7   Role-Playing         221   13.076923     101.44        13.899699   \n",
       "\n",
       "    profitability_ratio  \n",
       "8              3.092549  \n",
       "10             1.574678  \n",
       "4              1.102396  \n",
       "2              1.089152  \n",
       "7              1.062918  "
      ]
     },
     "execution_count": 30,
     "metadata": {},
     "output_type": "execute_result"
    }
   ],
   "source": [
    "genre_df = games_df_lean.groupby(\"genre\").index.count()\n",
    "genre_df= pd.DataFrame (genre_df).reset_index()\n",
    "genre_df.columns = [\"genre\", \"game_count\"]\n",
    "genre_df[\"game_ratio\"] = 100*genre_df.game_count / genre_df.game_count.sum()\n",
    "\n",
    "genre_df2 =games_df_lean.groupby(\"genre\").tot_sales.sum().reset_index()\n",
    "genre_df2.columns = [\"genre\", \"tot_sales\"]\n",
    "genre_df2[\"tot_sales_ratio\"] = 100*genre_df2.tot_sales / genre_df2.tot_sales.sum()\n",
    "\n",
    "genre_df = pd.merge(left = genre_df , right = genre_df2, how='outer',on='genre')\n",
    "genre_df = genre_df.set_index(\"genre\")\n",
    "genre_df[\"profitability_ratio\"] = genre_df.tot_sales_ratio/genre_df.game_ratio\n",
    "\n",
    "genre_df.reset_index().sort_values(\"profitability_ratio\",ascending=False).head()"
   ]
  },
  {
   "cell_type": "markdown",
   "metadata": {},
   "source": [
    "* I grouped games by genere, counted games and total sales and calculated their share as well as the profitabillity ratio."
   ]
  },
  {
   "cell_type": "code",
   "execution_count": 31,
   "metadata": {},
   "outputs": [
    {
     "data": {
      "image/png": "[encoded data removed]",
      "text/plain": [
       "<Figure size 1152x432 with 2 Axes>"
      ]
     },
     "metadata": {},
     "output_type": "display_data"
    },
    {
     "data": {
      "image/png": "[encoded data removed]",
      "text/plain": [
       "<Figure size 1008x288 with 1 Axes>"
      ]
     },
     "metadata": {
      "needs_background": "light"
     },
     "output_type": "display_data"
    }
   ],
   "source": [
    "fig, ax = plt.subplots(1,2,figsize=(16, 6))\n",
    "ax[0].pie( genre_df.game_count.sort_values(ascending=False), labels=genre_df.game_count.sort_values(ascending=False).index )\n",
    "ax[0].set_title('Number of Games by Genre',fontsize=16)\n",
    "ax[1].pie(genre_df.tot_sales.sort_values(ascending=False),labels=genre_df.tot_sales.sort_values(ascending=False).index )\n",
    "ax[1].set_title('Revenue of Games by Genre', fontsize=16)\n",
    "\n",
    "fig2, ax1 = plt.subplots(1,1,figsize=(14, 4))\n",
    "ax1.bar( genre_df.profitability_ratio.sort_values(ascending=False).index, genre_df.profitability_ratio.sort_values(ascending=False))\n",
    "plt.gca().set(title='Profitability Ratio by Genre', ylabel='Profitability Ratio',xlabel='Platforms');\n",
    "plt.show()"
   ]
  },
  {
   "cell_type": "markdown",
   "metadata": {},
   "source": [
    "* Most profitable genres are those with the greatest revenue and the smallest number of games.\n",
    "* Shooter is 3 times more profitable than other genres.\n",
    "* Sports  is 1.5 times more profitable than other genres.\n",
    "* Action Sports and Shooters genres are with the highest sales.\n",
    "* Strategy Puzzle and Simulation genres are with the lowest sales.\n",
    "* My assumption is that Strategy Puzzle and Simulation are slower paced games and with steeper learning curve compered to Action Sports and Shooters and therfore are more of a niche genres."
   ]
  },
  {
   "cell_type": "markdown",
   "metadata": {},
   "source": [
    "## Create a user profile for each region\n",
    "For each region (NA, EU, JP), determine:\n",
    "* The top five platforms. Describe variations in their market shares from region to region.\n",
    "* The top five genres. Explain the difference.\n",
    "* Do ESRB ratings affect sales in individual regions?"
   ]
  },
  {
   "cell_type": "code",
   "execution_count": 32,
   "metadata": {},
   "outputs": [
    {
     "data": {
      "image/png": "[encoded data removed]",
      "text/plain": [
       "<Figure size 360x360 with 1 Axes>"
      ]
     },
     "metadata": {},
     "output_type": "display_data"
    }
   ],
   "source": [
    "regional_share = games_df_lean[['na_sales','eu_sales','jp_sales','other_sales']].sum().reset_index()\n",
    "regional_share = pd.DataFrame (regional_share)\n",
    "regional_share.columns = [\"region\",\"sales\"]\n",
    "regional_share.region = [\"NA\", \"EU\", \"JP\", \"Other\"]\n",
    "regional_share[\"share\"] = 100*regional_share.sales / regional_share.sales.sum()\n",
    "regional_share\n",
    "\n",
    "fig, ax = plt.subplots(1,1,figsize=(5, 5))\n",
    "ax.pie(regional_share.sales , labels=round(regional_share.share,2) )\n",
    "ax.set_title('Revenue by Region', fontsize=14)\n",
    "ax.legend(regional_share.region,prop={'size': 10}, loc = 'center')\n",
    "plt.show()"
   ]
  },
  {
   "cell_type": "markdown",
   "metadata": {},
   "source": [
    "* NA and EU are roughly same size market share.\n",
    "* NA and EU together represent 76% of the gaming market.\n",
    "* JP and other also are with similar market share."
   ]
  },
  {
   "cell_type": "code",
   "execution_count": 33,
   "metadata": {},
   "outputs": [
    {
     "data": {
      "text/html": [
       "<div>\n",
       "<style scoped>\n",
       "    .dataframe tbody tr th:only-of-type {\n",
       "        vertical-align: middle;\n",
       "    }\n",
       "\n",
       "    .dataframe tbody tr th {\n",
       "        vertical-align: top;\n",
       "    }\n",
       "\n",
       "    .dataframe thead tr th {\n",
       "        text-align: left;\n",
       "    }\n",
       "</style>\n",
       "<table border=\"1\" class=\"dataframe\">\n",
       "  <thead>\n",
       "    <tr>\n",
       "      <th>regions</th>\n",
       "      <th colspan=\"4\" halign=\"left\">NA</th>\n",
       "      <th colspan=\"4\" halign=\"left\">EU</th>\n",
       "      <th colspan=\"4\" halign=\"left\">JP</th>\n",
       "    </tr>\n",
       "    <tr>\n",
       "      <th>ranking</th>\n",
       "      <th>platform</th>\n",
       "      <th>p_share</th>\n",
       "      <th>genre</th>\n",
       "      <th>g_share</th>\n",
       "      <th>platform</th>\n",
       "      <th>p_share</th>\n",
       "      <th>genre</th>\n",
       "      <th>g_share</th>\n",
       "      <th>platform</th>\n",
       "      <th>p_share</th>\n",
       "      <th>genre</th>\n",
       "      <th>g_share</th>\n",
       "    </tr>\n",
       "  </thead>\n",
       "  <tbody>\n",
       "    <tr>\n",
       "      <th>1</th>\n",
       "      <td>PS4</td>\n",
       "      <td>34.71</td>\n",
       "      <td>Shooter</td>\n",
       "      <td>27.81</td>\n",
       "      <td>PS4</td>\n",
       "      <td>48.00</td>\n",
       "      <td>Action</td>\n",
       "      <td>48.00</td>\n",
       "      <td>3DS</td>\n",
       "      <td>47.52</td>\n",
       "      <td>Role-Playing</td>\n",
       "      <td>47.52</td>\n",
       "    </tr>\n",
       "    <tr>\n",
       "      <th>2</th>\n",
       "      <td>XOne</td>\n",
       "      <td>28.60</td>\n",
       "      <td>Action</td>\n",
       "      <td>25.55</td>\n",
       "      <td>XOne</td>\n",
       "      <td>17.07</td>\n",
       "      <td>Shooter</td>\n",
       "      <td>17.07</td>\n",
       "      <td>PS4</td>\n",
       "      <td>16.13</td>\n",
       "      <td>Action</td>\n",
       "      <td>16.13</td>\n",
       "    </tr>\n",
       "    <tr>\n",
       "      <th>3</th>\n",
       "      <td>X360</td>\n",
       "      <td>9.96</td>\n",
       "      <td>Sports</td>\n",
       "      <td>16.24</td>\n",
       "      <td>PS3</td>\n",
       "      <td>9.43</td>\n",
       "      <td>Sports</td>\n",
       "      <td>9.43</td>\n",
       "      <td>PSV</td>\n",
       "      <td>15.62</td>\n",
       "      <td>Fighting</td>\n",
       "      <td>15.62</td>\n",
       "    </tr>\n",
       "    <tr>\n",
       "      <th>4</th>\n",
       "      <td>3DS</td>\n",
       "      <td>7.97</td>\n",
       "      <td>Role-Playing</td>\n",
       "      <td>11.78</td>\n",
       "      <td>PC</td>\n",
       "      <td>6.72</td>\n",
       "      <td>Role-Playing</td>\n",
       "      <td>6.72</td>\n",
       "      <td>PS3</td>\n",
       "      <td>12.05</td>\n",
       "      <td>Misc</td>\n",
       "      <td>12.05</td>\n",
       "    </tr>\n",
       "    <tr>\n",
       "      <th>5</th>\n",
       "      <td>PS3</td>\n",
       "      <td>7.76</td>\n",
       "      <td>Misc</td>\n",
       "      <td>5.30</td>\n",
       "      <td>3DS</td>\n",
       "      <td>5.95</td>\n",
       "      <td>Racing</td>\n",
       "      <td>5.95</td>\n",
       "      <td>WiiU</td>\n",
       "      <td>7.85</td>\n",
       "      <td>Shooter</td>\n",
       "      <td>7.85</td>\n",
       "    </tr>\n",
       "  </tbody>\n",
       "</table>\n",
       "</div>"
      ],
      "text/plain": [
       "regions       NA                                     EU                        \\\n",
       "ranking platform p_share         genre g_share platform p_share         genre   \n",
       "1            PS4   34.71       Shooter   27.81      PS4   48.00        Action   \n",
       "2           XOne   28.60        Action   25.55     XOne   17.07       Shooter   \n",
       "3           X360    9.96        Sports   16.24      PS3    9.43        Sports   \n",
       "4            3DS    7.97  Role-Playing   11.78       PC    6.72  Role-Playing   \n",
       "5            PS3    7.76          Misc    5.30      3DS    5.95        Racing   \n",
       "\n",
       "regions               JP                                \n",
       "ranking g_share platform p_share         genre g_share  \n",
       "1         48.00      3DS   47.52  Role-Playing   47.52  \n",
       "2         17.07      PS4   16.13        Action   16.13  \n",
       "3          9.43      PSV   15.62      Fighting   15.62  \n",
       "4          6.72      PS3   12.05          Misc   12.05  \n",
       "5          5.95     WiiU    7.85       Shooter    7.85  "
      ]
     },
     "execution_count": 33,
     "metadata": {},
     "output_type": "execute_result"
    }
   ],
   "source": [
    "NA_top_plat = games_df_lean.groupby(\"platform\").na_sales.sum().sort_values(ascending=False).reset_index()\n",
    "NA_top_plat.na_sales = round(100*NA_top_plat.na_sales/NA_top_plat.na_sales.sum(),2)\n",
    "NA_top_gnere = games_df_lean.groupby(\"genre\").na_sales.sum().sort_values(ascending=False).reset_index()\n",
    "NA_top_gnere.na_sales = round(100*NA_top_gnere.na_sales/NA_top_gnere.na_sales.sum(),2)\n",
    "header = pd.MultiIndex.from_product([['NA'], ['platform','p_share','genre','g_share']], names=['regions','ranking'])\n",
    "NA_top = pd.merge(left = NA_top_plat , right = NA_top_gnere, left_index=True, right_index=True,how='outer')\n",
    "NA_top.columns=header\n",
    "\n",
    "EU_top_plat = games_df_lean.groupby(\"platform\").eu_sales.sum().sort_values(ascending=False).reset_index()\n",
    "EU_top_plat.eu_sales = round(100*EU_top_plat.eu_sales/EU_top_plat.eu_sales.sum(),2)\n",
    "EU_top_gnere = games_df_lean.groupby(\"genre\").eu_sales.sum().sort_values(ascending=False).reset_index()\n",
    "EU_top_gnere.eu_sales = round(100*EU_top_plat.eu_sales/EU_top_plat.eu_sales.sum(),2)\n",
    "header = pd.MultiIndex.from_product([['EU'], ['platform','p_share','genre','g_share']], names=['regions','ranking'])\n",
    "EU_top = pd.merge(left = EU_top_plat , right = EU_top_gnere, left_index=True, right_index=True,how='outer')\n",
    "EU_top.columns=header\n",
    "\n",
    "JP_top_plat = games_df_lean.groupby(\"platform\").jp_sales.sum().sort_values(ascending=False).reset_index()\n",
    "JP_top_plat.jp_sales = round(100*JP_top_plat.jp_sales/JP_top_plat.jp_sales.sum(),2)\n",
    "JP_top_gnere = games_df_lean.groupby(\"genre\").jp_sales.sum().sort_values(ascending=False).reset_index()\n",
    "JP_top_gnere.jp_sales = round(100*JP_top_plat.jp_sales/JP_top_plat.jp_sales.sum(),2)\n",
    "header = pd.MultiIndex.from_product([['JP'], ['platform','p_share','genre','g_share']], names=['regions','ranking'])\n",
    "JP_top = pd.merge(left = JP_top_plat , right = JP_top_gnere, left_index=True, right_index=True,how='outer')\n",
    "JP_top.columns=header\n",
    "\n",
    "region_compare = pd.merge(left = NA_top , right = EU_top, left_index=True, right_index=True,how='outer')\n",
    "region_compare = pd.merge(left = region_compare , right = JP_top, left_index=True, right_index=True,how='outer')\n",
    "region_compare = region_compare.set_index([list(range(1,len(region_compare)+1))])\n",
    "region_compare.head()"
   ]
  },
  {
   "cell_type": "markdown",
   "metadata": {},
   "source": [
    "When comparing regions we can see that NA and EU are very similar while JP is very much distinct in nature.\n",
    "\n",
    "Platforms:\n",
    "* PS4 and XOne are 1st and 2nd most popular platforms in NA and EU.\n",
    "* X360 is present only in NA top 5 platforms.\n",
    "* PC is present only in EU top 5 platforms.\n",
    "* 3DS is most popular platforms in JP, and it is also portable.\n",
    "* 2 out of top 5 platforms in JP are portable.\n",
    "* XOne is not present in JP top 5 platforms.\n",
    "* all top 5 platforms in JP region belong to japanese company, here is an article explaining the reasons why: https://www.japan-zone.com/features/103_why_xbox_failed_in_japan.shtml\n",
    "\n",
    "Genres:\n",
    "* NA and EU have the same top 4 genres and in a different order.\n",
    "* 'Role-Playing' is 1st genre in JP while only 4th in NA and EU.\n",
    "* 'Fighting' is is only present in JP top 5.\n",
    "\n",
    "Regions:\n",
    "* NA has more balanced distribution of platforms and genres.\n",
    "* EU has strong preferance to PS4 and Action games.\n",
    "* JP has strong preferance to 3DS and Role-Playing games."
   ]
  },
  {
   "cell_type": "code",
   "execution_count": 34,
   "metadata": {},
   "outputs": [
    {
     "data": {
      "image/png": "[encoded data removed]",
      "text/plain": [
       "<Figure size 864x324 with 1 Axes>"
      ]
     },
     "metadata": {
      "needs_background": "light"
     },
     "output_type": "display_data"
    },
    {
     "data": {
      "image/png": "[encoded data removed]",
      "text/plain": [
       "<Figure size 864x324 with 1 Axes>"
      ]
     },
     "metadata": {
      "needs_background": "light"
     },
     "output_type": "display_data"
    },
    {
     "data": {
      "image/png": "[encoded data removed]",
      "text/plain": [
       "<Figure size 864x324 with 1 Axes>"
      ]
     },
     "metadata": {
      "needs_background": "light"
     },
     "output_type": "display_data"
    },
    {
     "name": "stdout",
     "output_type": "stream",
     "text": [
      "NA sales correlation to rating: 0.0943\n",
      "EU sales correlation to rating: 0.0615\n",
      "JP sales correlation to rating: -0.0119\n"
     ]
    }
   ],
   "source": [
    "ax = games_df_lean.boxplot(column=['na_sales'],by='rating_numeric',vert=False,figsize=(12, 4.5))\n",
    "ax.set_xlim(0, 3)\n",
    "ax.set_ylabel('rating')\n",
    "ax.set_xlabel('revenue')\n",
    "plt.show()\n",
    "\n",
    "ax = games_df_lean.boxplot(column=['eu_sales'],by='rating_numeric',vert=False,figsize=(12, 4.5))\n",
    "ax.set_xlim(0, 3)\n",
    "ax.set_ylabel('rating')\n",
    "ax.set_xlabel('revenue')\n",
    "plt.show()\n",
    "\n",
    "ax = games_df_lean.boxplot(column=['jp_sales'],by='rating_numeric',vert=False,figsize=(12, 4.5))\n",
    "ax.set_xlim(0, 3)\n",
    "ax.set_ylabel('rating')\n",
    "ax.set_xlabel('revenue')\n",
    "plt.show()\n",
    "\n",
    "na_corr = round(games_df_lean.na_sales.corr(games_df_lean.rating_numeric),4)\n",
    "eu_corr = round(games_df_lean.eu_sales.corr(games_df_lean.rating_numeric),4)\n",
    "jp_corr = round(games_df_lean.jp_sales.corr(games_df_lean.rating_numeric),4)\n",
    "\n",
    "print(\"NA sales correlation to rating:\",na_corr)\n",
    "print(\"EU sales correlation to rating:\",eu_corr)\n",
    "print(\"JP sales correlation to rating:\",jp_corr)"
   ]
  },
  {
   "cell_type": "markdown",
   "metadata": {},
   "source": [
    "* The correlation of ESRB rating to a games revenue is close to zero in all rigions.\n",
    "* The correlation is positive in NA and EU which means that mature content in video games have little but positive impact on sales.\n",
    "* Mature ESRB rating (M,4) in NA and EU have the highest sales median and Q3."
   ]
  },
  {
   "cell_type": "markdown",
   "metadata": {},
   "source": [
    "## Test the following hypotheses:\n",
    "* Average user ratings of the Xbox One and PC platforms are the same.\n",
    "* Average user ratings for the Action and Sports genres are different.\n",
    "\n",
    "Set the alpha threshold value yourself:\n",
    "* How you formulated the null and alternative hypotheses\n",
    "* What significance level you chose to test the hypotheses, and why"
   ]
  },
  {
   "cell_type": "code",
   "execution_count": 35,
   "metadata": {},
   "outputs": [
    {
     "name": "stdout",
     "output_type": "stream",
     "text": [
      "Null Hypothesis:\n",
      "There are no statistical significant differences between the average user ratings by the platform Xbox One and PC platform.\n",
      "\n",
      "Alternative Hypothesis:\n",
      "There is statistical significant differences between the average user ratings by the platform Xbox One and PC platform.\n",
      "\n",
      "Critical level of statistical significance that we will use: 0.01\n",
      "\n",
      "Test the Hypotheses:\n",
      "XOne user score mean: 66.4\n",
      "PC user score mean:   63.1\n",
      "alpha:                0.01\n",
      "p-value:              0.06147603132323841\n"
     ]
    },
    {
     "data": {
      "image/png": "[encoded data removed]",
      "text/plain": [
       "<Figure size 432x288 with 1 Axes>"
      ]
     },
     "metadata": {
      "needs_background": "light"
     },
     "output_type": "display_data"
    },
    {
     "name": "stdout",
     "output_type": "stream",
     "text": [
      "We can't reject the null hypothesis\n"
     ]
    }
   ],
   "source": [
    "print(\"Null Hypothesis:\\nThere are no statistical significant differences between the average user ratings by the platform Xbox One and PC platform.\")\n",
    "print(\"\\nAlternative Hypothesis:\\nThere is statistical significant differences between the average user ratings by the platform Xbox One and PC platform.\")\n",
    "print(\"\\nCritical level of statistical significance that we will use: 0.01\")\n",
    "\n",
    "XOne = games_df_lean[(games_df_lean.platform == \"XOne\" )& (games_df_lean.user_score.notna())].user_score\n",
    "PC = games_df_lean[(games_df_lean.platform == \"PC\" )& (games_df_lean.user_score.notna())].user_score\n",
    "alpha = 0.01  \n",
    "results = st.ttest_ind(XOne, PC)\n",
    "\n",
    "print(\"\\nTest the Hypotheses:\")\n",
    "print(\"XOne user score mean:\",round(XOne.mean(),1))\n",
    "print(\"PC user score mean:  \",round(PC.mean(),1))\n",
    "print('alpha:               ', alpha)\n",
    "print('p-value:             ', results.pvalue)\n",
    "\n",
    "ax = XOne.hist(bins=25, alpha=0.5,density=True,label=['XOne'])\n",
    "ax = PC.hist(bins=25, alpha=0.5,density=True,label=['PC'])\n",
    "plt.gca().set(title='User Score by Platforms', ylabel='Frequency',xlabel='user score');\n",
    "ax.legend(prop={'size': 10})\n",
    "plt.show()\n",
    "\n",
    "if (results.pvalue < alpha):\n",
    "    print('We reject the null hypothesis')\n",
    "else:\n",
    "    print(\"We can't reject the null hypothesis\") "
   ]
  },
  {
   "cell_type": "markdown",
   "metadata": {},
   "source": [
    "* I chose alpha equle 0.01 because of the scale of the dataset, and to get high statistical significance. \n",
    "* There are no statistical significant differences between the average user ratings by the platform Xbox One and PC platform."
   ]
  },
  {
   "cell_type": "code",
   "execution_count": 36,
   "metadata": {},
   "outputs": [
    {
     "name": "stdout",
     "output_type": "stream",
     "text": [
      "Null Hypothesis:\n",
      "There are no statistical significant differences between the average user ratings by the 'Action' genre and 'Sports' genre.\n",
      "\n",
      "Alternative Hypothesis:\n",
      "There is statistical significant differences between the average user ratings by the 'Action' genre and 'Sports' genre.\n",
      "\n",
      "Critical level of statistical significance that we will use: 0.01\n",
      "\n",
      "Test the Hypotheses:\n",
      "Action user score mean: 68.2\n",
      "Sports user score mean: 52.0\n",
      "alpha:                  0.01\n",
      "p-value:                1.7433028930216702e-25\n"
     ]
    },
    {
     "data": {
      "image/png": "[encoded data removed]",
      "text/plain": [
       "<Figure size 432x288 with 1 Axes>"
      ]
     },
     "metadata": {
      "needs_background": "light"
     },
     "output_type": "display_data"
    },
    {
     "name": "stdout",
     "output_type": "stream",
     "text": [
      "We reject the null hypothesis\n"
     ]
    }
   ],
   "source": [
    "print(\"Null Hypothesis:\\nThere are no statistical significant differences between the average user ratings by the 'Action' genre and 'Sports' genre.\")\n",
    "print(\"\\nAlternative Hypothesis:\\nThere is statistical significant differences between the average user ratings by the 'Action' genre and 'Sports' genre.\")\n",
    "print(\"\\nCritical level of statistical significance that we will use: 0.01\")\n",
    "\n",
    "Action = games_df_lean[(games_df_lean.genre == \"Action\" )& (games_df_lean.user_score.notna())].user_score\n",
    "Sports = games_df_lean[(games_df_lean.genre == \"Sports\" )& (games_df_lean.user_score.notna())].user_score\n",
    "alpha = 0.01  \n",
    "results = st.ttest_ind(Action, Sports)\n",
    "\n",
    "print(\"\\nTest the Hypotheses:\")\n",
    "print(\"Action user score mean:\",round(Action.mean(),1))\n",
    "print(\"Sports user score mean:\",round(Sports.mean(),1))\n",
    "print('alpha:                 ', alpha)\n",
    "print('p-value:               ', results.pvalue)\n",
    "\n",
    "ax = Action.hist(bins=25, alpha=0.5,density=True,label=['Action'])\n",
    "ax = Sports.hist(bins=25, alpha=0.5,density=True,label=['Sports'])\n",
    "plt.gca().set(title='User Score by Genres', ylabel='Frequency',xlabel='user score');\n",
    "ax.legend(prop={'size': 10})\n",
    "plt.show()\n",
    "\n",
    "if (results.pvalue < alpha):\n",
    "    print('We reject the null hypothesis')\n",
    "else:\n",
    "    print(\"We can't reject the null hypothesis\") "
   ]
  },
  {
   "cell_type": "markdown",
   "metadata": {},
   "source": [
    "* There is statistical significant differences between the average user ratings by the 'Action' genre and 'Sports' genre.\n",
    "* 'Action' genre players on average giving their games 16 more user score points compared to 'Sports' genre players."
   ]
  },
  {
   "cell_type": "markdown",
   "metadata": {},
   "source": [
    "## general conclusions"
   ]
  },
  {
   "cell_type": "markdown",
   "metadata": {},
   "source": [
    "###### Findings:\n",
    "* Yearly number of games published has been seeing great growth in the eary 2000's up until 2010.\n",
    "* There was decline in number of games published in resent years.\n",
    "* PS2 is the most profitable platform of all time.\n",
    "* PC is the oldest active platform with 31 years on the market.\n",
    "* On average a platform will make 92% of its revenue by its 7th year on the market.\n",
    "* In the past 3 years PS4 is the dominating platform with 42% market share.\n",
    "* PS4 have the highest sales mean out of all the platforms.\n",
    "* PS4, XOne and WiiU are overperforming in games sales compared to the markets average.\n",
    "* User score has low correlation to sales, while critics score has positive corelation with games sales.\n",
    "* Shooter is 3 times more profitable than other genres.\n",
    "* Shooters Platform and Sports are the most profitable genres. \n",
    "* Action, Sports and Shooters genres are with the highest sales.\n",
    "* NA and EU are roughly same size market share, and together they represent 76% of the gaming market.\n",
    "* PS4 and XOne are 1st and 2nd most popular platforms in NA and EU.\n",
    "* NA and EU regions sharing similar characteristics.\n",
    "* 3DS is most popular platforms in JP.\n",
    "* all top 5 platforms in JP region belong to japanese company.\n",
    "* EU has strong preferance to PS4 and Action games.\n",
    "* JP has strong preferance to 3DS and Role-Playing games.\n",
    "* The correlation of ESRB rating to a games revenue is close to zero in all rigions.\n",
    "* Mature ESRB rating in NA and EU have the highest sales median and Q3.\n",
    "* There are no statistical significant differences between the average user ratings by the platform Xbox One and PC platform.\n",
    "* There is statistical significant differences between the average user ratings by the 'Action' genre and 'Sports' genre."
   ]
  },
  {
   "cell_type": "markdown",
   "metadata": {},
   "source": [
    "###### Recomendations: \n",
    "\n",
    "For a game to succeed there are several factors to consider:\n",
    "1. Platform:\n",
    "* Need a presence on at least one of the \"new-gen\" platforms: 'PS4', 'XOne', or 'WiiU'.\n",
    "* Presence on 'PC' is always good as it is not \"aging\" like other platforms.\n",
    "\n",
    "2. Region:\n",
    "* NA represent ~39% of the gaming market.\n",
    "* NA and EU together represent ~76% of the market.\n",
    "* Game must be find success in NA and EU.\n",
    "* Because NA and EU have similar preferances.\n",
    "* JP is hard rigion dominated by its local companies, platforms and genres.\n",
    "\n",
    "3. Genre:\n",
    "* Most popular genres are: 'Action', 'Sports' and 'Shooters'.\n",
    "* Most profitable genres are: 'Shooter' and 'Sports'.\n",
    "* Genres to avoid (low profitability): 'Adventure', 'Strategy' and 'Puzzle'."
   ]
  }
 ],
 "metadata": {
  "ExecuteTimeLog": [
   {
    "duration": 314,
    "start_time": "2021-11-15T08:02:59.098Z"
   },
   {
    "duration": 1265,
    "start_time": "2021-11-15T08:06:08.787Z"
   },
   {
    "duration": 49,
    "start_time": "2021-11-15T08:06:10.054Z"
   },
   {
    "duration": 20,
    "start_time": "2021-11-15T08:06:27.539Z"
   },
   {
    "duration": 568,
    "start_time": "2021-11-15T08:07:02.156Z"
   },
   {
    "duration": 20,
    "start_time": "2021-11-15T08:07:35.109Z"
   },
   {
    "duration": 20,
    "start_time": "2021-11-15T08:07:59.142Z"
   },
   {
    "duration": 19,
    "start_time": "2021-11-15T08:08:18.517Z"
   },
   {
    "duration": 21,
    "start_time": "2021-11-15T08:08:30.631Z"
   },
   {
    "duration": 15,
    "start_time": "2021-11-15T08:09:49.450Z"
   },
   {
    "duration": 100,
    "start_time": "2021-11-15T08:17:58.953Z"
   },
   {
    "duration": 8,
    "start_time": "2021-11-15T08:48:33.871Z"
   },
   {
    "duration": 7,
    "start_time": "2021-11-15T08:48:53.745Z"
   },
   {
    "duration": 11,
    "start_time": "2021-11-15T08:49:29.974Z"
   },
   {
    "duration": 6,
    "start_time": "2021-11-15T08:50:09.630Z"
   },
   {
    "duration": 9,
    "start_time": "2021-11-15T08:51:08.332Z"
   },
   {
    "duration": 8,
    "start_time": "2021-11-15T08:51:35.690Z"
   },
   {
    "duration": 339,
    "start_time": "2021-11-15T08:54:38.467Z"
   },
   {
    "duration": 5,
    "start_time": "2021-11-15T08:54:41.144Z"
   },
   {
    "duration": 287,
    "start_time": "2021-11-15T08:54:47.094Z"
   },
   {
    "duration": 881,
    "start_time": "2021-11-15T08:55:00.705Z"
   },
   {
    "duration": 6,
    "start_time": "2021-11-15T08:55:38.513Z"
   },
   {
    "duration": 3,
    "start_time": "2021-11-15T08:55:57.416Z"
   },
   {
    "duration": 3,
    "start_time": "2021-11-15T08:56:05.813Z"
   },
   {
    "duration": 5,
    "start_time": "2021-11-15T08:56:09.707Z"
   },
   {
    "duration": 12,
    "start_time": "2021-11-15T08:56:52.440Z"
   },
   {
    "duration": 15,
    "start_time": "2021-11-15T08:58:01.185Z"
   },
   {
    "duration": 7,
    "start_time": "2021-11-15T08:58:15.628Z"
   },
   {
    "duration": 1289,
    "start_time": "2021-11-15T09:07:57.545Z"
   },
   {
    "duration": 384,
    "start_time": "2021-11-15T09:08:03.044Z"
   },
   {
    "duration": 21,
    "start_time": "2021-11-15T09:08:38.383Z"
   },
   {
    "duration": 9,
    "start_time": "2021-11-15T09:09:01.277Z"
   },
   {
    "duration": 9,
    "start_time": "2021-11-15T09:09:11.780Z"
   },
   {
    "duration": 10,
    "start_time": "2021-11-15T09:10:30.901Z"
   },
   {
    "duration": 7,
    "start_time": "2021-11-15T09:14:15.966Z"
   },
   {
    "duration": 10,
    "start_time": "2021-11-15T09:14:28.132Z"
   },
   {
    "duration": 9,
    "start_time": "2021-11-15T09:14:52.408Z"
   },
   {
    "duration": 10,
    "start_time": "2021-11-15T09:14:54.200Z"
   },
   {
    "duration": 9,
    "start_time": "2021-11-15T09:15:37.316Z"
   },
   {
    "duration": 10,
    "start_time": "2021-11-15T09:15:39.014Z"
   },
   {
    "duration": 8,
    "start_time": "2021-11-15T09:16:29.074Z"
   },
   {
    "duration": 11,
    "start_time": "2021-11-15T09:16:30.016Z"
   },
   {
    "duration": 8,
    "start_time": "2021-11-15T09:16:38.797Z"
   },
   {
    "duration": 10,
    "start_time": "2021-11-15T09:16:40.517Z"
   },
   {
    "duration": 5,
    "start_time": "2021-11-15T09:17:11.914Z"
   },
   {
    "duration": 9,
    "start_time": "2021-11-15T09:17:12.876Z"
   },
   {
    "duration": 49,
    "start_time": "2021-11-15T09:17:42.301Z"
   },
   {
    "duration": 20,
    "start_time": "2021-11-15T09:17:42.840Z"
   },
   {
    "duration": 290,
    "start_time": "2021-11-15T09:17:43.114Z"
   },
   {
    "duration": 1009,
    "start_time": "2021-11-15T09:17:42.397Z"
   },
   {
    "duration": 997,
    "start_time": "2021-11-15T09:17:43.646Z"
   },
   {
    "duration": 741,
    "start_time": "2021-11-15T09:17:43.904Z"
   },
   {
    "duration": 13,
    "start_time": "2021-11-15T09:18:00.067Z"
   },
   {
    "duration": 6,
    "start_time": "2021-11-15T09:18:04.478Z"
   },
   {
    "duration": 4,
    "start_time": "2021-11-15T09:18:06.010Z"
   },
   {
    "duration": 6,
    "start_time": "2021-11-15T09:18:06.350Z"
   },
   {
    "duration": 6,
    "start_time": "2021-11-15T09:18:31.534Z"
   },
   {
    "duration": 14,
    "start_time": "2021-11-15T09:18:40.675Z"
   },
   {
    "duration": 38,
    "start_time": "2021-11-15T09:19:06.785Z"
   },
   {
    "duration": 417,
    "start_time": "2021-11-15T09:19:12.361Z"
   },
   {
    "duration": 15,
    "start_time": "2021-11-15T09:19:25.297Z"
   },
   {
    "duration": 284,
    "start_time": "2021-11-15T09:19:36.153Z"
   },
   {
    "duration": 9,
    "start_time": "2021-11-15T09:19:47.159Z"
   },
   {
    "duration": 71,
    "start_time": "2021-11-15T09:20:34.496Z"
   },
   {
    "duration": 10,
    "start_time": "2021-11-15T09:20:50.616Z"
   },
   {
    "duration": 60,
    "start_time": "2021-11-15T09:21:18.454Z"
   },
   {
    "duration": 12,
    "start_time": "2021-11-15T09:21:19.027Z"
   },
   {
    "duration": 8,
    "start_time": "2021-11-15T09:21:19.280Z"
   },
   {
    "duration": 14,
    "start_time": "2021-11-15T09:21:19.532Z"
   },
   {
    "duration": 5,
    "start_time": "2021-11-15T09:21:20.829Z"
   },
   {
    "duration": 17,
    "start_time": "2021-11-15T09:21:20.836Z"
   },
   {
    "duration": 9,
    "start_time": "2021-11-15T09:21:45.138Z"
   },
   {
    "duration": 6,
    "start_time": "2021-11-15T09:24:59.181Z"
   },
   {
    "duration": 10,
    "start_time": "2021-11-15T09:25:10.728Z"
   },
   {
    "duration": 14,
    "start_time": "2021-11-15T09:26:29.941Z"
   },
   {
    "duration": 6,
    "start_time": "2021-11-15T09:27:06.643Z"
   },
   {
    "duration": 279,
    "start_time": "2021-11-15T09:27:31.833Z"
   },
   {
    "duration": 21,
    "start_time": "2021-11-15T09:27:43.944Z"
   },
   {
    "duration": 8,
    "start_time": "2021-11-15T09:28:21.624Z"
   },
   {
    "duration": 12,
    "start_time": "2021-11-15T09:28:37.629Z"
   },
   {
    "duration": 18,
    "start_time": "2021-11-15T09:29:09.106Z"
   },
   {
    "duration": 283,
    "start_time": "2021-11-15T09:29:32.512Z"
   },
   {
    "duration": 20,
    "start_time": "2021-11-15T09:29:48.184Z"
   },
   {
    "duration": 21,
    "start_time": "2021-11-15T09:30:08.989Z"
   },
   {
    "duration": 10,
    "start_time": "2021-11-15T09:32:48.102Z"
   },
   {
    "duration": 12,
    "start_time": "2021-11-15T09:33:07.078Z"
   },
   {
    "duration": 12,
    "start_time": "2021-11-15T09:33:33.527Z"
   },
   {
    "duration": 9,
    "start_time": "2021-11-15T09:33:39.810Z"
   },
   {
    "duration": 10,
    "start_time": "2021-11-15T09:34:19.729Z"
   },
   {
    "duration": 11,
    "start_time": "2021-11-15T09:35:19.114Z"
   },
   {
    "duration": 287,
    "start_time": "2021-11-15T09:35:34.968Z"
   },
   {
    "duration": 10,
    "start_time": "2021-11-15T09:35:52.247Z"
   },
   {
    "duration": 10,
    "start_time": "2021-11-15T09:36:35.835Z"
   },
   {
    "duration": 14,
    "start_time": "2021-11-15T09:38:02.886Z"
   },
   {
    "duration": 14,
    "start_time": "2021-11-15T09:38:18.390Z"
   },
   {
    "duration": 11,
    "start_time": "2021-11-15T09:38:30.752Z"
   },
   {
    "duration": 12,
    "start_time": "2021-11-15T09:38:35.081Z"
   },
   {
    "duration": 16,
    "start_time": "2021-11-15T09:38:44.642Z"
   },
   {
    "duration": 15,
    "start_time": "2021-11-15T09:38:57.086Z"
   },
   {
    "duration": 14,
    "start_time": "2021-11-15T09:39:17.847Z"
   },
   {
    "duration": 7,
    "start_time": "2021-11-15T09:41:09.886Z"
   },
   {
    "duration": 283,
    "start_time": "2021-11-15T09:42:09.445Z"
   },
   {
    "duration": 9,
    "start_time": "2021-11-15T09:42:40.952Z"
   },
   {
    "duration": 19,
    "start_time": "2021-11-15T09:42:48.357Z"
   },
   {
    "duration": 1041,
    "start_time": "2021-11-15T09:43:10.822Z"
   },
   {
    "duration": 7,
    "start_time": "2021-11-15T09:43:22.278Z"
   },
   {
    "duration": 6,
    "start_time": "2021-11-15T09:43:30.735Z"
   },
   {
    "duration": 7,
    "start_time": "2021-11-15T09:43:38.198Z"
   },
   {
    "duration": 292,
    "start_time": "2021-11-15T09:55:45.730Z"
   },
   {
    "duration": 5,
    "start_time": "2021-11-15T09:55:52.203Z"
   },
   {
    "duration": 4,
    "start_time": "2021-11-15T09:55:56.776Z"
   },
   {
    "duration": 4,
    "start_time": "2021-11-15T09:56:00.497Z"
   },
   {
    "duration": 4,
    "start_time": "2021-11-15T09:56:03.901Z"
   },
   {
    "duration": 4,
    "start_time": "2021-11-15T09:56:13.810Z"
   },
   {
    "duration": 64,
    "start_time": "2021-11-15T09:56:43.392Z"
   },
   {
    "duration": 14,
    "start_time": "2021-11-15T09:56:43.851Z"
   },
   {
    "duration": 7,
    "start_time": "2021-11-15T09:56:44.067Z"
   },
   {
    "duration": 10,
    "start_time": "2021-11-15T09:56:44.275Z"
   },
   {
    "duration": 5,
    "start_time": "2021-11-15T09:56:44.505Z"
   },
   {
    "duration": 7,
    "start_time": "2021-11-15T09:56:44.739Z"
   },
   {
    "duration": 9,
    "start_time": "2021-11-15T09:56:44.955Z"
   },
   {
    "duration": 10,
    "start_time": "2021-11-15T09:56:45.187Z"
   },
   {
    "duration": 11,
    "start_time": "2021-11-15T09:56:45.429Z"
   },
   {
    "duration": 7,
    "start_time": "2021-11-15T09:56:45.667Z"
   },
   {
    "duration": 7,
    "start_time": "2021-11-15T09:56:45.897Z"
   },
   {
    "duration": 3,
    "start_time": "2021-11-15T09:56:46.126Z"
   },
   {
    "duration": 99,
    "start_time": "2021-11-15T09:56:46.388Z"
   },
   {
    "duration": 4,
    "start_time": "2021-11-15T09:57:10.395Z"
   },
   {
    "duration": 4,
    "start_time": "2021-11-15T09:57:18.121Z"
   },
   {
    "duration": 2500,
    "start_time": "2021-11-15T09:59:33.682Z"
   },
   {
    "duration": 5,
    "start_time": "2021-11-15T10:02:23.222Z"
   },
   {
    "duration": 327,
    "start_time": "2021-11-15T10:06:15.344Z"
   },
   {
    "duration": 5,
    "start_time": "2021-11-15T10:06:39.647Z"
   },
   {
    "duration": 9,
    "start_time": "2021-11-15T10:07:32.689Z"
   },
   {
    "duration": 18,
    "start_time": "2021-11-15T10:07:43.737Z"
   },
   {
    "duration": 9,
    "start_time": "2021-11-15T10:09:53.243Z"
   },
   {
    "duration": 4,
    "start_time": "2021-11-15T10:11:03.370Z"
   },
   {
    "duration": 17,
    "start_time": "2021-11-15T10:11:12.997Z"
   },
   {
    "duration": 17,
    "start_time": "2021-11-15T10:12:43.489Z"
   },
   {
    "duration": 17,
    "start_time": "2021-11-15T10:13:23.589Z"
   },
   {
    "duration": 285,
    "start_time": "2021-11-15T10:15:28.515Z"
   },
   {
    "duration": 18,
    "start_time": "2021-11-15T10:15:38.154Z"
   },
   {
    "duration": 4,
    "start_time": "2021-11-15T10:15:40.755Z"
   },
   {
    "duration": 6,
    "start_time": "2021-11-15T10:15:49.445Z"
   },
   {
    "duration": 17,
    "start_time": "2021-11-15T10:15:51.650Z"
   },
   {
    "duration": 5,
    "start_time": "2021-11-15T10:16:00.563Z"
   },
   {
    "duration": 813,
    "start_time": "2021-11-15T10:16:59.676Z"
   },
   {
    "duration": 539,
    "start_time": "2021-11-15T10:17:22.396Z"
   },
   {
    "duration": 555,
    "start_time": "2021-11-15T10:18:01.318Z"
   },
   {
    "duration": 458,
    "start_time": "2021-11-15T10:18:12.074Z"
   },
   {
    "duration": 291,
    "start_time": "2021-11-15T10:19:50.204Z"
   },
   {
    "duration": 309,
    "start_time": "2021-11-15T10:20:41.275Z"
   },
   {
    "duration": 9,
    "start_time": "2021-11-15T10:21:07.371Z"
   },
   {
    "duration": 510,
    "start_time": "2021-11-15T10:23:40.116Z"
   },
   {
    "duration": 514,
    "start_time": "2021-11-15T10:25:30.738Z"
   },
   {
    "duration": 14,
    "start_time": "2021-11-15T10:25:38.181Z"
   },
   {
    "duration": 285,
    "start_time": "2021-11-15T10:31:48.398Z"
   },
   {
    "duration": 4,
    "start_time": "2021-11-15T10:31:57.843Z"
   },
   {
    "duration": 876,
    "start_time": "2021-11-15T10:37:00.244Z"
   },
   {
    "duration": 310,
    "start_time": "2021-11-15T10:37:08.119Z"
   },
   {
    "duration": 352,
    "start_time": "2021-11-15T10:40:24.368Z"
   },
   {
    "duration": 25,
    "start_time": "2021-11-15T10:40:54.190Z"
   },
   {
    "duration": 27,
    "start_time": "2021-11-15T10:41:03.945Z"
   },
   {
    "duration": 39,
    "start_time": "2021-11-15T10:41:12.129Z"
   },
   {
    "duration": 24,
    "start_time": "2021-11-15T10:41:33.153Z"
   },
   {
    "duration": 39,
    "start_time": "2021-11-15T10:41:56.742Z"
   },
   {
    "duration": 41,
    "start_time": "2021-11-15T10:42:21.898Z"
   },
   {
    "duration": 26,
    "start_time": "2021-11-15T10:43:04.312Z"
   },
   {
    "duration": 19,
    "start_time": "2021-11-15T10:43:16.138Z"
   },
   {
    "duration": 18,
    "start_time": "2021-11-15T10:43:27.643Z"
   },
   {
    "duration": 21,
    "start_time": "2021-11-15T10:43:59.914Z"
   },
   {
    "duration": 26,
    "start_time": "2021-11-15T10:44:13.885Z"
   },
   {
    "duration": 19,
    "start_time": "2021-11-15T10:44:34.769Z"
   },
   {
    "duration": 6,
    "start_time": "2021-11-15T10:51:38.954Z"
   },
   {
    "duration": 3,
    "start_time": "2021-11-16T06:08:04.623Z"
   },
   {
    "duration": 508,
    "start_time": "2021-11-16T06:09:15.768Z"
   },
   {
    "duration": 1247,
    "start_time": "2021-11-16T06:09:24.823Z"
   },
   {
    "duration": 34,
    "start_time": "2021-11-16T06:09:26.073Z"
   },
   {
    "duration": 8,
    "start_time": "2021-11-16T06:09:26.109Z"
   },
   {
    "duration": 16,
    "start_time": "2021-11-16T06:09:26.119Z"
   },
   {
    "duration": 5,
    "start_time": "2021-11-16T06:09:26.155Z"
   },
   {
    "duration": 3,
    "start_time": "2021-11-16T06:09:26.447Z"
   },
   {
    "duration": 9,
    "start_time": "2021-11-16T06:09:26.713Z"
   },
   {
    "duration": 12,
    "start_time": "2021-11-16T06:09:27.006Z"
   },
   {
    "duration": 6,
    "start_time": "2021-11-16T06:09:27.609Z"
   },
   {
    "duration": 299,
    "start_time": "2021-11-16T06:09:28.252Z"
   },
   {
    "duration": 8,
    "start_time": "2021-11-16T06:09:28.848Z"
   },
   {
    "duration": 14,
    "start_time": "2021-11-16T06:13:58.878Z"
   },
   {
    "duration": 20,
    "start_time": "2021-11-16T06:14:49.057Z"
   },
   {
    "duration": 7,
    "start_time": "2021-11-16T06:15:34.300Z"
   },
   {
    "duration": 8,
    "start_time": "2021-11-16T06:16:01.234Z"
   },
   {
    "duration": 6,
    "start_time": "2021-11-16T06:16:15.839Z"
   },
   {
    "duration": 26,
    "start_time": "2021-11-16T06:27:11.393Z"
   },
   {
    "duration": 26,
    "start_time": "2021-11-16T06:27:58.977Z"
   },
   {
    "duration": 16,
    "start_time": "2021-11-16T06:28:30.247Z"
   },
   {
    "duration": 146,
    "start_time": "2021-11-16T06:28:54.945Z"
   },
   {
    "duration": 159,
    "start_time": "2021-11-16T06:30:47.590Z"
   },
   {
    "duration": 186,
    "start_time": "2021-11-16T06:31:14.202Z"
   },
   {
    "duration": 178,
    "start_time": "2021-11-16T06:31:49.889Z"
   },
   {
    "duration": 2582,
    "start_time": "2021-11-16T06:32:33.312Z"
   },
   {
    "duration": 1335,
    "start_time": "2021-11-16T06:34:23.335Z"
   },
   {
    "duration": 1151,
    "start_time": "2021-11-16T06:54:03.862Z"
   },
   {
    "duration": 20,
    "start_time": "2021-11-16T06:54:10.082Z"
   },
   {
    "duration": 8,
    "start_time": "2021-11-16T06:54:10.941Z"
   },
   {
    "duration": 11,
    "start_time": "2021-11-16T06:54:11.461Z"
   },
   {
    "duration": 5,
    "start_time": "2021-11-16T06:54:12.021Z"
   },
   {
    "duration": 3,
    "start_time": "2021-11-16T06:54:12.541Z"
   },
   {
    "duration": 9,
    "start_time": "2021-11-16T06:54:13.181Z"
   },
   {
    "duration": 12,
    "start_time": "2021-11-16T06:54:13.841Z"
   },
   {
    "duration": 6,
    "start_time": "2021-11-16T06:54:15.582Z"
   },
   {
    "duration": 6,
    "start_time": "2021-11-16T06:54:18.021Z"
   },
   {
    "duration": 16,
    "start_time": "2021-11-16T06:54:19.341Z"
   },
   {
    "duration": 13536,
    "start_time": "2021-11-16T06:54:35.772Z"
   },
   {
    "duration": 12216,
    "start_time": "2021-11-16T06:58:49.750Z"
   },
   {
    "duration": 11369,
    "start_time": "2021-11-16T06:59:47.731Z"
   },
   {
    "duration": 88,
    "start_time": "2021-11-16T07:02:09.758Z"
   },
   {
    "duration": 11805,
    "start_time": "2021-11-16T07:02:38.185Z"
   },
   {
    "duration": 11392,
    "start_time": "2021-11-16T07:03:52.205Z"
   },
   {
    "duration": 13973,
    "start_time": "2021-11-16T07:05:01.499Z"
   },
   {
    "duration": 11858,
    "start_time": "2021-11-16T07:05:46.005Z"
   },
   {
    "duration": 4,
    "start_time": "2021-11-16T07:08:11.613Z"
   },
   {
    "duration": 4,
    "start_time": "2021-11-16T07:08:20.398Z"
   },
   {
    "duration": 7,
    "start_time": "2021-11-16T07:09:28.841Z"
   },
   {
    "duration": 15,
    "start_time": "2021-11-16T07:23:52.781Z"
   },
   {
    "duration": 8,
    "start_time": "2021-11-16T07:24:11.034Z"
   },
   {
    "duration": 344,
    "start_time": "2021-11-16T07:24:52.098Z"
   },
   {
    "duration": 268,
    "start_time": "2021-11-16T07:25:09.773Z"
   },
   {
    "duration": 353,
    "start_time": "2021-11-16T07:26:00.795Z"
   },
   {
    "duration": 451,
    "start_time": "2021-11-16T07:28:13.097Z"
   },
   {
    "duration": 10,
    "start_time": "2021-11-16T07:28:44.785Z"
   },
   {
    "duration": 18,
    "start_time": "2021-11-16T07:29:28.998Z"
   },
   {
    "duration": 8,
    "start_time": "2021-11-16T07:30:23.704Z"
   },
   {
    "duration": 15,
    "start_time": "2021-11-16T07:30:52.131Z"
   },
   {
    "duration": 16,
    "start_time": "2021-11-16T07:31:08.839Z"
   },
   {
    "duration": 15,
    "start_time": "2021-11-16T07:31:19.024Z"
   },
   {
    "duration": 14,
    "start_time": "2021-11-16T07:33:04.256Z"
   },
   {
    "duration": 14,
    "start_time": "2021-11-16T07:34:39.839Z"
   },
   {
    "duration": 8,
    "start_time": "2021-11-16T07:39:21.206Z"
   },
   {
    "duration": 10,
    "start_time": "2021-11-16T07:40:17.402Z"
   },
   {
    "duration": 7,
    "start_time": "2021-11-16T07:40:26.147Z"
   },
   {
    "duration": 12692,
    "start_time": "2021-11-16T07:41:09.914Z"
   },
   {
    "duration": 12956,
    "start_time": "2021-11-16T07:45:16.222Z"
   },
   {
    "duration": 108,
    "start_time": "2021-11-16T07:45:34.539Z"
   },
   {
    "duration": 12940,
    "start_time": "2021-11-16T07:45:58.875Z"
   },
   {
    "duration": 13394,
    "start_time": "2021-11-16T07:47:11.784Z"
   },
   {
    "duration": 7,
    "start_time": "2021-11-16T07:47:36.798Z"
   },
   {
    "duration": 8,
    "start_time": "2021-11-16T07:47:52.150Z"
   },
   {
    "duration": 10,
    "start_time": "2021-11-16T07:48:20.214Z"
   },
   {
    "duration": 9,
    "start_time": "2021-11-16T07:48:32.764Z"
   },
   {
    "duration": 3,
    "start_time": "2021-11-16T07:51:27.438Z"
   },
   {
    "duration": 7,
    "start_time": "2021-11-16T07:52:17.568Z"
   },
   {
    "duration": 11495,
    "start_time": "2021-11-16T07:53:34.056Z"
   },
   {
    "duration": 12,
    "start_time": "2021-11-16T07:53:45.553Z"
   },
   {
    "duration": 9,
    "start_time": "2021-11-16T07:53:49.119Z"
   },
   {
    "duration": 10,
    "start_time": "2021-11-16T07:54:01.025Z"
   },
   {
    "duration": 7,
    "start_time": "2021-11-16T07:54:36.180Z"
   },
   {
    "duration": 2,
    "start_time": "2021-11-16T07:57:48.307Z"
   },
   {
    "duration": 18969,
    "start_time": "2021-11-16T08:02:48.555Z"
   },
   {
    "duration": 16623,
    "start_time": "2021-11-16T08:03:25.919Z"
   },
   {
    "duration": 16318,
    "start_time": "2021-11-16T08:04:54.607Z"
   },
   {
    "duration": 14544,
    "start_time": "2021-11-16T08:05:49.224Z"
   },
   {
    "duration": 10,
    "start_time": "2021-11-16T08:06:08.512Z"
   },
   {
    "duration": 15307,
    "start_time": "2021-11-16T08:08:48.129Z"
   },
   {
    "duration": 10,
    "start_time": "2021-11-16T08:09:05.268Z"
   },
   {
    "duration": 10,
    "start_time": "2021-11-16T08:11:17.627Z"
   },
   {
    "duration": 8,
    "start_time": "2021-11-16T08:12:23.250Z"
   },
   {
    "duration": 7,
    "start_time": "2021-11-16T08:14:02.527Z"
   },
   {
    "duration": 11,
    "start_time": "2021-11-16T08:14:21.766Z"
   },
   {
    "duration": 7,
    "start_time": "2021-11-16T08:14:38.934Z"
   },
   {
    "duration": 188,
    "start_time": "2021-11-16T08:15:14.087Z"
   },
   {
    "duration": 250,
    "start_time": "2021-11-16T08:17:46.575Z"
   },
   {
    "duration": 228,
    "start_time": "2021-11-16T09:39:00.132Z"
   },
   {
    "duration": 9,
    "start_time": "2021-11-16T09:39:08.551Z"
   },
   {
    "duration": 26,
    "start_time": "2021-11-16T09:39:13.231Z"
   },
   {
    "duration": 22,
    "start_time": "2021-11-16T09:39:41.291Z"
   },
   {
    "duration": 25,
    "start_time": "2021-11-16T09:39:55.132Z"
   },
   {
    "duration": 6,
    "start_time": "2021-11-16T09:40:06.931Z"
   },
   {
    "duration": 7,
    "start_time": "2021-11-16T09:40:22.271Z"
   },
   {
    "duration": 24,
    "start_time": "2021-11-16T09:40:26.911Z"
   },
   {
    "duration": 7,
    "start_time": "2021-11-16T09:41:29.646Z"
   },
   {
    "duration": 7,
    "start_time": "2021-11-16T09:41:58.646Z"
   },
   {
    "duration": 4,
    "start_time": "2021-11-16T09:44:45.391Z"
   },
   {
    "duration": 7,
    "start_time": "2021-11-16T09:44:54.530Z"
   },
   {
    "duration": 5,
    "start_time": "2021-11-16T09:45:40.552Z"
   },
   {
    "duration": 8,
    "start_time": "2021-11-16T09:45:41.771Z"
   },
   {
    "duration": 64,
    "start_time": "2021-11-16T09:45:46.702Z"
   },
   {
    "duration": 14,
    "start_time": "2021-11-16T09:45:47.151Z"
   },
   {
    "duration": 7,
    "start_time": "2021-11-16T09:45:47.351Z"
   },
   {
    "duration": 11,
    "start_time": "2021-11-16T09:45:47.551Z"
   },
   {
    "duration": 2,
    "start_time": "2021-11-16T09:45:47.771Z"
   },
   {
    "duration": 16,
    "start_time": "2021-11-16T09:45:47.991Z"
   },
   {
    "duration": 11478,
    "start_time": "2021-11-16T09:45:48.211Z"
   },
   {
    "duration": 3,
    "start_time": "2021-11-16T09:45:59.691Z"
   },
   {
    "duration": 14,
    "start_time": "2021-11-16T09:45:59.696Z"
   },
   {
    "duration": 14015,
    "start_time": "2021-11-16T09:45:59.711Z"
   },
   {
    "duration": 8,
    "start_time": "2021-11-16T09:46:13.728Z"
   },
   {
    "duration": 14774,
    "start_time": "2021-11-16T09:46:13.738Z"
   },
   {
    "duration": 12,
    "start_time": "2021-11-16T09:46:28.514Z"
   },
   {
    "duration": 40,
    "start_time": "2021-11-16T09:46:28.538Z"
   },
   {
    "duration": 9,
    "start_time": "2021-11-16T09:46:28.580Z"
   },
   {
    "duration": 13,
    "start_time": "2021-11-16T09:46:28.590Z"
   },
   {
    "duration": 30,
    "start_time": "2021-11-16T09:46:28.604Z"
   },
   {
    "duration": 4,
    "start_time": "2021-11-16T09:46:28.635Z"
   },
   {
    "duration": 15,
    "start_time": "2021-11-16T09:46:28.641Z"
   },
   {
    "duration": 3,
    "start_time": "2021-11-16T09:48:26.651Z"
   },
   {
    "duration": 2,
    "start_time": "2021-11-16T09:48:35.552Z"
   },
   {
    "duration": 3,
    "start_time": "2021-11-16T09:49:20.271Z"
   },
   {
    "duration": 3,
    "start_time": "2021-11-16T09:49:21.131Z"
   },
   {
    "duration": 64,
    "start_time": "2021-11-16T09:49:49.931Z"
   },
   {
    "duration": 14,
    "start_time": "2021-11-16T09:49:50.411Z"
   },
   {
    "duration": 7,
    "start_time": "2021-11-16T09:49:50.611Z"
   },
   {
    "duration": 12,
    "start_time": "2021-11-16T09:49:50.831Z"
   },
   {
    "duration": 3,
    "start_time": "2021-11-16T09:49:51.051Z"
   },
   {
    "duration": 17,
    "start_time": "2021-11-16T09:49:51.227Z"
   },
   {
    "duration": 11556,
    "start_time": "2021-11-16T09:49:51.451Z"
   },
   {
    "duration": 2,
    "start_time": "2021-11-16T09:50:03.009Z"
   },
   {
    "duration": 25,
    "start_time": "2021-11-16T09:50:03.013Z"
   },
   {
    "duration": 14125,
    "start_time": "2021-11-16T09:50:03.040Z"
   },
   {
    "duration": 9,
    "start_time": "2021-11-16T09:50:17.166Z"
   },
   {
    "duration": 9,
    "start_time": "2021-11-16T09:50:17.176Z"
   },
   {
    "duration": 15513,
    "start_time": "2021-11-16T09:50:17.186Z"
   },
   {
    "duration": 9,
    "start_time": "2021-11-16T09:50:32.701Z"
   },
   {
    "duration": 8,
    "start_time": "2021-11-16T09:50:32.711Z"
   },
   {
    "duration": 93,
    "start_time": "2021-11-16T09:53:20.311Z"
   },
   {
    "duration": 304,
    "start_time": "2021-11-16T09:53:24.071Z"
   },
   {
    "duration": 8,
    "start_time": "2021-11-16T09:53:55.711Z"
   },
   {
    "duration": 10,
    "start_time": "2021-11-16T09:54:35.331Z"
   },
   {
    "duration": 9,
    "start_time": "2021-11-16T09:54:39.911Z"
   },
   {
    "duration": 8,
    "start_time": "2021-11-16T09:55:32.691Z"
   },
   {
    "duration": 9,
    "start_time": "2021-11-16T09:58:14.080Z"
   },
   {
    "duration": 5,
    "start_time": "2021-11-16T09:58:46.164Z"
   },
   {
    "duration": 10,
    "start_time": "2021-11-16T09:59:40.368Z"
   },
   {
    "duration": 4,
    "start_time": "2021-11-16T09:59:41.500Z"
   },
   {
    "duration": 5,
    "start_time": "2021-11-16T09:59:52.901Z"
   },
   {
    "duration": 7,
    "start_time": "2021-11-16T10:00:19.121Z"
   },
   {
    "duration": 5,
    "start_time": "2021-11-16T10:00:31.040Z"
   },
   {
    "duration": 5,
    "start_time": "2021-11-16T10:00:39.560Z"
   },
   {
    "duration": 6,
    "start_time": "2021-11-16T10:00:41.540Z"
   },
   {
    "duration": 5,
    "start_time": "2021-11-16T10:00:53.268Z"
   },
   {
    "duration": 107,
    "start_time": "2021-11-16T10:02:12.820Z"
   },
   {
    "duration": 10,
    "start_time": "2021-11-16T10:02:42.900Z"
   },
   {
    "duration": 4,
    "start_time": "2021-11-16T10:02:48.240Z"
   },
   {
    "duration": 4,
    "start_time": "2021-11-16T10:02:51.101Z"
   },
   {
    "duration": 6,
    "start_time": "2021-11-16T10:02:56.101Z"
   },
   {
    "duration": 8,
    "start_time": "2021-11-16T10:03:18.780Z"
   },
   {
    "duration": 6,
    "start_time": "2021-11-16T10:03:39.461Z"
   },
   {
    "duration": 6,
    "start_time": "2021-11-16T10:03:48.860Z"
   },
   {
    "duration": 7,
    "start_time": "2021-11-16T10:03:53.440Z"
   },
   {
    "duration": 5,
    "start_time": "2021-11-16T10:05:51.100Z"
   },
   {
    "duration": 326,
    "start_time": "2021-11-16T10:06:20.220Z"
   },
   {
    "duration": 5,
    "start_time": "2021-11-16T10:06:39.980Z"
   },
   {
    "duration": 426,
    "start_time": "2021-11-16T10:06:40.920Z"
   },
   {
    "duration": 297,
    "start_time": "2021-11-16T10:07:24.881Z"
   },
   {
    "duration": 34,
    "start_time": "2021-11-16T10:08:39.240Z"
   },
   {
    "duration": 11,
    "start_time": "2021-11-16T10:08:50.101Z"
   },
   {
    "duration": 12,
    "start_time": "2021-11-16T10:09:27.560Z"
   },
   {
    "duration": 335,
    "start_time": "2021-11-16T10:09:51.780Z"
   },
   {
    "duration": 323,
    "start_time": "2021-11-16T10:09:59.601Z"
   },
   {
    "duration": 12,
    "start_time": "2021-11-16T10:10:04.040Z"
   },
   {
    "duration": 22,
    "start_time": "2021-11-16T10:11:13.720Z"
   },
   {
    "duration": 7,
    "start_time": "2021-11-16T10:12:06.321Z"
   },
   {
    "duration": 24,
    "start_time": "2021-11-16T10:13:01.020Z"
   },
   {
    "duration": 22,
    "start_time": "2021-11-16T10:13:14.520Z"
   },
   {
    "duration": 9,
    "start_time": "2021-11-16T10:13:27.740Z"
   },
   {
    "duration": 12,
    "start_time": "2021-11-16T10:13:32.400Z"
   },
   {
    "duration": 6,
    "start_time": "2021-11-16T10:14:51.941Z"
   },
   {
    "duration": 328,
    "start_time": "2021-11-16T10:14:56.920Z"
   },
   {
    "duration": 6,
    "start_time": "2021-11-16T10:15:51.982Z"
   },
   {
    "duration": 533,
    "start_time": "2021-11-16T10:18:30.140Z"
   },
   {
    "duration": 323,
    "start_time": "2021-11-16T10:19:15.281Z"
   },
   {
    "duration": 238,
    "start_time": "2021-11-16T10:19:30.040Z"
   },
   {
    "duration": 270,
    "start_time": "2021-11-16T10:19:44.121Z"
   },
   {
    "duration": 3,
    "start_time": "2021-11-16T10:20:00.500Z"
   },
   {
    "duration": 9,
    "start_time": "2021-11-16T10:21:42.500Z"
   },
   {
    "duration": 474,
    "start_time": "2021-11-16T10:27:34.389Z"
   },
   {
    "duration": 4,
    "start_time": "2021-11-16T10:30:42.476Z"
   },
   {
    "duration": 318,
    "start_time": "2021-11-16T10:30:43.870Z"
   },
   {
    "duration": 5,
    "start_time": "2021-11-16T10:31:21.591Z"
   },
   {
    "duration": 314,
    "start_time": "2021-11-16T10:31:22.438Z"
   },
   {
    "duration": 16255,
    "start_time": "2021-11-16T10:31:34.460Z"
   },
   {
    "duration": 16800,
    "start_time": "2021-11-16T10:31:57.731Z"
   },
   {
    "duration": 29999,
    "start_time": "2021-11-16T10:32:51.678Z"
   },
   {
    "duration": 29754,
    "start_time": "2021-11-16T10:33:29.078Z"
   },
   {
    "duration": 29770,
    "start_time": "2021-11-16T10:34:04.811Z"
   },
   {
    "duration": 24561,
    "start_time": "2021-11-16T10:34:56.893Z"
   },
   {
    "duration": 23555,
    "start_time": "2021-11-16T10:36:13.679Z"
   },
   {
    "duration": 7,
    "start_time": "2021-11-16T10:37:19.414Z"
   },
   {
    "duration": 1692,
    "start_time": "2021-11-16T10:39:22.214Z"
   },
   {
    "duration": 1401,
    "start_time": "2021-11-16T10:40:14.970Z"
   },
   {
    "duration": 349,
    "start_time": "2021-11-16T10:40:33.329Z"
   },
   {
    "duration": 549,
    "start_time": "2021-11-16T10:41:43.685Z"
   },
   {
    "duration": 922,
    "start_time": "2021-11-16T10:46:07.807Z"
   },
   {
    "duration": 912,
    "start_time": "2021-11-16T10:46:26.351Z"
   },
   {
    "duration": 10,
    "start_time": "2021-11-16T10:46:38.069Z"
   },
   {
    "duration": 5,
    "start_time": "2021-11-16T10:47:10.990Z"
   },
   {
    "duration": 10,
    "start_time": "2021-11-16T10:47:14.510Z"
   },
   {
    "duration": 11,
    "start_time": "2021-11-16T10:52:02.142Z"
   },
   {
    "duration": 5,
    "start_time": "2021-11-16T10:52:03.991Z"
   },
   {
    "duration": 6,
    "start_time": "2021-11-16T10:52:06.343Z"
   },
   {
    "duration": 6,
    "start_time": "2021-11-16T10:52:07.451Z"
   },
   {
    "duration": 12,
    "start_time": "2021-11-16T10:52:15.802Z"
   },
   {
    "duration": 7,
    "start_time": "2021-11-16T11:02:23.674Z"
   },
   {
    "duration": 5,
    "start_time": "2021-11-16T11:02:27.424Z"
   },
   {
    "duration": 10,
    "start_time": "2021-11-16T11:03:01.295Z"
   },
   {
    "duration": 20,
    "start_time": "2021-11-16T11:03:02.664Z"
   },
   {
    "duration": 7,
    "start_time": "2021-11-16T11:03:36.154Z"
   },
   {
    "duration": 4,
    "start_time": "2021-11-16T11:03:38.264Z"
   },
   {
    "duration": 1967,
    "start_time": "2021-11-16T11:05:40.644Z"
   },
   {
    "duration": 26,
    "start_time": "2021-11-16T11:05:43.954Z"
   },
   {
    "duration": 650,
    "start_time": "2021-11-16T11:06:59.364Z"
   },
   {
    "duration": 25,
    "start_time": "2021-11-16T11:07:04.744Z"
   },
   {
    "duration": 244,
    "start_time": "2021-11-16T11:09:48.434Z"
   },
   {
    "duration": 24,
    "start_time": "2021-11-16T11:09:50.825Z"
   },
   {
    "duration": 264,
    "start_time": "2021-11-16T11:10:58.114Z"
   },
   {
    "duration": 234,
    "start_time": "2021-11-16T11:12:12.714Z"
   },
   {
    "duration": 24,
    "start_time": "2021-11-16T11:12:16.634Z"
   },
   {
    "duration": 255,
    "start_time": "2021-11-16T11:16:04.884Z"
   },
   {
    "duration": 26,
    "start_time": "2021-11-16T11:16:07.064Z"
   },
   {
    "duration": 261,
    "start_time": "2021-11-16T11:16:11.736Z"
   },
   {
    "duration": 26,
    "start_time": "2021-11-16T11:16:14.184Z"
   },
   {
    "duration": 298,
    "start_time": "2021-11-16T11:16:53.305Z"
   },
   {
    "duration": 26,
    "start_time": "2021-11-16T11:16:54.424Z"
   },
   {
    "duration": 247,
    "start_time": "2021-11-16T11:17:05.906Z"
   },
   {
    "duration": 24,
    "start_time": "2021-11-16T11:17:07.034Z"
   },
   {
    "duration": 3,
    "start_time": "2021-11-16T11:18:20.624Z"
   },
   {
    "duration": 4,
    "start_time": "2021-11-16T11:18:21.154Z"
   },
   {
    "duration": 4,
    "start_time": "2021-11-16T11:18:44.723Z"
   },
   {
    "duration": 1110,
    "start_time": "2021-11-16T11:19:37.815Z"
   },
   {
    "duration": 20,
    "start_time": "2021-11-16T11:19:38.927Z"
   },
   {
    "duration": 7,
    "start_time": "2021-11-16T11:19:39.021Z"
   },
   {
    "duration": 10,
    "start_time": "2021-11-16T11:19:39.262Z"
   },
   {
    "duration": 3,
    "start_time": "2021-11-16T11:19:39.503Z"
   },
   {
    "duration": 21,
    "start_time": "2021-11-16T11:19:39.742Z"
   },
   {
    "duration": 11802,
    "start_time": "2021-11-16T11:19:39.952Z"
   },
   {
    "duration": 14268,
    "start_time": "2021-11-16T11:19:51.763Z"
   },
   {
    "duration": 337,
    "start_time": "2021-11-16T11:20:06.033Z"
   },
   {
    "duration": 9,
    "start_time": "2021-11-16T11:20:06.372Z"
   },
   {
    "duration": 20,
    "start_time": "2021-11-16T11:20:06.383Z"
   },
   {
    "duration": 15122,
    "start_time": "2021-11-16T11:20:06.405Z"
   },
   {
    "duration": 307,
    "start_time": "2021-11-16T11:20:21.529Z"
   },
   {
    "duration": 5,
    "start_time": "2021-11-16T11:20:21.839Z"
   },
   {
    "duration": 355,
    "start_time": "2021-11-16T11:20:21.846Z"
   },
   {
    "duration": 10,
    "start_time": "2021-11-16T11:20:22.203Z"
   },
   {
    "duration": 998,
    "start_time": "2021-11-16T11:20:22.215Z"
   },
   {
    "duration": 8,
    "start_time": "2021-11-16T11:20:23.215Z"
   },
   {
    "duration": 12,
    "start_time": "2021-11-16T11:20:23.225Z"
   },
   {
    "duration": 9,
    "start_time": "2021-11-16T11:20:23.239Z"
   },
   {
    "duration": 2093,
    "start_time": "2021-11-16T11:20:23.250Z"
   },
   {
    "duration": 33,
    "start_time": "2021-11-16T11:20:25.345Z"
   },
   {
    "duration": 12,
    "start_time": "2021-11-16T11:20:25.380Z"
   },
   {
    "duration": 14,
    "start_time": "2021-11-16T11:20:25.393Z"
   },
   {
    "duration": 16,
    "start_time": "2021-11-16T11:20:25.409Z"
   },
   {
    "duration": 258,
    "start_time": "2021-11-16T11:21:19.692Z"
   },
   {
    "duration": 25,
    "start_time": "2021-11-16T11:21:22.590Z"
   },
   {
    "duration": 379,
    "start_time": "2021-11-16T11:23:53.580Z"
   },
   {
    "duration": 253,
    "start_time": "2021-11-16T11:24:51.212Z"
   },
   {
    "duration": 293,
    "start_time": "2021-11-16T11:25:01.591Z"
   },
   {
    "duration": 14,
    "start_time": "2021-11-16T11:25:41.662Z"
   },
   {
    "duration": 24,
    "start_time": "2021-11-16T11:25:50.182Z"
   },
   {
    "duration": 248,
    "start_time": "2021-11-16T11:26:10.342Z"
   },
   {
    "duration": 24,
    "start_time": "2021-11-16T11:26:12.062Z"
   },
   {
    "duration": 274,
    "start_time": "2021-11-16T11:26:19.622Z"
   },
   {
    "duration": 4,
    "start_time": "2021-11-16T11:26:29.033Z"
   },
   {
    "duration": 12,
    "start_time": "2021-11-16T11:26:39.142Z"
   },
   {
    "duration": 4,
    "start_time": "2021-11-16T11:26:41.952Z"
   },
   {
    "duration": 238,
    "start_time": "2021-11-16T11:27:05.661Z"
   },
   {
    "duration": 4,
    "start_time": "2021-11-16T11:27:10.652Z"
   },
   {
    "duration": 25,
    "start_time": "2021-11-16T11:27:15.790Z"
   },
   {
    "duration": 292,
    "start_time": "2021-11-16T11:28:26.342Z"
   },
   {
    "duration": 15,
    "start_time": "2021-11-16T11:29:12.911Z"
   },
   {
    "duration": 248,
    "start_time": "2021-11-16T11:29:36.262Z"
   },
   {
    "duration": 14,
    "start_time": "2021-11-16T11:29:47.902Z"
   },
   {
    "duration": 5,
    "start_time": "2021-11-16T11:30:37.012Z"
   },
   {
    "duration": 4,
    "start_time": "2021-11-16T11:30:41.182Z"
   },
   {
    "duration": 372,
    "start_time": "2021-11-16T11:30:59.662Z"
   },
   {
    "duration": 299,
    "start_time": "2021-11-16T11:31:23.762Z"
   },
   {
    "duration": 8,
    "start_time": "2021-11-16T11:31:50.332Z"
   },
   {
    "duration": 17,
    "start_time": "2021-11-16T11:32:06.451Z"
   },
   {
    "duration": 376,
    "start_time": "2021-11-16T11:36:19.541Z"
   },
   {
    "duration": 7,
    "start_time": "2021-11-16T11:36:25.652Z"
   },
   {
    "duration": 7,
    "start_time": "2021-11-16T11:40:06.021Z"
   },
   {
    "duration": 7210,
    "start_time": "2021-11-16T11:40:21.811Z"
   },
   {
    "duration": 4,
    "start_time": "2021-11-16T11:40:50.291Z"
   },
   {
    "duration": 5,
    "start_time": "2021-11-16T11:40:56.782Z"
   },
   {
    "duration": 4,
    "start_time": "2021-11-16T11:41:27.781Z"
   },
   {
    "duration": 4,
    "start_time": "2021-11-16T11:41:36.002Z"
   },
   {
    "duration": 1031,
    "start_time": "2021-11-16T11:41:44.332Z"
   },
   {
    "duration": 9,
    "start_time": "2021-11-16T11:41:52.651Z"
   },
   {
    "duration": 9,
    "start_time": "2021-11-16T11:42:18.742Z"
   },
   {
    "duration": 5,
    "start_time": "2021-11-16T11:42:30.882Z"
   },
   {
    "duration": 11,
    "start_time": "2021-11-16T11:43:26.100Z"
   },
   {
    "duration": 339,
    "start_time": "2021-11-16T11:44:20.262Z"
   },
   {
    "duration": 343,
    "start_time": "2021-11-16T11:44:35.911Z"
   },
   {
    "duration": 317,
    "start_time": "2021-11-16T11:44:44.261Z"
   },
   {
    "duration": 8,
    "start_time": "2021-11-16T11:45:20.542Z"
   },
   {
    "duration": 494,
    "start_time": "2021-11-16T11:45:40.841Z"
   },
   {
    "duration": 330,
    "start_time": "2021-11-16T11:45:59.962Z"
   },
   {
    "duration": 4,
    "start_time": "2021-11-16T11:46:52.182Z"
   },
   {
    "duration": 334,
    "start_time": "2021-11-16T11:47:08.981Z"
   },
   {
    "duration": 6,
    "start_time": "2021-11-16T11:47:28.273Z"
   },
   {
    "duration": 468,
    "start_time": "2021-11-16T11:48:10.822Z"
   },
   {
    "duration": 7,
    "start_time": "2021-11-16T11:48:16.901Z"
   },
   {
    "duration": 7,
    "start_time": "2021-11-16T11:49:02.032Z"
   },
   {
    "duration": 8,
    "start_time": "2021-11-16T11:49:10.901Z"
   },
   {
    "duration": 8,
    "start_time": "2021-11-16T11:49:17.632Z"
   },
   {
    "duration": 258,
    "start_time": "2021-11-16T11:54:42.662Z"
   },
   {
    "duration": 310,
    "start_time": "2021-11-16T11:56:22.583Z"
   },
   {
    "duration": 11,
    "start_time": "2021-11-16T11:58:33.982Z"
   },
   {
    "duration": 267,
    "start_time": "2021-11-16T11:59:20.642Z"
   },
   {
    "duration": 325,
    "start_time": "2021-11-16T12:00:20.661Z"
   },
   {
    "duration": 295,
    "start_time": "2021-11-16T12:00:27.342Z"
   },
   {
    "duration": 4261,
    "start_time": "2021-11-16T12:00:54.782Z"
   },
   {
    "duration": 86,
    "start_time": "2021-11-16T13:08:47.528Z"
   },
   {
    "duration": 541,
    "start_time": "2021-11-16T13:11:41.665Z"
   },
   {
    "duration": 267,
    "start_time": "2021-11-16T13:12:11.749Z"
   },
   {
    "duration": 83,
    "start_time": "2021-11-16T13:12:34.230Z"
   },
   {
    "duration": 280,
    "start_time": "2021-11-16T13:12:37.248Z"
   },
   {
    "duration": 270,
    "start_time": "2021-11-16T13:12:51.628Z"
   },
   {
    "duration": 16,
    "start_time": "2021-11-16T13:12:59.751Z"
   },
   {
    "duration": 6,
    "start_time": "2021-11-16T13:13:37.025Z"
   },
   {
    "duration": 5,
    "start_time": "2021-11-16T13:13:58.327Z"
   },
   {
    "duration": 5,
    "start_time": "2021-11-16T13:15:14.046Z"
   },
   {
    "duration": 729,
    "start_time": "2021-11-16T13:17:14.257Z"
   },
   {
    "duration": 23,
    "start_time": "2021-11-16T13:18:06.495Z"
   },
   {
    "duration": 25,
    "start_time": "2021-11-16T13:18:11.795Z"
   },
   {
    "duration": 25,
    "start_time": "2021-11-16T13:18:29.475Z"
   },
   {
    "duration": 83,
    "start_time": "2021-11-16T13:19:11.816Z"
   },
   {
    "duration": 16,
    "start_time": "2021-11-16T13:19:12.344Z"
   },
   {
    "duration": 7,
    "start_time": "2021-11-16T13:19:12.550Z"
   },
   {
    "duration": 12,
    "start_time": "2021-11-16T13:19:12.775Z"
   },
   {
    "duration": 3,
    "start_time": "2021-11-16T13:19:13.735Z"
   },
   {
    "duration": 17,
    "start_time": "2021-11-16T13:19:16.215Z"
   },
   {
    "duration": 25,
    "start_time": "2021-11-16T13:19:17.255Z"
   },
   {
    "duration": 27,
    "start_time": "2021-11-16T13:19:18.696Z"
   },
   {
    "duration": 91,
    "start_time": "2021-11-16T13:20:42.979Z"
   },
   {
    "duration": 16,
    "start_time": "2021-11-16T13:20:43.462Z"
   },
   {
    "duration": 7,
    "start_time": "2021-11-16T13:20:43.742Z"
   },
   {
    "duration": 13,
    "start_time": "2021-11-16T13:20:44.762Z"
   },
   {
    "duration": 2,
    "start_time": "2021-11-16T13:20:46.203Z"
   },
   {
    "duration": 18,
    "start_time": "2021-11-16T13:20:47.603Z"
   },
   {
    "duration": 9,
    "start_time": "2021-11-16T13:20:54.804Z"
   },
   {
    "duration": 9,
    "start_time": "2021-11-16T13:22:03.362Z"
   },
   {
    "duration": 7,
    "start_time": "2021-11-16T13:22:19.404Z"
   },
   {
    "duration": 295,
    "start_time": "2021-11-16T13:25:40.523Z"
   },
   {
    "duration": 3,
    "start_time": "2021-11-16T13:33:51.909Z"
   },
   {
    "duration": 3,
    "start_time": "2021-11-16T13:33:57.728Z"
   },
   {
    "duration": 4,
    "start_time": "2021-11-16T13:36:24.794Z"
   },
   {
    "duration": 280,
    "start_time": "2021-11-16T13:40:39.010Z"
   },
   {
    "duration": 387,
    "start_time": "2021-11-16T13:42:16.275Z"
   },
   {
    "duration": 86,
    "start_time": "2021-11-16T13:44:39.975Z"
   },
   {
    "duration": 287,
    "start_time": "2021-11-16T13:44:46.295Z"
   },
   {
    "duration": 295,
    "start_time": "2021-11-16T13:45:36.574Z"
   },
   {
    "duration": 20,
    "start_time": "2021-11-16T13:46:33.374Z"
   },
   {
    "duration": 12,
    "start_time": "2021-11-16T13:46:47.604Z"
   },
   {
    "duration": 291,
    "start_time": "2021-11-16T13:48:20.421Z"
   },
   {
    "duration": 11,
    "start_time": "2021-11-16T13:48:23.754Z"
   },
   {
    "duration": 303,
    "start_time": "2021-11-16T13:49:09.214Z"
   },
   {
    "duration": 11,
    "start_time": "2021-11-16T13:49:12.175Z"
   },
   {
    "duration": 310,
    "start_time": "2021-11-16T13:49:42.034Z"
   },
   {
    "duration": 1187,
    "start_time": "2021-11-16T13:52:14.463Z"
   },
   {
    "duration": 19,
    "start_time": "2021-11-16T13:52:15.652Z"
   },
   {
    "duration": 11,
    "start_time": "2021-11-16T13:52:15.673Z"
   },
   {
    "duration": 27,
    "start_time": "2021-11-16T13:52:15.686Z"
   },
   {
    "duration": 3,
    "start_time": "2021-11-16T13:52:15.715Z"
   },
   {
    "duration": 17,
    "start_time": "2021-11-16T13:52:15.876Z"
   },
   {
    "duration": 250,
    "start_time": "2021-11-16T13:52:16.023Z"
   },
   {
    "duration": 11,
    "start_time": "2021-11-16T13:52:16.275Z"
   },
   {
    "duration": 17,
    "start_time": "2021-11-16T13:52:16.444Z"
   },
   {
    "duration": 11884,
    "start_time": "2021-11-16T13:52:16.644Z"
   },
   {
    "duration": 14161,
    "start_time": "2021-11-16T13:52:28.530Z"
   },
   {
    "duration": 338,
    "start_time": "2021-11-16T13:52:42.693Z"
   },
   {
    "duration": 10,
    "start_time": "2021-11-16T13:52:43.033Z"
   },
   {
    "duration": 29,
    "start_time": "2021-11-16T13:52:43.044Z"
   },
   {
    "duration": 14968,
    "start_time": "2021-11-16T13:52:43.076Z"
   },
   {
    "duration": 291,
    "start_time": "2021-11-16T13:52:58.046Z"
   },
   {
    "duration": 3,
    "start_time": "2021-11-16T13:52:58.339Z"
   },
   {
    "duration": 6,
    "start_time": "2021-11-16T13:52:58.343Z"
   },
   {
    "duration": 14,
    "start_time": "2021-11-16T13:52:58.351Z"
   },
   {
    "duration": 5,
    "start_time": "2021-11-16T13:52:58.367Z"
   },
   {
    "duration": 4254,
    "start_time": "2021-11-16T13:52:58.374Z"
   },
   {
    "duration": -122,
    "start_time": "2021-11-16T13:53:02.753Z"
   },
   {
    "duration": 1602,
    "start_time": "2021-11-16T13:54:46.246Z"
   },
   {
    "duration": 12,
    "start_time": "2021-11-16T13:54:56.303Z"
   },
   {
    "duration": 10,
    "start_time": "2021-11-16T13:55:23.092Z"
   },
   {
    "duration": 293,
    "start_time": "2021-11-16T13:57:31.123Z"
   },
   {
    "duration": 9,
    "start_time": "2021-11-16T13:57:37.963Z"
   },
   {
    "duration": 1665,
    "start_time": "2021-11-16T14:00:15.219Z"
   },
   {
    "duration": 11,
    "start_time": "2021-11-16T14:00:20.059Z"
   },
   {
    "duration": 29,
    "start_time": "2021-11-16T14:06:19.719Z"
   },
   {
    "duration": 19,
    "start_time": "2021-11-16T14:06:31.656Z"
   },
   {
    "duration": 3,
    "start_time": "2021-11-16T14:09:06.735Z"
   },
   {
    "duration": 3,
    "start_time": "2021-11-16T14:09:10.975Z"
   },
   {
    "duration": 3,
    "start_time": "2021-11-16T14:10:10.855Z"
   },
   {
    "duration": 2,
    "start_time": "2021-11-16T14:10:12.675Z"
   },
   {
    "duration": 17,
    "start_time": "2021-11-16T14:12:10.343Z"
   },
   {
    "duration": 250,
    "start_time": "2021-11-16T14:12:11.652Z"
   },
   {
    "duration": 15,
    "start_time": "2021-11-16T14:12:32.452Z"
   },
   {
    "duration": 257,
    "start_time": "2021-11-16T14:12:33.412Z"
   },
   {
    "duration": 32,
    "start_time": "2021-11-16T14:13:11.211Z"
   },
   {
    "duration": 267,
    "start_time": "2021-11-16T14:13:33.974Z"
   },
   {
    "duration": 14,
    "start_time": "2021-11-16T14:14:06.651Z"
   },
   {
    "duration": 11,
    "start_time": "2021-11-16T14:24:21.322Z"
   },
   {
    "duration": 14988,
    "start_time": "2021-11-16T14:24:33.850Z"
   },
   {
    "duration": 10,
    "start_time": "2021-11-16T14:25:38.162Z"
   },
   {
    "duration": 13685,
    "start_time": "2021-11-16T14:27:19.683Z"
   },
   {
    "duration": 13790,
    "start_time": "2021-11-16T14:28:07.482Z"
   },
   {
    "duration": 14877,
    "start_time": "2021-11-16T14:28:39.048Z"
   },
   {
    "duration": 88,
    "start_time": "2021-11-16T14:30:09.760Z"
   },
   {
    "duration": 13,
    "start_time": "2021-11-16T14:30:10.240Z"
   },
   {
    "duration": 6,
    "start_time": "2021-11-16T14:30:10.500Z"
   },
   {
    "duration": 11,
    "start_time": "2021-11-16T14:30:10.740Z"
   },
   {
    "duration": 15,
    "start_time": "2021-11-16T14:30:11.000Z"
   },
   {
    "duration": 345,
    "start_time": "2021-11-16T14:30:11.260Z"
   },
   {
    "duration": 11,
    "start_time": "2021-11-16T14:30:11.607Z"
   },
   {
    "duration": 9,
    "start_time": "2021-11-16T14:30:12.589Z"
   },
   {
    "duration": 14,
    "start_time": "2021-11-16T14:30:13.100Z"
   },
   {
    "duration": 1343,
    "start_time": "2021-11-16T14:30:13.860Z"
   },
   {
    "duration": 11,
    "start_time": "2021-11-16T14:30:17.224Z"
   },
   {
    "duration": 18114,
    "start_time": "2021-11-16T14:30:18.161Z"
   },
   {
    "duration": 9,
    "start_time": "2021-11-16T14:30:51.980Z"
   },
   {
    "duration": 15663,
    "start_time": "2021-11-16T14:30:52.800Z"
   },
   {
    "duration": 15762,
    "start_time": "2021-11-16T14:31:08.465Z"
   },
   {
    "duration": 16232,
    "start_time": "2021-11-16T14:34:39.000Z"
   },
   {
    "duration": 8,
    "start_time": "2021-11-16T14:34:55.234Z"
   },
   {
    "duration": 17281,
    "start_time": "2021-11-16T14:38:36.410Z"
   },
   {
    "duration": 9,
    "start_time": "2021-11-16T14:38:53.693Z"
   },
   {
    "duration": 244,
    "start_time": "2021-11-16T14:40:42.640Z"
   },
   {
    "duration": 656,
    "start_time": "2021-11-16T14:43:49.100Z"
   },
   {
    "duration": 264,
    "start_time": "2021-11-16T14:43:59.608Z"
   },
   {
    "duration": 666,
    "start_time": "2021-11-16T14:44:24.840Z"
   },
   {
    "duration": 251,
    "start_time": "2021-11-16T14:44:51.180Z"
   },
   {
    "duration": 1128,
    "start_time": "2021-11-16T14:50:29.016Z"
   },
   {
    "duration": 18,
    "start_time": "2021-11-16T14:50:30.146Z"
   },
   {
    "duration": 6,
    "start_time": "2021-11-16T14:50:30.166Z"
   },
   {
    "duration": 15,
    "start_time": "2021-11-16T14:50:30.174Z"
   },
   {
    "duration": 16,
    "start_time": "2021-11-16T14:50:30.235Z"
   },
   {
    "duration": 258,
    "start_time": "2021-11-16T14:50:30.474Z"
   },
   {
    "duration": 11,
    "start_time": "2021-11-16T14:50:30.734Z"
   },
   {
    "duration": 8,
    "start_time": "2021-11-16T14:50:30.894Z"
   },
   {
    "duration": 10,
    "start_time": "2021-11-16T14:50:31.123Z"
   },
   {
    "duration": 1215,
    "start_time": "2021-11-16T14:50:31.314Z"
   },
   {
    "duration": 9,
    "start_time": "2021-11-16T14:50:32.531Z"
   },
   {
    "duration": 14797,
    "start_time": "2021-11-16T14:50:32.542Z"
   },
   {
    "duration": 8,
    "start_time": "2021-11-16T14:50:47.340Z"
   },
   {
    "duration": 17980,
    "start_time": "2021-11-16T14:50:47.363Z"
   },
   {
    "duration": 19,
    "start_time": "2021-11-16T14:51:05.345Z"
   },
   {
    "duration": 18851,
    "start_time": "2021-11-16T14:51:05.366Z"
   },
   {
    "duration": 10,
    "start_time": "2021-11-16T14:51:24.220Z"
   },
   {
    "duration": 2,
    "start_time": "2021-11-16T14:51:24.232Z"
   },
   {
    "duration": 12,
    "start_time": "2021-11-16T14:51:24.236Z"
   },
   {
    "duration": 8,
    "start_time": "2021-11-16T14:51:24.249Z"
   },
   {
    "duration": 354,
    "start_time": "2021-11-17T07:06:19.875Z"
   },
   {
    "duration": 1454,
    "start_time": "2021-11-17T07:06:37.436Z"
   },
   {
    "duration": 22,
    "start_time": "2021-11-17T07:06:38.893Z"
   },
   {
    "duration": 14,
    "start_time": "2021-11-17T07:06:38.918Z"
   },
   {
    "duration": 20,
    "start_time": "2021-11-17T07:06:38.934Z"
   },
   {
    "duration": 24,
    "start_time": "2021-11-17T07:06:38.957Z"
   },
   {
    "duration": 463,
    "start_time": "2021-11-17T07:06:38.983Z"
   },
   {
    "duration": 15,
    "start_time": "2021-11-17T07:06:39.449Z"
   },
   {
    "duration": 20,
    "start_time": "2021-11-17T07:06:39.467Z"
   },
   {
    "duration": 24,
    "start_time": "2021-11-17T07:06:39.490Z"
   },
   {
    "duration": 1908,
    "start_time": "2021-11-17T07:06:39.682Z"
   },
   {
    "duration": 14,
    "start_time": "2021-11-17T07:06:41.592Z"
   },
   {
    "duration": 23243,
    "start_time": "2021-11-17T07:06:41.609Z"
   },
   {
    "duration": 15,
    "start_time": "2021-11-17T07:07:04.856Z"
   },
   {
    "duration": 28625,
    "start_time": "2021-11-17T07:07:04.873Z"
   },
   {
    "duration": 30,
    "start_time": "2021-11-17T07:07:33.501Z"
   },
   {
    "duration": 31804,
    "start_time": "2021-11-17T07:07:33.534Z"
   },
   {
    "duration": 14,
    "start_time": "2021-11-17T07:08:05.342Z"
   },
   {
    "duration": 25,
    "start_time": "2021-11-17T07:08:05.359Z"
   },
   {
    "duration": 12,
    "start_time": "2021-11-17T07:08:41.541Z"
   },
   {
    "duration": 614,
    "start_time": "2021-11-17T07:09:05.829Z"
   },
   {
    "duration": 549,
    "start_time": "2021-11-17T07:09:44.987Z"
   },
   {
    "duration": 548,
    "start_time": "2021-11-17T07:10:31.566Z"
   },
   {
    "duration": 399,
    "start_time": "2021-11-17T07:12:00.296Z"
   },
   {
    "duration": 12,
    "start_time": "2021-11-17T07:12:14.583Z"
   },
   {
    "duration": 8,
    "start_time": "2021-11-17T07:13:02.908Z"
   },
   {
    "duration": 10,
    "start_time": "2021-11-17T07:13:24.390Z"
   },
   {
    "duration": 349,
    "start_time": "2021-11-17T07:14:10.490Z"
   },
   {
    "duration": 517,
    "start_time": "2021-11-17T07:14:17.463Z"
   },
   {
    "duration": 11,
    "start_time": "2021-11-17T07:14:32.319Z"
   },
   {
    "duration": 313,
    "start_time": "2021-11-17T07:15:20.126Z"
   },
   {
    "duration": 606,
    "start_time": "2021-11-17T07:15:47.120Z"
   },
   {
    "duration": 840,
    "start_time": "2021-11-17T07:17:00.975Z"
   },
   {
    "duration": 559,
    "start_time": "2021-11-17T07:17:10.065Z"
   },
   {
    "duration": 543,
    "start_time": "2021-11-17T07:17:42.907Z"
   },
   {
    "duration": 13,
    "start_time": "2021-11-17T07:20:30.178Z"
   },
   {
    "duration": 12,
    "start_time": "2021-11-17T07:20:46.634Z"
   },
   {
    "duration": 527,
    "start_time": "2021-11-17T07:21:21.616Z"
   },
   {
    "duration": 391,
    "start_time": "2021-11-17T07:21:35.743Z"
   },
   {
    "duration": 320,
    "start_time": "2021-11-17T07:21:39.816Z"
   },
   {
    "duration": 274,
    "start_time": "2021-11-17T07:21:43.720Z"
   },
   {
    "duration": 276,
    "start_time": "2021-11-17T07:22:36.410Z"
   },
   {
    "duration": 23,
    "start_time": "2021-11-17T07:27:32.385Z"
   },
   {
    "duration": 6,
    "start_time": "2021-11-17T07:28:37.857Z"
   },
   {
    "duration": 23,
    "start_time": "2021-11-17T07:28:44.906Z"
   },
   {
    "duration": 3,
    "start_time": "2021-11-17T07:33:32.652Z"
   },
   {
    "duration": 4,
    "start_time": "2021-11-17T07:37:06.636Z"
   },
   {
    "duration": 23,
    "start_time": "2021-11-17T07:38:33.796Z"
   },
   {
    "duration": 13,
    "start_time": "2021-11-17T07:39:03.015Z"
   },
   {
    "duration": 12,
    "start_time": "2021-11-17T07:40:06.069Z"
   },
   {
    "duration": 13,
    "start_time": "2021-11-17T07:40:22.924Z"
   },
   {
    "duration": 10,
    "start_time": "2021-11-17T07:40:27.765Z"
   },
   {
    "duration": 9,
    "start_time": "2021-11-17T07:40:58.093Z"
   },
   {
    "duration": 10,
    "start_time": "2021-11-17T07:41:05.597Z"
   },
   {
    "duration": 11,
    "start_time": "2021-11-17T07:41:13.501Z"
   },
   {
    "duration": 11,
    "start_time": "2021-11-17T07:41:35.134Z"
   },
   {
    "duration": 722,
    "start_time": "2021-11-17T07:42:57.797Z"
   },
   {
    "duration": 39,
    "start_time": "2021-11-17T07:44:19.042Z"
   },
   {
    "duration": 10,
    "start_time": "2021-11-17T07:44:39.823Z"
   },
   {
    "duration": 13,
    "start_time": "2021-11-17T07:44:49.307Z"
   },
   {
    "duration": 296,
    "start_time": "2021-11-17T07:45:04.401Z"
   },
   {
    "duration": 13,
    "start_time": "2021-11-17T07:45:09.590Z"
   },
   {
    "duration": 295,
    "start_time": "2021-11-17T07:45:57.447Z"
   },
   {
    "duration": 319,
    "start_time": "2021-11-17T07:46:13.287Z"
   },
   {
    "duration": 9,
    "start_time": "2021-11-17T07:46:55.225Z"
   },
   {
    "duration": 267,
    "start_time": "2021-11-17T07:47:18.431Z"
   },
   {
    "duration": 295,
    "start_time": "2021-11-17T07:47:27.080Z"
   },
   {
    "duration": 203,
    "start_time": "2021-11-17T07:47:38.312Z"
   },
   {
    "duration": 510,
    "start_time": "2021-11-17T07:48:03.630Z"
   },
   {
    "duration": 407,
    "start_time": "2021-11-17T07:52:36.041Z"
   },
   {
    "duration": 297,
    "start_time": "2021-11-17T07:52:51.035Z"
   },
   {
    "duration": 10,
    "start_time": "2021-11-17T07:53:02.407Z"
   },
   {
    "duration": 15,
    "start_time": "2021-11-17T07:53:34.408Z"
   },
   {
    "duration": 17,
    "start_time": "2021-11-17T07:53:54.847Z"
   },
   {
    "duration": 34,
    "start_time": "2021-11-17T07:55:24.898Z"
   },
   {
    "duration": 33,
    "start_time": "2021-11-17T07:55:30.211Z"
   },
   {
    "duration": 10,
    "start_time": "2021-11-17T07:55:46.817Z"
   },
   {
    "duration": 12,
    "start_time": "2021-11-17T07:56:28.348Z"
   },
   {
    "duration": 21,
    "start_time": "2021-11-17T07:56:32.298Z"
   },
   {
    "duration": 10,
    "start_time": "2021-11-17T07:56:58.546Z"
   },
   {
    "duration": 27,
    "start_time": "2021-11-17T08:01:05.984Z"
   },
   {
    "duration": 30,
    "start_time": "2021-11-17T08:01:42.987Z"
   },
   {
    "duration": 303,
    "start_time": "2021-11-17T08:04:28.107Z"
   },
   {
    "duration": 297,
    "start_time": "2021-11-17T08:06:05.316Z"
   },
   {
    "duration": 343,
    "start_time": "2021-11-17T08:06:19.009Z"
   },
   {
    "duration": 26,
    "start_time": "2021-11-17T08:07:08.680Z"
   },
   {
    "duration": 30,
    "start_time": "2021-11-17T08:08:47.156Z"
   },
   {
    "duration": 8645,
    "start_time": "2021-11-17T08:09:06.741Z"
   },
   {
    "duration": 8410,
    "start_time": "2021-11-17T08:09:17.214Z"
   },
   {
    "duration": 32,
    "start_time": "2021-11-17T08:10:01.991Z"
   },
   {
    "duration": 40,
    "start_time": "2021-11-17T08:10:25.792Z"
   },
   {
    "duration": 9,
    "start_time": "2021-11-17T08:11:38.863Z"
   },
   {
    "duration": 12,
    "start_time": "2021-11-17T08:14:26.256Z"
   },
   {
    "duration": 551,
    "start_time": "2021-11-17T08:15:30.127Z"
   },
   {
    "duration": 283,
    "start_time": "2021-11-17T08:15:43.137Z"
   },
   {
    "duration": 290,
    "start_time": "2021-11-17T08:15:48.799Z"
   },
   {
    "duration": 334,
    "start_time": "2021-11-17T08:18:29.067Z"
   },
   {
    "duration": 328,
    "start_time": "2021-11-17T08:18:45.042Z"
   },
   {
    "duration": 22,
    "start_time": "2021-11-17T08:19:36.897Z"
   },
   {
    "duration": 32,
    "start_time": "2021-11-17T08:19:54.040Z"
   },
   {
    "duration": 240,
    "start_time": "2021-11-17T08:21:33.210Z"
   },
   {
    "duration": 372,
    "start_time": "2021-11-17T08:21:56.153Z"
   },
   {
    "duration": 297,
    "start_time": "2021-11-17T08:22:28.168Z"
   },
   {
    "duration": 294,
    "start_time": "2021-11-17T08:22:48.744Z"
   },
   {
    "duration": 487,
    "start_time": "2021-11-17T08:22:57.105Z"
   },
   {
    "duration": 267,
    "start_time": "2021-11-17T08:23:11.253Z"
   },
   {
    "duration": 346,
    "start_time": "2021-11-17T08:23:47.651Z"
   },
   {
    "duration": 292,
    "start_time": "2021-11-17T08:23:54.074Z"
   },
   {
    "duration": 296,
    "start_time": "2021-11-17T08:24:28.835Z"
   },
   {
    "duration": 334,
    "start_time": "2021-11-17T08:25:26.562Z"
   },
   {
    "duration": 298,
    "start_time": "2021-11-17T08:26:00.378Z"
   },
   {
    "duration": 302,
    "start_time": "2021-11-17T08:33:45.021Z"
   },
   {
    "duration": 529,
    "start_time": "2021-11-17T08:33:51.920Z"
   },
   {
    "duration": 524,
    "start_time": "2021-11-17T08:33:58.061Z"
   },
   {
    "duration": 501,
    "start_time": "2021-11-17T08:35:20.505Z"
   },
   {
    "duration": 356,
    "start_time": "2021-11-17T08:35:32.877Z"
   },
   {
    "duration": 598,
    "start_time": "2021-11-17T09:00:58.469Z"
   },
   {
    "duration": 635,
    "start_time": "2021-11-17T09:01:10.757Z"
   },
   {
    "duration": 572,
    "start_time": "2021-11-17T09:01:51.853Z"
   },
   {
    "duration": 282,
    "start_time": "2021-11-17T09:02:36.803Z"
   },
   {
    "duration": 289,
    "start_time": "2021-11-17T09:02:56.254Z"
   },
   {
    "duration": 493,
    "start_time": "2021-11-17T09:04:41.685Z"
   },
   {
    "duration": 362,
    "start_time": "2021-11-17T09:04:51.980Z"
   },
   {
    "duration": 527,
    "start_time": "2021-11-17T09:04:56.566Z"
   },
   {
    "duration": 100,
    "start_time": "2021-11-17T09:10:09.246Z"
   },
   {
    "duration": 109,
    "start_time": "2021-11-17T09:10:48.896Z"
   },
   {
    "duration": 24,
    "start_time": "2021-11-17T09:10:53.114Z"
   },
   {
    "duration": 8,
    "start_time": "2021-11-17T09:10:53.345Z"
   },
   {
    "duration": 22,
    "start_time": "2021-11-17T09:10:53.561Z"
   },
   {
    "duration": 31,
    "start_time": "2021-11-17T09:10:53.809Z"
   },
   {
    "duration": 430,
    "start_time": "2021-11-17T09:10:54.027Z"
   },
   {
    "duration": 20,
    "start_time": "2021-11-17T09:10:54.460Z"
   },
   {
    "duration": 13,
    "start_time": "2021-11-17T09:10:54.513Z"
   },
   {
    "duration": 18,
    "start_time": "2021-11-17T09:10:54.747Z"
   },
   {
    "duration": 2305,
    "start_time": "2021-11-17T09:10:54.988Z"
   },
   {
    "duration": 15,
    "start_time": "2021-11-17T09:10:57.296Z"
   },
   {
    "duration": 27301,
    "start_time": "2021-11-17T09:10:57.314Z"
   },
   {
    "duration": 32431,
    "start_time": "2021-11-17T09:11:24.618Z"
   },
   {
    "duration": 35156,
    "start_time": "2021-11-17T09:11:57.051Z"
   },
   {
    "duration": 3,
    "start_time": "2021-11-17T09:12:32.209Z"
   },
   {
    "duration": 108,
    "start_time": "2021-11-17T09:12:32.229Z"
   },
   {
    "duration": -796,
    "start_time": "2021-11-17T09:12:33.137Z"
   },
   {
    "duration": -796,
    "start_time": "2021-11-17T09:12:33.139Z"
   },
   {
    "duration": -797,
    "start_time": "2021-11-17T09:12:33.141Z"
   },
   {
    "duration": -798,
    "start_time": "2021-11-17T09:12:33.144Z"
   },
   {
    "duration": -797,
    "start_time": "2021-11-17T09:12:33.145Z"
   },
   {
    "duration": -797,
    "start_time": "2021-11-17T09:12:33.147Z"
   },
   {
    "duration": -801,
    "start_time": "2021-11-17T09:12:33.153Z"
   },
   {
    "duration": -801,
    "start_time": "2021-11-17T09:12:33.155Z"
   },
   {
    "duration": -801,
    "start_time": "2021-11-17T09:12:33.157Z"
   },
   {
    "duration": 527,
    "start_time": "2021-11-17T09:12:43.893Z"
   },
   {
    "duration": 376,
    "start_time": "2021-11-17T09:12:45.907Z"
   },
   {
    "duration": 592,
    "start_time": "2021-11-17T09:12:46.286Z"
   },
   {
    "duration": 397,
    "start_time": "2021-11-17T09:12:46.881Z"
   },
   {
    "duration": 3,
    "start_time": "2021-11-17T09:12:47.280Z"
   },
   {
    "duration": 7,
    "start_time": "2021-11-17T09:12:47.286Z"
   },
   {
    "duration": 407,
    "start_time": "2021-11-17T09:12:47.508Z"
   },
   {
    "duration": 366,
    "start_time": "2021-11-17T09:12:47.979Z"
   },
   {
    "duration": 417,
    "start_time": "2021-11-17T09:12:48.474Z"
   },
   {
    "duration": 100,
    "start_time": "2021-11-17T09:13:40.752Z"
   },
   {
    "duration": 959,
    "start_time": "2021-11-17T09:14:45.776Z"
   },
   {
    "duration": 988,
    "start_time": "2021-11-17T09:16:31.433Z"
   },
   {
    "duration": 603,
    "start_time": "2021-11-17T09:16:56.546Z"
   },
   {
    "duration": 718,
    "start_time": "2021-11-17T09:18:26.497Z"
   },
   {
    "duration": 4,
    "start_time": "2021-11-17T09:18:50.283Z"
   },
   {
    "duration": 3,
    "start_time": "2021-11-17T09:18:52.874Z"
   },
   {
    "duration": 611,
    "start_time": "2021-11-17T09:20:50.275Z"
   },
   {
    "duration": 918,
    "start_time": "2021-11-17T09:25:15.606Z"
   },
   {
    "duration": 632,
    "start_time": "2021-11-17T09:25:31.396Z"
   },
   {
    "duration": 1151,
    "start_time": "2021-11-17T09:33:32.343Z"
   },
   {
    "duration": 1229,
    "start_time": "2021-11-17T09:35:08.253Z"
   },
   {
    "duration": 1530,
    "start_time": "2021-11-17T09:35:25.111Z"
   },
   {
    "duration": 785,
    "start_time": "2021-11-17T09:36:08.001Z"
   },
   {
    "duration": 843,
    "start_time": "2021-11-17T09:36:21.210Z"
   },
   {
    "duration": 1029,
    "start_time": "2021-11-17T09:36:34.081Z"
   },
   {
    "duration": 1058,
    "start_time": "2021-11-17T09:36:57.691Z"
   },
   {
    "duration": 632,
    "start_time": "2021-11-17T09:40:07.177Z"
   },
   {
    "duration": 1703,
    "start_time": "2021-11-17T09:40:20.712Z"
   },
   {
    "duration": 644,
    "start_time": "2021-11-17T09:40:31.261Z"
   },
   {
    "duration": 1011,
    "start_time": "2021-11-17T09:40:47.849Z"
   },
   {
    "duration": 677,
    "start_time": "2021-11-17T09:41:17.657Z"
   },
   {
    "duration": 310,
    "start_time": "2021-11-17T09:41:31.715Z"
   },
   {
    "duration": 681,
    "start_time": "2021-11-17T09:41:43.928Z"
   },
   {
    "duration": 1246,
    "start_time": "2021-11-17T09:42:20.458Z"
   },
   {
    "duration": 796,
    "start_time": "2021-11-17T09:42:27.777Z"
   },
   {
    "duration": 623,
    "start_time": "2021-11-17T09:42:31.752Z"
   },
   {
    "duration": 794,
    "start_time": "2021-11-17T09:42:49.378Z"
   },
   {
    "duration": 414,
    "start_time": "2021-11-17T09:43:03.403Z"
   },
   {
    "duration": 545,
    "start_time": "2021-11-17T09:44:00.125Z"
   },
   {
    "duration": 425,
    "start_time": "2021-11-17T09:44:43.450Z"
   },
   {
    "duration": 539,
    "start_time": "2021-11-17T09:45:10.747Z"
   },
   {
    "duration": 506,
    "start_time": "2021-11-17T09:45:19.604Z"
   },
   {
    "duration": 490,
    "start_time": "2021-11-17T09:50:34.739Z"
   },
   {
    "duration": 537,
    "start_time": "2021-11-17T10:00:29.480Z"
   },
   {
    "duration": 681,
    "start_time": "2021-11-17T10:02:47.662Z"
   },
   {
    "duration": 574,
    "start_time": "2021-11-17T10:03:20.289Z"
   },
   {
    "duration": 3,
    "start_time": "2021-11-17T10:04:17.273Z"
   },
   {
    "duration": 20,
    "start_time": "2021-11-17T10:07:10.568Z"
   },
   {
    "duration": 20,
    "start_time": "2021-11-17T10:09:25.558Z"
   },
   {
    "duration": 526,
    "start_time": "2021-11-17T10:10:16.786Z"
   },
   {
    "duration": 398,
    "start_time": "2021-11-17T10:10:46.881Z"
   },
   {
    "duration": 32,
    "start_time": "2021-11-17T10:11:56.434Z"
   },
   {
    "duration": 312,
    "start_time": "2021-11-17T10:12:27.929Z"
   },
   {
    "duration": 10,
    "start_time": "2021-11-17T10:12:38.088Z"
   },
   {
    "duration": 11,
    "start_time": "2021-11-17T10:13:06.122Z"
   },
   {
    "duration": 301,
    "start_time": "2021-11-17T10:13:17.914Z"
   },
   {
    "duration": 14,
    "start_time": "2021-11-17T10:13:27.394Z"
   },
   {
    "duration": 10,
    "start_time": "2021-11-17T10:13:36.771Z"
   },
   {
    "duration": 599,
    "start_time": "2021-11-17T10:15:33.290Z"
   },
   {
    "duration": 560,
    "start_time": "2021-11-17T10:15:36.527Z"
   },
   {
    "duration": 570,
    "start_time": "2021-11-17T10:16:16.763Z"
   },
   {
    "duration": 11,
    "start_time": "2021-11-17T10:18:06.372Z"
   },
   {
    "duration": 23,
    "start_time": "2021-11-17T10:19:33.093Z"
   },
   {
    "duration": 28,
    "start_time": "2021-11-17T10:19:57.540Z"
   },
   {
    "duration": 22,
    "start_time": "2021-11-17T10:21:42.661Z"
   },
   {
    "duration": 29,
    "start_time": "2021-11-17T10:21:52.325Z"
   },
   {
    "duration": 28,
    "start_time": "2021-11-17T10:22:41.310Z"
   },
   {
    "duration": 29,
    "start_time": "2021-11-17T10:22:50.750Z"
   },
   {
    "duration": 391,
    "start_time": "2021-11-17T10:23:56.819Z"
   },
   {
    "duration": 315,
    "start_time": "2021-11-17T10:24:24.447Z"
   },
   {
    "duration": 22,
    "start_time": "2021-11-17T10:29:47.161Z"
   },
   {
    "duration": 584,
    "start_time": "2021-11-17T13:12:56.688Z"
   },
   {
    "duration": 1092,
    "start_time": "2021-11-17T13:15:43.058Z"
   },
   {
    "duration": 468,
    "start_time": "2021-11-17T13:16:03.891Z"
   },
   {
    "duration": 7,
    "start_time": "2021-11-17T13:19:32.241Z"
   },
   {
    "duration": 664,
    "start_time": "2021-11-17T13:19:49.265Z"
   },
   {
    "duration": 7,
    "start_time": "2021-11-17T13:20:07.082Z"
   },
   {
    "duration": 8,
    "start_time": "2021-11-17T13:22:22.297Z"
   },
   {
    "duration": 14,
    "start_time": "2021-11-17T13:24:22.090Z"
   },
   {
    "duration": 14,
    "start_time": "2021-11-17T13:24:52.297Z"
   },
   {
    "duration": 1594,
    "start_time": "2021-11-17T13:25:09.643Z"
   },
   {
    "duration": 474,
    "start_time": "2021-11-17T13:26:16.651Z"
   },
   {
    "duration": 584,
    "start_time": "2021-11-17T13:29:54.947Z"
   },
   {
    "duration": 383,
    "start_time": "2021-11-17T13:30:05.230Z"
   },
   {
    "duration": 5902,
    "start_time": "2021-11-17T13:35:59.558Z"
   },
   {
    "duration": 3,
    "start_time": "2021-11-17T13:40:27.215Z"
   },
   {
    "duration": 43,
    "start_time": "2021-11-17T13:44:34.273Z"
   },
   {
    "duration": 63,
    "start_time": "2021-11-17T13:44:42.489Z"
   },
   {
    "duration": 51,
    "start_time": "2021-11-17T13:44:55.769Z"
   },
   {
    "duration": 47,
    "start_time": "2021-11-17T13:47:00.443Z"
   },
   {
    "duration": 45,
    "start_time": "2021-11-17T13:47:09.731Z"
   },
   {
    "duration": 43,
    "start_time": "2021-11-17T13:47:24.028Z"
   },
   {
    "duration": 49,
    "start_time": "2021-11-17T13:47:46.409Z"
   },
   {
    "duration": 5749,
    "start_time": "2021-11-17T13:48:30.680Z"
   },
   {
    "duration": 3740,
    "start_time": "2021-11-17T13:50:57.618Z"
   },
   {
    "duration": 5852,
    "start_time": "2021-11-17T13:51:46.165Z"
   },
   {
    "duration": 3364,
    "start_time": "2021-11-17T13:52:15.091Z"
   },
   {
    "duration": 295,
    "start_time": "2021-11-17T13:53:19.274Z"
   },
   {
    "duration": 9501,
    "start_time": "2021-11-17T13:53:36.946Z"
   },
   {
    "duration": 1570,
    "start_time": "2021-11-17T13:54:24.804Z"
   },
   {
    "duration": 1944,
    "start_time": "2021-11-17T13:57:32.075Z"
   },
   {
    "duration": 1691,
    "start_time": "2021-11-17T13:58:07.656Z"
   },
   {
    "duration": 2179,
    "start_time": "2021-11-17T13:58:30.068Z"
   },
   {
    "duration": 8488,
    "start_time": "2021-11-17T14:00:48.782Z"
   },
   {
    "duration": 8160,
    "start_time": "2021-11-17T14:02:46.683Z"
   },
   {
    "duration": 11,
    "start_time": "2021-11-17T14:03:03.449Z"
   },
   {
    "duration": 6991,
    "start_time": "2021-11-17T14:05:35.010Z"
   },
   {
    "duration": 6612,
    "start_time": "2021-11-17T14:07:00.702Z"
   },
   {
    "duration": 6916,
    "start_time": "2021-11-17T14:07:18.137Z"
   },
   {
    "duration": 6,
    "start_time": "2021-11-17T14:07:47.352Z"
   },
   {
    "duration": 280,
    "start_time": "2021-11-17T14:07:56.522Z"
   },
   {
    "duration": 348,
    "start_time": "2021-11-17T14:08:38.195Z"
   },
   {
    "duration": 283,
    "start_time": "2021-11-17T14:09:38.204Z"
   },
   {
    "duration": 7,
    "start_time": "2021-11-17T14:09:47.393Z"
   },
   {
    "duration": 14,
    "start_time": "2021-11-17T14:09:53.680Z"
   },
   {
    "duration": 14,
    "start_time": "2021-11-17T14:10:13.076Z"
   },
   {
    "duration": 7,
    "start_time": "2021-11-17T14:10:39.400Z"
   },
   {
    "duration": 8,
    "start_time": "2021-11-17T14:11:14.649Z"
   },
   {
    "duration": 25,
    "start_time": "2021-11-17T14:16:08.955Z"
   },
   {
    "duration": 46,
    "start_time": "2021-11-17T14:16:11.009Z"
   },
   {
    "duration": 8,
    "start_time": "2021-11-17T14:16:45.372Z"
   },
   {
    "duration": 3,
    "start_time": "2021-11-17T14:16:52.474Z"
   },
   {
    "duration": 429,
    "start_time": "2021-11-17T14:17:05.853Z"
   },
   {
    "duration": 350,
    "start_time": "2021-11-17T14:17:22.371Z"
   },
   {
    "duration": 7,
    "start_time": "2021-11-17T14:17:44.147Z"
   },
   {
    "duration": 12,
    "start_time": "2021-11-17T14:17:49.972Z"
   },
   {
    "duration": 288,
    "start_time": "2021-11-17T14:17:52.954Z"
   },
   {
    "duration": 6,
    "start_time": "2021-11-17T14:18:04.459Z"
   },
   {
    "duration": 44,
    "start_time": "2021-11-17T14:26:50.838Z"
   },
   {
    "duration": 330,
    "start_time": "2021-11-17T14:27:46.567Z"
   },
   {
    "duration": 2288,
    "start_time": "2021-11-17T14:32:22.146Z"
   },
   {
    "duration": 6,
    "start_time": "2021-11-17T14:32:51.575Z"
   },
   {
    "duration": 8,
    "start_time": "2021-11-17T14:33:31.568Z"
   },
   {
    "duration": 276,
    "start_time": "2021-11-17T14:34:02.755Z"
   },
   {
    "duration": 286,
    "start_time": "2021-11-17T14:34:22.241Z"
   },
   {
    "duration": 470,
    "start_time": "2021-11-17T14:34:54.287Z"
   },
   {
    "duration": 276,
    "start_time": "2021-11-17T14:35:32.146Z"
   },
   {
    "duration": 269,
    "start_time": "2021-11-17T14:42:22.803Z"
   },
   {
    "duration": 261,
    "start_time": "2021-11-17T14:43:25.402Z"
   },
   {
    "duration": 5,
    "start_time": "2021-11-17T14:44:29.468Z"
   },
   {
    "duration": 7,
    "start_time": "2021-11-17T14:44:45.157Z"
   },
   {
    "duration": 44,
    "start_time": "2021-11-17T14:46:39.634Z"
   },
   {
    "duration": 7,
    "start_time": "2021-11-17T14:47:12.821Z"
   },
   {
    "duration": 274,
    "start_time": "2021-11-17T14:47:45.940Z"
   },
   {
    "duration": 291,
    "start_time": "2021-11-17T14:48:00.167Z"
   },
   {
    "duration": 2526,
    "start_time": "2021-11-17T14:52:55.862Z"
   },
   {
    "duration": 2253,
    "start_time": "2021-11-17T14:55:12.448Z"
   },
   {
    "duration": 291,
    "start_time": "2021-11-17T14:55:30.166Z"
   },
   {
    "duration": 6,
    "start_time": "2021-11-17T14:56:27.833Z"
   },
   {
    "duration": 8,
    "start_time": "2021-11-17T14:56:50.878Z"
   },
   {
    "duration": 7,
    "start_time": "2021-11-17T14:57:50.232Z"
   },
   {
    "duration": 43,
    "start_time": "2021-11-17T14:58:18.837Z"
   },
   {
    "duration": 6,
    "start_time": "2021-11-17T14:58:21.762Z"
   },
   {
    "duration": 8,
    "start_time": "2021-11-17T14:58:24.906Z"
   },
   {
    "duration": 3,
    "start_time": "2021-11-17T14:58:28.408Z"
   },
   {
    "duration": 44,
    "start_time": "2021-11-17T14:58:54.041Z"
   },
   {
    "duration": 6,
    "start_time": "2021-11-17T14:58:59.727Z"
   },
   {
    "duration": 3,
    "start_time": "2021-11-17T14:59:32.088Z"
   },
   {
    "duration": 1841,
    "start_time": "2021-11-17T14:59:42.266Z"
   },
   {
    "duration": 5,
    "start_time": "2021-11-17T15:05:34.603Z"
   },
   {
    "duration": 339,
    "start_time": "2021-11-17T15:05:43.418Z"
   },
   {
    "duration": 290,
    "start_time": "2021-11-17T15:05:54.748Z"
   },
   {
    "duration": 307,
    "start_time": "2021-11-17T15:07:20.139Z"
   },
   {
    "duration": 522,
    "start_time": "2021-11-17T15:11:09.941Z"
   },
   {
    "duration": 626,
    "start_time": "2021-11-17T15:15:23.293Z"
   },
   {
    "duration": 289,
    "start_time": "2021-11-17T15:20:00.295Z"
   },
   {
    "duration": 8,
    "start_time": "2021-11-17T15:21:17.735Z"
   },
   {
    "duration": 53,
    "start_time": "2021-11-17T15:23:07.691Z"
   },
   {
    "duration": 18,
    "start_time": "2021-11-17T15:24:09.738Z"
   },
   {
    "duration": 263,
    "start_time": "2021-11-17T15:26:05.009Z"
   },
   {
    "duration": 51,
    "start_time": "2021-11-17T15:27:36.265Z"
   },
   {
    "duration": 24,
    "start_time": "2021-11-17T15:28:28.330Z"
   },
   {
    "duration": 39,
    "start_time": "2021-11-17T15:29:30.674Z"
   },
   {
    "duration": 23,
    "start_time": "2021-11-17T15:29:52.267Z"
   },
   {
    "duration": 50,
    "start_time": "2021-11-17T15:30:07.151Z"
   },
   {
    "duration": 25,
    "start_time": "2021-11-17T15:30:17.970Z"
   },
   {
    "duration": 57,
    "start_time": "2021-11-17T15:30:39.995Z"
   },
   {
    "duration": 57,
    "start_time": "2021-11-17T15:30:53.719Z"
   },
   {
    "duration": 526,
    "start_time": "2021-11-17T15:31:14.363Z"
   },
   {
    "duration": 44,
    "start_time": "2021-11-17T15:33:26.640Z"
   },
   {
    "duration": 56,
    "start_time": "2021-11-17T15:34:15.843Z"
   },
   {
    "duration": 519,
    "start_time": "2021-11-17T15:34:33.204Z"
   },
   {
    "duration": 33,
    "start_time": "2021-11-17T15:34:49.236Z"
   },
   {
    "duration": 91,
    "start_time": "2021-11-17T15:35:31.750Z"
   },
   {
    "duration": 7,
    "start_time": "2021-11-17T15:35:44.788Z"
   },
   {
    "duration": 54,
    "start_time": "2021-11-17T15:40:07.095Z"
   },
   {
    "duration": 339,
    "start_time": "2021-11-17T15:40:23.507Z"
   },
   {
    "duration": 8,
    "start_time": "2021-11-17T15:40:26.894Z"
   },
   {
    "duration": 22,
    "start_time": "2021-11-17T15:41:21.845Z"
   },
   {
    "duration": 7,
    "start_time": "2021-11-17T15:41:46.934Z"
   },
   {
    "duration": 17,
    "start_time": "2021-11-17T15:42:11.868Z"
   },
   {
    "duration": 538,
    "start_time": "2021-11-17T15:42:24.725Z"
   },
   {
    "duration": 514,
    "start_time": "2021-11-17T15:42:57.640Z"
   },
   {
    "duration": 534,
    "start_time": "2021-11-17T15:43:41.823Z"
   },
   {
    "duration": 590,
    "start_time": "2021-11-17T15:44:50.343Z"
   },
   {
    "duration": 14,
    "start_time": "2021-11-17T15:45:17.981Z"
   },
   {
    "duration": 4,
    "start_time": "2021-11-17T15:45:40.895Z"
   },
   {
    "duration": 4,
    "start_time": "2021-11-17T15:45:44.752Z"
   },
   {
    "duration": 5,
    "start_time": "2021-11-17T15:47:18.382Z"
   },
   {
    "duration": 348,
    "start_time": "2021-11-17T15:50:55.521Z"
   },
   {
    "duration": 354,
    "start_time": "2021-11-17T15:51:37.715Z"
   },
   {
    "duration": 6,
    "start_time": "2021-11-17T15:51:47.311Z"
   },
   {
    "duration": 283,
    "start_time": "2021-11-17T15:52:35.514Z"
   },
   {
    "duration": 60,
    "start_time": "2021-11-17T15:52:59.850Z"
   },
   {
    "duration": 35,
    "start_time": "2021-11-17T15:54:09.539Z"
   },
   {
    "duration": 264,
    "start_time": "2021-11-17T15:54:52.884Z"
   },
   {
    "duration": 407,
    "start_time": "2021-11-17T15:55:03.682Z"
   },
   {
    "duration": 300,
    "start_time": "2021-11-17T15:55:48.378Z"
   },
   {
    "duration": 34,
    "start_time": "2021-11-17T15:56:01.731Z"
   },
   {
    "duration": 33,
    "start_time": "2021-11-17T15:56:09.217Z"
   },
   {
    "duration": 297,
    "start_time": "2021-11-17T15:56:25.563Z"
   },
   {
    "duration": 316,
    "start_time": "2021-11-17T15:58:46.818Z"
   },
   {
    "duration": 457,
    "start_time": "2021-11-17T16:00:18.652Z"
   },
   {
    "duration": 360,
    "start_time": "2021-11-17T16:01:20.005Z"
   },
   {
    "duration": 260,
    "start_time": "2021-11-17T16:01:37.916Z"
   },
   {
    "duration": 5,
    "start_time": "2021-11-17T16:02:14.613Z"
   },
   {
    "duration": 5,
    "start_time": "2021-11-17T16:02:27.139Z"
   },
   {
    "duration": 97,
    "start_time": "2021-11-17T16:02:44.692Z"
   },
   {
    "duration": 87,
    "start_time": "2021-11-17T16:02:48.485Z"
   },
   {
    "duration": 107,
    "start_time": "2021-11-17T16:02:58.995Z"
   },
   {
    "duration": 6,
    "start_time": "2021-11-17T16:04:48.147Z"
   },
   {
    "duration": 5,
    "start_time": "2021-11-17T16:05:00.908Z"
   },
   {
    "duration": 4,
    "start_time": "2021-11-17T16:05:41.133Z"
   },
   {
    "duration": 271,
    "start_time": "2021-11-17T16:06:10.326Z"
   },
   {
    "duration": 280,
    "start_time": "2021-11-17T16:07:33.398Z"
   },
   {
    "duration": 263,
    "start_time": "2021-11-17T16:08:16.765Z"
   },
   {
    "duration": 303,
    "start_time": "2021-11-17T16:14:12.984Z"
   },
   {
    "duration": 6,
    "start_time": "2021-11-17T16:14:35.463Z"
   },
   {
    "duration": 272,
    "start_time": "2021-11-17T16:16:07.011Z"
   },
   {
    "duration": 313,
    "start_time": "2021-11-17T16:16:23.091Z"
   },
   {
    "duration": 7,
    "start_time": "2021-11-17T16:17:28.201Z"
   },
   {
    "duration": 267,
    "start_time": "2021-11-17T16:19:20.010Z"
   },
   {
    "duration": 4,
    "start_time": "2021-11-17T16:19:27.298Z"
   },
   {
    "duration": 17,
    "start_time": "2021-11-17T16:19:30.161Z"
   },
   {
    "duration": 395,
    "start_time": "2021-11-17T16:19:57.134Z"
   },
   {
    "duration": 343,
    "start_time": "2021-11-17T16:23:00.575Z"
   },
   {
    "duration": 551,
    "start_time": "2021-11-17T16:23:52.419Z"
   },
   {
    "duration": 3,
    "start_time": "2021-11-17T16:25:00.339Z"
   },
   {
    "duration": 610,
    "start_time": "2021-11-17T16:25:26.005Z"
   },
   {
    "duration": 6,
    "start_time": "2021-11-17T16:31:36.365Z"
   },
   {
    "duration": 404,
    "start_time": "2021-11-17T16:31:54.510Z"
   },
   {
    "duration": 216,
    "start_time": "2021-11-18T06:21:55.518Z"
   },
   {
    "duration": 1159,
    "start_time": "2021-11-18T06:22:02.190Z"
   },
   {
    "duration": 14,
    "start_time": "2021-11-18T06:22:03.351Z"
   },
   {
    "duration": 16,
    "start_time": "2021-11-18T06:22:03.367Z"
   },
   {
    "duration": 26,
    "start_time": "2021-11-18T06:22:03.385Z"
   },
   {
    "duration": 15,
    "start_time": "2021-11-18T06:22:03.528Z"
   },
   {
    "duration": 254,
    "start_time": "2021-11-18T06:22:04.100Z"
   },
   {
    "duration": 13,
    "start_time": "2021-11-18T06:22:04.468Z"
   },
   {
    "duration": 9,
    "start_time": "2021-11-18T06:22:05.083Z"
   },
   {
    "duration": 236,
    "start_time": "2021-11-18T06:22:05.360Z"
   },
   {
    "duration": 11,
    "start_time": "2021-11-18T06:22:05.738Z"
   },
   {
    "duration": 1230,
    "start_time": "2021-11-18T06:22:06.033Z"
   },
   {
    "duration": 10,
    "start_time": "2021-11-18T06:22:07.265Z"
   },
   {
    "duration": 13939,
    "start_time": "2021-11-18T06:22:07.276Z"
   },
   {
    "duration": 17055,
    "start_time": "2021-11-18T06:22:21.217Z"
   },
   {
    "duration": 17763,
    "start_time": "2021-11-18T06:22:38.274Z"
   },
   {
    "duration": 7,
    "start_time": "2021-11-18T06:22:56.039Z"
   },
   {
    "duration": 26,
    "start_time": "2021-11-18T06:24:39.998Z"
   },
   {
    "duration": 775,
    "start_time": "2021-11-18T06:31:53.449Z"
   },
   {
    "duration": 24,
    "start_time": "2021-11-18T06:32:42.198Z"
   },
   {
    "duration": 1219,
    "start_time": "2021-11-18T06:35:28.760Z"
   },
   {
    "duration": 662,
    "start_time": "2021-11-18T06:35:33.009Z"
   },
   {
    "duration": 687,
    "start_time": "2021-11-18T06:35:49.683Z"
   },
   {
    "duration": 749,
    "start_time": "2021-11-18T06:36:17.746Z"
   },
   {
    "duration": 81,
    "start_time": "2021-11-18T06:36:34.197Z"
   },
   {
    "duration": 14,
    "start_time": "2021-11-18T06:36:34.707Z"
   },
   {
    "duration": 6,
    "start_time": "2021-11-18T06:36:34.961Z"
   },
   {
    "duration": 10,
    "start_time": "2021-11-18T06:36:35.209Z"
   },
   {
    "duration": 15,
    "start_time": "2021-11-18T06:36:35.462Z"
   },
   {
    "duration": 285,
    "start_time": "2021-11-18T06:36:35.727Z"
   },
   {
    "duration": 13,
    "start_time": "2021-11-18T06:36:36.017Z"
   },
   {
    "duration": 9,
    "start_time": "2021-11-18T06:36:36.248Z"
   },
   {
    "duration": 15,
    "start_time": "2021-11-18T06:36:36.502Z"
   },
   {
    "duration": 2,
    "start_time": "2021-11-18T06:36:36.774Z"
   },
   {
    "duration": 3,
    "start_time": "2021-11-18T06:36:37.090Z"
   },
   {
    "duration": 10,
    "start_time": "2021-11-18T06:36:37.348Z"
   },
   {
    "duration": 1276,
    "start_time": "2021-11-18T06:36:37.612Z"
   },
   {
    "duration": 875,
    "start_time": "2021-11-18T06:36:38.890Z"
   },
   {
    "duration": 9,
    "start_time": "2021-11-18T06:36:39.767Z"
   },
   {
    "duration": 14418,
    "start_time": "2021-11-18T06:36:39.778Z"
   },
   {
    "duration": 17188,
    "start_time": "2021-11-18T06:36:54.198Z"
   },
   {
    "duration": 18191,
    "start_time": "2021-11-18T06:37:11.391Z"
   },
   {
    "duration": 8,
    "start_time": "2021-11-18T06:37:29.584Z"
   },
   {
    "duration": 350,
    "start_time": "2021-11-18T06:37:29.594Z"
   },
   {
    "duration": 2,
    "start_time": "2021-11-18T06:37:29.946Z"
   },
   {
    "duration": 9,
    "start_time": "2021-11-18T06:37:29.949Z"
   },
   {
    "duration": 10,
    "start_time": "2021-11-18T06:37:29.959Z"
   },
   {
    "duration": 8,
    "start_time": "2021-11-18T06:37:29.971Z"
   },
   {
    "duration": 12,
    "start_time": "2021-11-18T06:37:29.981Z"
   },
   {
    "duration": 218,
    "start_time": "2021-11-18T06:37:29.995Z"
   },
   {
    "duration": 195,
    "start_time": "2021-11-18T06:37:30.214Z"
   },
   {
    "duration": 250,
    "start_time": "2021-11-18T06:37:30.411Z"
   },
   {
    "duration": 7,
    "start_time": "2021-11-18T06:37:30.663Z"
   },
   {
    "duration": 27,
    "start_time": "2021-11-18T06:37:30.672Z"
   },
   {
    "duration": 50,
    "start_time": "2021-11-18T06:37:30.701Z"
   },
   {
    "duration": 34,
    "start_time": "2021-11-18T06:37:30.752Z"
   },
   {
    "duration": 21,
    "start_time": "2021-11-18T06:37:30.788Z"
   },
   {
    "duration": 214,
    "start_time": "2021-11-18T06:37:30.811Z"
   },
   {
    "duration": -154,
    "start_time": "2021-11-18T06:37:31.182Z"
   },
   {
    "duration": -155,
    "start_time": "2021-11-18T06:37:31.184Z"
   },
   {
    "duration": 25,
    "start_time": "2021-11-18T06:37:35.943Z"
   },
   {
    "duration": 2,
    "start_time": "2021-11-18T06:37:50.815Z"
   },
   {
    "duration": 9,
    "start_time": "2021-11-18T06:38:45.917Z"
   },
   {
    "duration": 9,
    "start_time": "2021-11-18T06:39:02.210Z"
   },
   {
    "duration": 189,
    "start_time": "2021-11-18T06:40:02.763Z"
   },
   {
    "duration": 15,
    "start_time": "2021-11-18T06:40:27.509Z"
   },
   {
    "duration": 27,
    "start_time": "2021-11-18T06:40:55.512Z"
   },
   {
    "duration": 20,
    "start_time": "2021-11-18T06:41:08.527Z"
   },
   {
    "duration": 19,
    "start_time": "2021-11-18T06:41:31.376Z"
   },
   {
    "duration": 30,
    "start_time": "2021-11-18T06:41:33.379Z"
   },
   {
    "duration": 5,
    "start_time": "2021-11-18T06:42:54.800Z"
   },
   {
    "duration": 337,
    "start_time": "2021-11-18T06:43:33.875Z"
   },
   {
    "duration": 6,
    "start_time": "2021-11-18T06:45:06.223Z"
   },
   {
    "duration": 190,
    "start_time": "2021-11-18T06:45:13.566Z"
   },
   {
    "duration": 4,
    "start_time": "2021-11-18T06:45:32.722Z"
   },
   {
    "duration": 490,
    "start_time": "2021-11-18T06:45:46.331Z"
   },
   {
    "duration": 13,
    "start_time": "2021-11-18T06:46:48.902Z"
   },
   {
    "duration": 6,
    "start_time": "2021-11-18T06:47:52.948Z"
   },
   {
    "duration": 29,
    "start_time": "2021-11-18T06:50:48.080Z"
   },
   {
    "duration": 187,
    "start_time": "2021-11-18T06:51:39.528Z"
   },
   {
    "duration": 193,
    "start_time": "2021-11-18T06:52:03.295Z"
   },
   {
    "duration": 177,
    "start_time": "2021-11-18T06:53:24.649Z"
   },
   {
    "duration": 5,
    "start_time": "2021-11-18T06:54:36.972Z"
   },
   {
    "duration": 23,
    "start_time": "2021-11-18T06:55:05.532Z"
   },
   {
    "duration": 192,
    "start_time": "2021-11-18T06:55:09.792Z"
   },
   {
    "duration": 186,
    "start_time": "2021-11-18T06:56:11.673Z"
   },
   {
    "duration": 2,
    "start_time": "2021-11-18T06:56:29.374Z"
   },
   {
    "duration": 2,
    "start_time": "2021-11-18T06:57:51.262Z"
   },
   {
    "duration": 3,
    "start_time": "2021-11-18T06:57:54.198Z"
   },
   {
    "duration": 3,
    "start_time": "2021-11-18T06:57:59.109Z"
   },
   {
    "duration": 389,
    "start_time": "2021-11-18T07:00:02.692Z"
   },
   {
    "duration": 29,
    "start_time": "2021-11-18T07:00:45.600Z"
   },
   {
    "duration": 385,
    "start_time": "2021-11-18T07:00:48.426Z"
   },
   {
    "duration": 3,
    "start_time": "2021-11-18T07:01:19.267Z"
   },
   {
    "duration": 245,
    "start_time": "2021-11-18T07:01:21.041Z"
   },
   {
    "duration": 28,
    "start_time": "2021-11-18T08:10:51.710Z"
   },
   {
    "duration": 370,
    "start_time": "2021-11-18T08:10:54.065Z"
   },
   {
    "duration": 233,
    "start_time": "2021-11-18T08:10:57.423Z"
   },
   {
    "duration": 34,
    "start_time": "2021-11-18T08:11:15.108Z"
   },
   {
    "duration": 11,
    "start_time": "2021-11-18T08:11:38.492Z"
   },
   {
    "duration": 13,
    "start_time": "2021-11-18T08:11:54.849Z"
   },
   {
    "duration": 239,
    "start_time": "2021-11-18T08:12:30.640Z"
   },
   {
    "duration": 9,
    "start_time": "2021-11-18T08:12:33.617Z"
   },
   {
    "duration": 8,
    "start_time": "2021-11-18T08:14:15.890Z"
   },
   {
    "duration": 9,
    "start_time": "2021-11-18T08:15:37.702Z"
   },
   {
    "duration": 224,
    "start_time": "2021-11-18T08:16:30.699Z"
   },
   {
    "duration": 339,
    "start_time": "2021-11-18T08:16:46.439Z"
   },
   {
    "duration": 207,
    "start_time": "2021-11-18T08:16:55.149Z"
   },
   {
    "duration": 8,
    "start_time": "2021-11-18T08:17:22.998Z"
   },
   {
    "duration": 7,
    "start_time": "2021-11-18T08:18:34.030Z"
   },
   {
    "duration": 340,
    "start_time": "2021-11-18T08:18:57.656Z"
   },
   {
    "duration": 368,
    "start_time": "2021-11-18T08:20:31.320Z"
   },
   {
    "duration": 8,
    "start_time": "2021-11-18T08:29:48.180Z"
   },
   {
    "duration": 194,
    "start_time": "2021-11-18T08:30:19.509Z"
   },
   {
    "duration": 11,
    "start_time": "2021-11-18T08:30:39.990Z"
   },
   {
    "duration": 42,
    "start_time": "2021-11-18T08:31:58.251Z"
   },
   {
    "duration": 40,
    "start_time": "2021-11-18T08:32:23.615Z"
   },
   {
    "duration": 39,
    "start_time": "2021-11-18T08:34:46.574Z"
   },
   {
    "duration": 35,
    "start_time": "2021-11-18T08:35:46.597Z"
   },
   {
    "duration": 207,
    "start_time": "2021-11-18T08:35:51.942Z"
   },
   {
    "duration": 38,
    "start_time": "2021-11-18T08:35:55.939Z"
   },
   {
    "duration": 38,
    "start_time": "2021-11-18T08:36:02.719Z"
   },
   {
    "duration": 215,
    "start_time": "2021-11-18T08:36:07.178Z"
   },
   {
    "duration": 8,
    "start_time": "2021-11-18T08:36:09.134Z"
   },
   {
    "duration": 11,
    "start_time": "2021-11-18T08:36:16.396Z"
   },
   {
    "duration": 6,
    "start_time": "2021-11-18T08:36:24.452Z"
   },
   {
    "duration": 8,
    "start_time": "2021-11-18T08:36:32.695Z"
   },
   {
    "duration": 8,
    "start_time": "2021-11-18T08:39:06.085Z"
   },
   {
    "duration": 178,
    "start_time": "2021-11-18T08:39:17.359Z"
   },
   {
    "duration": 4,
    "start_time": "2021-11-18T08:39:21.214Z"
   },
   {
    "duration": 210,
    "start_time": "2021-11-18T08:40:10.727Z"
   },
   {
    "duration": 9,
    "start_time": "2021-11-18T08:40:12.816Z"
   },
   {
    "duration": 187,
    "start_time": "2021-11-18T08:40:26.494Z"
   },
   {
    "duration": 214,
    "start_time": "2021-11-18T08:40:48.480Z"
   },
   {
    "duration": 6,
    "start_time": "2021-11-18T08:42:15.921Z"
   },
   {
    "duration": 2,
    "start_time": "2021-11-18T08:44:44.218Z"
   },
   {
    "duration": 4,
    "start_time": "2021-11-18T08:44:51.381Z"
   },
   {
    "duration": 4,
    "start_time": "2021-11-18T08:46:34.630Z"
   },
   {
    "duration": 3,
    "start_time": "2021-11-18T08:46:51.917Z"
   },
   {
    "duration": 4,
    "start_time": "2021-11-18T08:46:54.364Z"
   },
   {
    "duration": 5,
    "start_time": "2021-11-18T08:47:20.485Z"
   },
   {
    "duration": 14,
    "start_time": "2021-11-18T08:47:22.132Z"
   },
   {
    "duration": 3,
    "start_time": "2021-11-18T08:47:30.251Z"
   },
   {
    "duration": 3,
    "start_time": "2021-11-18T08:47:31.189Z"
   },
   {
    "duration": 7,
    "start_time": "2021-11-18T08:47:31.680Z"
   },
   {
    "duration": 4,
    "start_time": "2021-11-18T08:48:42.490Z"
   },
   {
    "duration": 8,
    "start_time": "2021-11-18T08:48:44.096Z"
   },
   {
    "duration": 3,
    "start_time": "2021-11-18T08:50:35.106Z"
   },
   {
    "duration": 12,
    "start_time": "2021-11-18T08:50:38.122Z"
   },
   {
    "duration": 190,
    "start_time": "2021-11-18T08:59:44.001Z"
   },
   {
    "duration": 186,
    "start_time": "2021-11-18T09:00:04.869Z"
   },
   {
    "duration": 183,
    "start_time": "2021-11-18T09:00:07.658Z"
   },
   {
    "duration": 4,
    "start_time": "2021-11-18T09:00:10.238Z"
   },
   {
    "duration": 214,
    "start_time": "2021-11-18T09:01:51.379Z"
   },
   {
    "duration": 5,
    "start_time": "2021-11-18T09:02:11.194Z"
   },
   {
    "duration": 5,
    "start_time": "2021-11-18T09:02:19.844Z"
   },
   {
    "duration": 6,
    "start_time": "2021-11-18T09:03:14.491Z"
   },
   {
    "duration": 3,
    "start_time": "2021-11-18T09:03:34.576Z"
   },
   {
    "duration": 7,
    "start_time": "2021-11-18T09:03:39.281Z"
   },
   {
    "duration": 75,
    "start_time": "2021-11-18T09:11:17.415Z"
   },
   {
    "duration": 175,
    "start_time": "2021-11-18T09:14:14.618Z"
   },
   {
    "duration": 29,
    "start_time": "2021-11-18T09:14:24.355Z"
   },
   {
    "duration": 8,
    "start_time": "2021-11-18T09:16:28.904Z"
   },
   {
    "duration": 4,
    "start_time": "2021-11-18T09:17:04.778Z"
   },
   {
    "duration": 139,
    "start_time": "2021-11-18T09:17:36.593Z"
   },
   {
    "duration": 31,
    "start_time": "2021-11-18T09:17:38.403Z"
   },
   {
    "duration": 142,
    "start_time": "2021-11-18T09:18:00.429Z"
   },
   {
    "duration": 30,
    "start_time": "2021-11-18T09:18:02.588Z"
   },
   {
    "duration": 133,
    "start_time": "2021-11-18T09:18:40.668Z"
   },
   {
    "duration": 25,
    "start_time": "2021-11-18T09:18:42.677Z"
   },
   {
    "duration": 135,
    "start_time": "2021-11-18T09:19:08.932Z"
   },
   {
    "duration": 29,
    "start_time": "2021-11-18T09:19:11.098Z"
   },
   {
    "duration": 12,
    "start_time": "2021-11-18T09:20:42.406Z"
   },
   {
    "duration": 322,
    "start_time": "2021-11-18T09:22:50.829Z"
   },
   {
    "duration": 158,
    "start_time": "2021-11-18T09:22:56.050Z"
   },
   {
    "duration": 164,
    "start_time": "2021-11-18T09:23:25.052Z"
   },
   {
    "duration": 5,
    "start_time": "2021-11-18T09:25:24.455Z"
   },
   {
    "duration": 6,
    "start_time": "2021-11-18T09:25:44.213Z"
   },
   {
    "duration": 6,
    "start_time": "2021-11-18T09:26:00.405Z"
   },
   {
    "duration": 6,
    "start_time": "2021-11-18T09:26:08.432Z"
   },
   {
    "duration": 6,
    "start_time": "2021-11-18T09:26:17.337Z"
   },
   {
    "duration": 3,
    "start_time": "2021-11-18T09:26:29.541Z"
   },
   {
    "duration": 159,
    "start_time": "2021-11-18T09:27:15.876Z"
   },
   {
    "duration": 8,
    "start_time": "2021-11-18T09:27:18.020Z"
   },
   {
    "duration": 3,
    "start_time": "2021-11-18T09:27:59.263Z"
   },
   {
    "duration": 160,
    "start_time": "2021-11-18T09:28:30.613Z"
   },
   {
    "duration": 6,
    "start_time": "2021-11-18T09:28:38.414Z"
   },
   {
    "duration": 145,
    "start_time": "2021-11-18T09:29:50.153Z"
   },
   {
    "duration": 236,
    "start_time": "2021-11-18T09:30:28.815Z"
   },
   {
    "duration": 150,
    "start_time": "2021-11-18T09:31:02.810Z"
   },
   {
    "duration": 176,
    "start_time": "2021-11-18T09:32:20.615Z"
   },
   {
    "duration": 171,
    "start_time": "2021-11-18T09:32:24.187Z"
   },
   {
    "duration": 248,
    "start_time": "2021-11-18T09:32:36.446Z"
   },
   {
    "duration": 19,
    "start_time": "2021-11-18T09:37:01.664Z"
   },
   {
    "duration": 297,
    "start_time": "2021-11-18T09:38:30.851Z"
   },
   {
    "duration": 266,
    "start_time": "2021-11-18T09:38:42.105Z"
   },
   {
    "duration": 90,
    "start_time": "2021-11-18T09:41:51.687Z"
   },
   {
    "duration": 66,
    "start_time": "2021-11-18T09:41:58.216Z"
   },
   {
    "duration": 66,
    "start_time": "2021-11-18T09:42:00.642Z"
   },
   {
    "duration": 4,
    "start_time": "2021-11-18T09:42:03.576Z"
   },
   {
    "duration": 4,
    "start_time": "2021-11-18T09:42:08.753Z"
   },
   {
    "duration": 186,
    "start_time": "2021-11-18T09:42:14.272Z"
   },
   {
    "duration": 4,
    "start_time": "2021-11-18T09:43:26.017Z"
   },
   {
    "duration": 203,
    "start_time": "2021-11-18T09:43:39.893Z"
   },
   {
    "duration": 3,
    "start_time": "2021-11-18T09:44:05.170Z"
   },
   {
    "duration": 26,
    "start_time": "2021-11-18T09:44:44.486Z"
   },
   {
    "duration": 290,
    "start_time": "2021-11-18T09:45:17.343Z"
   },
   {
    "duration": 26,
    "start_time": "2021-11-18T09:46:08.928Z"
   },
   {
    "duration": 149,
    "start_time": "2021-11-18T09:46:55.387Z"
   },
   {
    "duration": 26,
    "start_time": "2021-11-18T09:47:01.576Z"
   },
   {
    "duration": 141,
    "start_time": "2021-11-18T09:47:18.801Z"
   },
   {
    "duration": 27,
    "start_time": "2021-11-18T09:47:23.947Z"
   },
   {
    "duration": 277,
    "start_time": "2021-11-18T09:47:46.252Z"
   },
   {
    "duration": 198,
    "start_time": "2021-11-18T09:51:20.114Z"
   },
   {
    "duration": 185,
    "start_time": "2021-11-18T09:51:34.995Z"
   },
   {
    "duration": 229,
    "start_time": "2021-11-18T09:51:53.686Z"
   },
   {
    "duration": 416,
    "start_time": "2021-11-18T09:52:23.794Z"
   },
   {
    "duration": 425,
    "start_time": "2021-11-18T09:53:07.782Z"
   },
   {
    "duration": 453,
    "start_time": "2021-11-18T09:53:22.206Z"
   },
   {
    "duration": 6,
    "start_time": "2021-11-18T09:57:01.137Z"
   },
   {
    "duration": 7,
    "start_time": "2021-11-18T09:58:17.180Z"
   },
   {
    "duration": 7,
    "start_time": "2021-11-18T09:59:44.295Z"
   },
   {
    "duration": 6,
    "start_time": "2021-11-18T10:01:40.671Z"
   },
   {
    "duration": 6,
    "start_time": "2021-11-18T10:01:47.389Z"
   },
   {
    "duration": 6,
    "start_time": "2021-11-18T10:01:56.385Z"
   },
   {
    "duration": 351,
    "start_time": "2021-11-18T10:02:12.547Z"
   },
   {
    "duration": 5,
    "start_time": "2021-11-18T10:02:48.801Z"
   },
   {
    "duration": 25,
    "start_time": "2021-11-18T10:10:09.898Z"
   },
   {
    "duration": 353,
    "start_time": "2021-11-18T10:18:03.630Z"
   },
   {
    "duration": 27,
    "start_time": "2021-11-18T10:23:08.370Z"
   },
   {
    "duration": 312,
    "start_time": "2021-11-18T10:23:13.987Z"
   },
   {
    "duration": 383,
    "start_time": "2021-11-18T10:24:01.991Z"
   },
   {
    "duration": 308,
    "start_time": "2021-11-18T10:24:25.098Z"
   },
   {
    "duration": 295,
    "start_time": "2021-11-18T10:27:11.648Z"
   },
   {
    "duration": 14,
    "start_time": "2021-11-18T10:28:57.775Z"
   },
   {
    "duration": 13,
    "start_time": "2021-11-18T10:30:04.431Z"
   },
   {
    "duration": 12,
    "start_time": "2021-11-18T10:30:08.662Z"
   },
   {
    "duration": 14,
    "start_time": "2021-11-18T11:43:14.429Z"
   },
   {
    "duration": 318,
    "start_time": "2021-11-18T11:46:55.728Z"
   },
   {
    "duration": 7,
    "start_time": "2021-11-18T11:47:18.768Z"
   },
   {
    "duration": 14,
    "start_time": "2021-11-18T11:51:42.100Z"
   },
   {
    "duration": 22,
    "start_time": "2021-11-18T11:52:03.369Z"
   },
   {
    "duration": 14,
    "start_time": "2021-11-18T11:52:13.013Z"
   },
   {
    "duration": 14,
    "start_time": "2021-11-18T11:53:07.298Z"
   },
   {
    "duration": 35,
    "start_time": "2021-11-18T11:58:59.718Z"
   },
   {
    "duration": 3,
    "start_time": "2021-11-18T12:02:00.809Z"
   },
   {
    "duration": 15,
    "start_time": "2021-11-18T12:04:15.653Z"
   },
   {
    "duration": 2,
    "start_time": "2021-11-18T12:06:22.793Z"
   },
   {
    "duration": 2,
    "start_time": "2021-11-18T12:06:31.232Z"
   },
   {
    "duration": 16,
    "start_time": "2021-11-18T12:09:08.945Z"
   },
   {
    "duration": 237,
    "start_time": "2021-11-18T12:10:15.658Z"
   },
   {
    "duration": 17,
    "start_time": "2021-11-18T12:10:33.879Z"
   },
   {
    "duration": 17,
    "start_time": "2021-11-18T12:10:51.542Z"
   },
   {
    "duration": 9,
    "start_time": "2021-11-18T12:11:53.147Z"
   },
   {
    "duration": 8,
    "start_time": "2021-11-18T12:11:56.990Z"
   },
   {
    "duration": 9,
    "start_time": "2021-11-18T12:12:12.812Z"
   },
   {
    "duration": 17,
    "start_time": "2021-11-18T12:12:59.932Z"
   },
   {
    "duration": 11,
    "start_time": "2021-11-18T12:13:07.204Z"
   },
   {
    "duration": 25,
    "start_time": "2021-11-18T12:13:15.721Z"
   },
   {
    "duration": 17,
    "start_time": "2021-11-18T12:14:08.998Z"
   },
   {
    "duration": 9,
    "start_time": "2021-11-18T12:16:49.810Z"
   },
   {
    "duration": 17,
    "start_time": "2021-11-18T12:17:01.897Z"
   },
   {
    "duration": 55,
    "start_time": "2021-11-18T12:17:12.696Z"
   },
   {
    "duration": 14,
    "start_time": "2021-11-18T12:17:55.890Z"
   },
   {
    "duration": 407,
    "start_time": "2021-11-18T12:21:58.827Z"
   },
   {
    "duration": 235,
    "start_time": "2021-11-18T12:22:47.395Z"
   },
   {
    "duration": 166,
    "start_time": "2021-11-18T12:23:10.934Z"
   },
   {
    "duration": 4625,
    "start_time": "2021-11-18T12:23:47.879Z"
   },
   {
    "duration": 14,
    "start_time": "2021-11-18T12:24:34.332Z"
   },
   {
    "duration": 153,
    "start_time": "2021-11-18T12:24:42.567Z"
   },
   {
    "duration": 148,
    "start_time": "2021-11-18T12:26:27.752Z"
   },
   {
    "duration": 46,
    "start_time": "2021-11-18T12:27:06.222Z"
   },
   {
    "duration": 296,
    "start_time": "2021-11-18T12:27:10.933Z"
   },
   {
    "duration": 3,
    "start_time": "2021-11-18T12:30:28.832Z"
   },
   {
    "duration": 7,
    "start_time": "2021-11-18T12:32:16.904Z"
   },
   {
    "duration": 7,
    "start_time": "2021-11-18T12:32:47.184Z"
   },
   {
    "duration": 8,
    "start_time": "2021-11-18T12:33:27.704Z"
   },
   {
    "duration": 249,
    "start_time": "2021-11-18T12:36:26.171Z"
   },
   {
    "duration": 4,
    "start_time": "2021-11-18T12:38:50.435Z"
   },
   {
    "duration": 7,
    "start_time": "2021-11-18T12:40:50.633Z"
   },
   {
    "duration": 7,
    "start_time": "2021-11-18T12:40:54.299Z"
   },
   {
    "duration": 8,
    "start_time": "2021-11-18T12:40:58.570Z"
   },
   {
    "duration": 8,
    "start_time": "2021-11-18T12:41:06.899Z"
   },
   {
    "duration": 332,
    "start_time": "2021-11-18T12:41:12.641Z"
   },
   {
    "duration": 30,
    "start_time": "2021-11-18T12:46:35.767Z"
   },
   {
    "duration": 159,
    "start_time": "2021-11-18T12:48:19.443Z"
   },
   {
    "duration": 157,
    "start_time": "2021-11-18T12:48:30.547Z"
   },
   {
    "duration": 3,
    "start_time": "2021-11-18T12:48:31.806Z"
   },
   {
    "duration": 240,
    "start_time": "2021-11-18T12:53:08.616Z"
   },
   {
    "duration": 250,
    "start_time": "2021-11-18T12:53:25.743Z"
   },
   {
    "duration": 238,
    "start_time": "2021-11-18T12:53:38.111Z"
   },
   {
    "duration": 10,
    "start_time": "2021-11-18T12:57:20.617Z"
   },
   {
    "duration": 10,
    "start_time": "2021-11-18T12:57:52.454Z"
   },
   {
    "duration": 8,
    "start_time": "2021-11-18T13:01:40.892Z"
   },
   {
    "duration": 14,
    "start_time": "2021-11-18T13:01:45.643Z"
   },
   {
    "duration": 9,
    "start_time": "2021-11-18T13:13:55.255Z"
   },
   {
    "duration": 68,
    "start_time": "2021-11-18T13:14:33.587Z"
   },
   {
    "duration": 184,
    "start_time": "2021-11-18T13:14:36.735Z"
   },
   {
    "duration": 222,
    "start_time": "2021-11-18T13:14:47.834Z"
   },
   {
    "duration": 5,
    "start_time": "2021-11-18T13:14:56.551Z"
   },
   {
    "duration": 6,
    "start_time": "2021-11-18T13:15:01.370Z"
   },
   {
    "duration": 183,
    "start_time": "2021-11-18T13:15:31.024Z"
   },
   {
    "duration": 7,
    "start_time": "2021-11-18T13:15:42.466Z"
   },
   {
    "duration": 11,
    "start_time": "2021-11-18T13:16:29.275Z"
   },
   {
    "duration": 138,
    "start_time": "2021-11-18T13:16:33.995Z"
   },
   {
    "duration": 11,
    "start_time": "2021-11-18T13:16:46.286Z"
   },
   {
    "duration": 135,
    "start_time": "2021-11-18T13:16:53.031Z"
   },
   {
    "duration": 137,
    "start_time": "2021-11-18T13:17:20.556Z"
   },
   {
    "duration": 151,
    "start_time": "2021-11-18T13:17:29.884Z"
   },
   {
    "duration": 202,
    "start_time": "2021-11-18T13:18:09.267Z"
   },
   {
    "duration": 9,
    "start_time": "2021-11-18T13:32:24.521Z"
   },
   {
    "duration": 12,
    "start_time": "2021-11-18T13:34:26.859Z"
   },
   {
    "duration": 12,
    "start_time": "2021-11-18T13:40:20.964Z"
   },
   {
    "duration": 148,
    "start_time": "2021-11-18T13:40:53.387Z"
   },
   {
    "duration": 143,
    "start_time": "2021-11-18T13:41:06.160Z"
   },
   {
    "duration": 141,
    "start_time": "2021-11-18T13:41:11.857Z"
   },
   {
    "duration": 228,
    "start_time": "2021-11-18T13:41:17.438Z"
   },
   {
    "duration": 143,
    "start_time": "2021-11-18T13:41:21.071Z"
   },
   {
    "duration": 6,
    "start_time": "2021-11-18T16:24:04.976Z"
   },
   {
    "duration": 14,
    "start_time": "2021-11-18T16:24:22.628Z"
   },
   {
    "duration": 194,
    "start_time": "2021-11-18T16:25:32.289Z"
   },
   {
    "duration": 7,
    "start_time": "2021-11-18T16:26:53.403Z"
   },
   {
    "duration": 7,
    "start_time": "2021-11-18T16:27:10.604Z"
   },
   {
    "duration": 182,
    "start_time": "2021-11-18T16:29:43.172Z"
   },
   {
    "duration": 181,
    "start_time": "2021-11-18T16:29:50.537Z"
   },
   {
    "duration": 182,
    "start_time": "2021-11-18T16:29:59.058Z"
   },
   {
    "duration": 180,
    "start_time": "2021-11-18T16:30:32.011Z"
   },
   {
    "duration": 172,
    "start_time": "2021-11-18T16:30:40.498Z"
   },
   {
    "duration": 11,
    "start_time": "2021-11-18T16:31:18.591Z"
   },
   {
    "duration": 10,
    "start_time": "2021-11-18T16:31:47.358Z"
   },
   {
    "duration": 14,
    "start_time": "2021-11-18T16:34:02.879Z"
   },
   {
    "duration": 11,
    "start_time": "2021-11-18T16:34:11.806Z"
   },
   {
    "duration": 10,
    "start_time": "2021-11-18T16:34:56.977Z"
   },
   {
    "duration": 225,
    "start_time": "2021-11-18T16:37:33.319Z"
   },
   {
    "duration": 240,
    "start_time": "2021-11-18T16:38:54.231Z"
   },
   {
    "duration": 227,
    "start_time": "2021-11-18T16:39:38.797Z"
   },
   {
    "duration": 239,
    "start_time": "2021-11-18T16:40:40.660Z"
   },
   {
    "duration": 325,
    "start_time": "2021-11-18T16:40:45.537Z"
   },
   {
    "duration": 233,
    "start_time": "2021-11-18T16:40:57.094Z"
   },
   {
    "duration": 2,
    "start_time": "2021-11-18T16:41:14.637Z"
   },
   {
    "duration": 9,
    "start_time": "2021-11-18T16:47:19.957Z"
   },
   {
    "duration": 10,
    "start_time": "2021-11-18T16:47:31.289Z"
   },
   {
    "duration": 26,
    "start_time": "2021-11-18T16:48:16.778Z"
   },
   {
    "duration": 25,
    "start_time": "2021-11-18T16:49:47.641Z"
   },
   {
    "duration": 14,
    "start_time": "2021-11-18T16:51:30.378Z"
   },
   {
    "duration": 839,
    "start_time": "2021-11-18T16:53:52.782Z"
   },
   {
    "duration": 13,
    "start_time": "2021-11-18T16:54:32.282Z"
   },
   {
    "duration": 13,
    "start_time": "2021-11-18T16:55:21.039Z"
   },
   {
    "duration": 10,
    "start_time": "2021-11-18T16:55:52.882Z"
   },
   {
    "duration": 9,
    "start_time": "2021-11-18T16:56:16.298Z"
   },
   {
    "duration": 12,
    "start_time": "2021-11-18T16:58:10.905Z"
   },
   {
    "duration": 10,
    "start_time": "2021-11-18T16:58:27.404Z"
   },
   {
    "duration": 509,
    "start_time": "2021-11-18T17:03:01.242Z"
   },
   {
    "duration": 538,
    "start_time": "2021-11-18T17:03:26.168Z"
   },
   {
    "duration": 461,
    "start_time": "2021-11-18T17:03:38.615Z"
   },
   {
    "duration": 451,
    "start_time": "2021-11-18T17:06:10.426Z"
   },
   {
    "duration": 216,
    "start_time": "2021-11-18T17:07:35.146Z"
   },
   {
    "duration": 7,
    "start_time": "2021-11-18T17:07:38.006Z"
   },
   {
    "duration": 7,
    "start_time": "2021-11-18T17:07:39.607Z"
   },
   {
    "duration": 173,
    "start_time": "2021-11-18T17:08:10.446Z"
   },
   {
    "duration": 4,
    "start_time": "2021-11-18T17:08:17.806Z"
   },
   {
    "duration": 5,
    "start_time": "2021-11-18T17:08:32.606Z"
   },
   {
    "duration": 5,
    "start_time": "2021-11-18T17:09:02.508Z"
   },
   {
    "duration": 4,
    "start_time": "2021-11-18T17:09:08.906Z"
   },
   {
    "duration": 5,
    "start_time": "2021-11-18T17:09:16.626Z"
   },
   {
    "duration": 70,
    "start_time": "2021-11-18T17:09:54.821Z"
   },
   {
    "duration": 10,
    "start_time": "2021-11-18T17:09:58.347Z"
   },
   {
    "duration": 10,
    "start_time": "2021-11-18T17:12:11.251Z"
   },
   {
    "duration": 11,
    "start_time": "2021-11-18T17:12:18.908Z"
   },
   {
    "duration": 11,
    "start_time": "2021-11-18T17:12:23.247Z"
   },
   {
    "duration": 10,
    "start_time": "2021-11-18T17:12:33.417Z"
   },
   {
    "duration": 11,
    "start_time": "2021-11-18T17:13:52.627Z"
   },
   {
    "duration": 11,
    "start_time": "2021-11-18T17:14:02.347Z"
   },
   {
    "duration": 11,
    "start_time": "2021-11-18T17:14:16.271Z"
   },
   {
    "duration": 173,
    "start_time": "2021-11-18T17:20:47.671Z"
   },
   {
    "duration": 6,
    "start_time": "2021-11-18T17:20:54.671Z"
   },
   {
    "duration": 8,
    "start_time": "2021-11-18T17:21:01.631Z"
   },
   {
    "duration": 8,
    "start_time": "2021-11-18T17:21:05.791Z"
   },
   {
    "duration": 8,
    "start_time": "2021-11-18T17:21:16.320Z"
   },
   {
    "duration": 4,
    "start_time": "2021-11-18T17:21:42.051Z"
   },
   {
    "duration": 8,
    "start_time": "2021-11-18T17:21:54.471Z"
   },
   {
    "duration": 6,
    "start_time": "2021-11-18T17:22:09.488Z"
   },
   {
    "duration": 187,
    "start_time": "2021-11-18T17:22:40.808Z"
   },
   {
    "duration": 194,
    "start_time": "2021-11-18T17:23:10.294Z"
   },
   {
    "duration": 187,
    "start_time": "2021-11-18T17:24:12.211Z"
   },
   {
    "duration": 4,
    "start_time": "2021-11-18T17:29:35.831Z"
   },
   {
    "duration": 180,
    "start_time": "2021-11-18T17:29:42.271Z"
   },
   {
    "duration": 7,
    "start_time": "2021-11-18T17:29:52.411Z"
   },
   {
    "duration": 210,
    "start_time": "2021-11-18T17:30:03.792Z"
   },
   {
    "duration": 219,
    "start_time": "2021-11-18T17:30:49.011Z"
   },
   {
    "duration": 189,
    "start_time": "2021-11-18T17:31:05.731Z"
   },
   {
    "duration": 289,
    "start_time": "2021-11-18T17:31:10.792Z"
   },
   {
    "duration": 214,
    "start_time": "2021-11-18T17:31:37.419Z"
   },
   {
    "duration": 186,
    "start_time": "2021-11-18T17:34:00.994Z"
   },
   {
    "duration": 186,
    "start_time": "2021-11-18T17:34:18.688Z"
   },
   {
    "duration": 217,
    "start_time": "2021-11-18T17:34:30.332Z"
   },
   {
    "duration": 226,
    "start_time": "2021-11-18T17:37:51.913Z"
   },
   {
    "duration": 356,
    "start_time": "2021-11-19T09:08:54.867Z"
   },
   {
    "duration": 1434,
    "start_time": "2021-11-19T09:09:03.809Z"
   },
   {
    "duration": 29,
    "start_time": "2021-11-19T09:09:05.246Z"
   },
   {
    "duration": 8,
    "start_time": "2021-11-19T09:09:05.279Z"
   },
   {
    "duration": 18,
    "start_time": "2021-11-19T09:09:05.290Z"
   },
   {
    "duration": 41,
    "start_time": "2021-11-19T09:09:05.310Z"
   },
   {
    "duration": 480,
    "start_time": "2021-11-19T09:09:05.354Z"
   },
   {
    "duration": 36,
    "start_time": "2021-11-19T09:09:05.837Z"
   },
   {
    "duration": 11,
    "start_time": "2021-11-19T09:09:05.876Z"
   },
   {
    "duration": 22,
    "start_time": "2021-11-19T09:09:06.069Z"
   },
   {
    "duration": 1968,
    "start_time": "2021-11-19T09:09:06.303Z"
   },
   {
    "duration": 1811,
    "start_time": "2021-11-19T09:09:08.274Z"
   },
   {
    "duration": 24525,
    "start_time": "2021-11-19T09:09:10.089Z"
   },
   {
    "duration": 29791,
    "start_time": "2021-11-19T09:09:34.616Z"
   },
   {
    "duration": 31465,
    "start_time": "2021-11-19T09:10:04.410Z"
   },
   {
    "duration": 598,
    "start_time": "2021-11-19T09:10:35.878Z"
   },
   {
    "duration": 403,
    "start_time": "2021-11-19T09:10:36.479Z"
   },
   {
    "duration": 3,
    "start_time": "2021-11-19T09:10:36.888Z"
   },
   {
    "duration": 399,
    "start_time": "2021-11-19T09:10:36.896Z"
   },
   {
    "duration": 537,
    "start_time": "2021-11-19T09:10:37.297Z"
   },
   {
    "duration": 287,
    "start_time": "2021-11-19T09:10:37.836Z"
   },
   {
    "duration": 57,
    "start_time": "2021-11-19T09:10:38.126Z"
   },
   {
    "duration": 421,
    "start_time": "2021-11-19T09:10:38.185Z"
   },
   {
    "duration": 419,
    "start_time": "2021-11-19T09:10:38.609Z"
   },
   {
    "duration": 260,
    "start_time": "2021-11-19T09:10:39.031Z"
   },
   {
    "duration": 22,
    "start_time": "2021-11-19T09:10:39.294Z"
   },
   {
    "duration": 498,
    "start_time": "2021-11-19T09:10:39.319Z"
   },
   {
    "duration": 3,
    "start_time": "2021-11-19T09:10:39.819Z"
   },
   {
    "duration": 44,
    "start_time": "2021-11-19T09:10:39.825Z"
   },
   {
    "duration": 813,
    "start_time": "2021-11-19T09:10:39.872Z"
   },
   {
    "duration": 2,
    "start_time": "2021-11-19T09:10:40.687Z"
   },
   {
    "duration": 43,
    "start_time": "2021-11-19T09:10:40.692Z"
   },
   {
    "duration": 11,
    "start_time": "2021-11-19T09:13:57.453Z"
   },
   {
    "duration": 13,
    "start_time": "2021-11-19T09:14:13.405Z"
   },
   {
    "duration": 11,
    "start_time": "2021-11-19T09:14:24.556Z"
   },
   {
    "duration": 7,
    "start_time": "2021-11-19T09:14:53.563Z"
   },
   {
    "duration": 5,
    "start_time": "2021-11-19T09:17:42.619Z"
   },
   {
    "duration": 12,
    "start_time": "2021-11-19T09:18:49.962Z"
   },
   {
    "duration": 24,
    "start_time": "2021-11-19T09:19:31.628Z"
   },
   {
    "duration": 8,
    "start_time": "2021-11-19T09:22:51.511Z"
   },
   {
    "duration": 167653,
    "start_time": "2021-11-19T09:26:57.668Z"
   },
   {
    "duration": 287,
    "start_time": "2021-11-19T09:30:24.221Z"
   },
   {
    "duration": 333,
    "start_time": "2021-11-19T09:31:46.196Z"
   },
   {
    "duration": 5,
    "start_time": "2021-11-19T09:31:52.781Z"
   },
   {
    "duration": 5,
    "start_time": "2021-11-19T09:31:58.816Z"
   },
   {
    "duration": 309,
    "start_time": "2021-11-19T09:34:21.695Z"
   },
   {
    "duration": 289,
    "start_time": "2021-11-19T09:35:36.576Z"
   },
   {
    "duration": 6,
    "start_time": "2021-11-19T09:35:50.437Z"
   },
   {
    "duration": 15,
    "start_time": "2021-11-19T09:36:50.459Z"
   },
   {
    "duration": 310,
    "start_time": "2021-11-19T09:37:32.033Z"
   },
   {
    "duration": 23,
    "start_time": "2021-11-19T09:37:56.945Z"
   },
   {
    "duration": 302,
    "start_time": "2021-11-19T09:38:28.696Z"
   },
   {
    "duration": 2078,
    "start_time": "2021-11-19T09:38:45.734Z"
   },
   {
    "duration": 29,
    "start_time": "2021-11-19T09:39:16.607Z"
   },
   {
    "duration": 23,
    "start_time": "2021-11-19T09:41:06.136Z"
   },
   {
    "duration": 79,
    "start_time": "2021-11-19T09:41:34.909Z"
   },
   {
    "duration": 12,
    "start_time": "2021-11-19T09:41:51.944Z"
   },
   {
    "duration": 6735,
    "start_time": "2021-11-19T09:45:05.968Z"
   },
   {
    "duration": 12,
    "start_time": "2021-11-19T09:45:58.411Z"
   },
   {
    "duration": 13,
    "start_time": "2021-11-19T09:46:19.035Z"
   },
   {
    "duration": 83,
    "start_time": "2021-11-19T09:46:54.400Z"
   },
   {
    "duration": 13,
    "start_time": "2021-11-19T09:47:29.882Z"
   },
   {
    "duration": 16,
    "start_time": "2021-11-19T09:47:33.456Z"
   },
   {
    "duration": 399,
    "start_time": "2021-11-19T09:48:18.740Z"
   },
   {
    "duration": 5,
    "start_time": "2021-11-19T09:48:21.454Z"
   },
   {
    "duration": 75,
    "start_time": "2021-11-19T09:49:16.553Z"
   },
   {
    "duration": 13,
    "start_time": "2021-11-19T09:49:24.529Z"
   },
   {
    "duration": 14,
    "start_time": "2021-11-19T09:49:35.383Z"
   },
   {
    "duration": 31,
    "start_time": "2021-11-19T09:49:43.436Z"
   },
   {
    "duration": 3,
    "start_time": "2021-11-19T09:50:36.486Z"
   },
   {
    "duration": 79,
    "start_time": "2021-11-19T09:50:45.265Z"
   },
   {
    "duration": 9,
    "start_time": "2021-11-19T09:52:40.300Z"
   },
   {
    "duration": 34,
    "start_time": "2021-11-19T09:52:50.405Z"
   },
   {
    "duration": 9,
    "start_time": "2021-11-19T09:54:08.411Z"
   },
   {
    "duration": 6,
    "start_time": "2021-11-19T09:54:16.294Z"
   },
   {
    "duration": 34,
    "start_time": "2021-11-19T09:54:18.666Z"
   },
   {
    "duration": 313,
    "start_time": "2021-11-19T09:54:24.841Z"
   },
   {
    "duration": 9,
    "start_time": "2021-11-19T09:54:32.470Z"
   },
   {
    "duration": 7,
    "start_time": "2021-11-19T09:54:59.484Z"
   },
   {
    "duration": 70,
    "start_time": "2021-11-19T09:56:05.334Z"
   },
   {
    "duration": 89,
    "start_time": "2021-11-19T09:59:32.337Z"
   },
   {
    "duration": 16,
    "start_time": "2021-11-19T10:00:45.089Z"
   },
   {
    "duration": 16,
    "start_time": "2021-11-19T10:01:05.715Z"
   },
   {
    "duration": 788,
    "start_time": "2021-11-19T10:01:09.689Z"
   },
   {
    "duration": 88,
    "start_time": "2021-11-19T10:01:33.066Z"
   },
   {
    "duration": 609,
    "start_time": "2021-11-19T10:11:50.728Z"
   },
   {
    "duration": 580,
    "start_time": "2021-11-19T10:11:58.983Z"
   },
   {
    "duration": 601,
    "start_time": "2021-11-19T10:12:05.641Z"
   },
   {
    "duration": 610,
    "start_time": "2021-11-19T10:12:33.163Z"
   },
   {
    "duration": 585,
    "start_time": "2021-11-19T10:13:11.550Z"
   },
   {
    "duration": 595,
    "start_time": "2021-11-19T10:14:02.534Z"
   },
   {
    "duration": 669,
    "start_time": "2021-11-19T10:14:27.551Z"
   },
   {
    "duration": 609,
    "start_time": "2021-11-19T10:14:54.118Z"
   },
   {
    "duration": 575,
    "start_time": "2021-11-19T10:15:00.488Z"
   },
   {
    "duration": 582,
    "start_time": "2021-11-19T10:15:20.635Z"
   },
   {
    "duration": 24,
    "start_time": "2021-11-19T11:10:29.818Z"
   },
   {
    "duration": 9,
    "start_time": "2021-11-19T11:11:32.160Z"
   },
   {
    "duration": 10,
    "start_time": "2021-11-19T11:12:22.438Z"
   },
   {
    "duration": 14,
    "start_time": "2021-11-19T11:12:31.036Z"
   },
   {
    "duration": 13,
    "start_time": "2021-11-19T11:12:43.694Z"
   },
   {
    "duration": 4,
    "start_time": "2021-11-19T11:13:09.557Z"
   },
   {
    "duration": 286,
    "start_time": "2021-11-19T11:13:54.310Z"
   },
   {
    "duration": 120,
    "start_time": "2021-11-19T11:14:29.047Z"
   },
   {
    "duration": 107,
    "start_time": "2021-11-19T11:14:59.296Z"
   },
   {
    "duration": 11,
    "start_time": "2021-11-19T11:15:03.328Z"
   },
   {
    "duration": 104,
    "start_time": "2021-11-19T11:15:08.400Z"
   },
   {
    "duration": 292,
    "start_time": "2021-11-19T11:16:18.265Z"
   },
   {
    "duration": 13,
    "start_time": "2021-11-19T11:16:24.894Z"
   },
   {
    "duration": 184,
    "start_time": "2021-11-19T11:16:49.439Z"
   },
   {
    "duration": 15,
    "start_time": "2021-11-19T11:18:05.945Z"
   },
   {
    "duration": 13,
    "start_time": "2021-11-19T11:20:18.595Z"
   },
   {
    "duration": 10,
    "start_time": "2021-11-19T11:20:30.682Z"
   },
   {
    "duration": 282,
    "start_time": "2021-11-19T11:21:06.771Z"
   },
   {
    "duration": 15,
    "start_time": "2021-11-19T11:21:54.178Z"
   },
   {
    "duration": 16,
    "start_time": "2021-11-19T11:26:38.134Z"
   },
   {
    "duration": 15,
    "start_time": "2021-11-19T11:27:05.076Z"
   },
   {
    "duration": 14,
    "start_time": "2021-11-19T11:30:08.635Z"
   },
   {
    "duration": 10,
    "start_time": "2021-11-19T11:30:17.676Z"
   },
   {
    "duration": 15,
    "start_time": "2021-11-19T11:30:20.620Z"
   },
   {
    "duration": 6848,
    "start_time": "2021-11-19T11:31:05.191Z"
   },
   {
    "duration": 15,
    "start_time": "2021-11-19T11:31:23.356Z"
   },
   {
    "duration": 31,
    "start_time": "2021-11-19T11:33:54.908Z"
   },
   {
    "duration": 538,
    "start_time": "2021-11-19T11:34:36.934Z"
   },
   {
    "duration": 29,
    "start_time": "2021-11-19T11:34:41.818Z"
   },
   {
    "duration": 36,
    "start_time": "2021-11-19T11:35:10.389Z"
   },
   {
    "duration": 30,
    "start_time": "2021-11-19T11:35:17.701Z"
   },
   {
    "duration": 28,
    "start_time": "2021-11-19T11:35:28.714Z"
   },
   {
    "duration": 34,
    "start_time": "2021-11-19T11:35:45.673Z"
   },
   {
    "duration": 32,
    "start_time": "2021-11-19T11:36:28.065Z"
   },
   {
    "duration": 43,
    "start_time": "2021-11-19T11:36:47.744Z"
   },
   {
    "duration": 36,
    "start_time": "2021-11-19T11:37:24.779Z"
   },
   {
    "duration": 7546,
    "start_time": "2021-11-19T11:37:37.227Z"
   },
   {
    "duration": 14,
    "start_time": "2021-11-19T11:39:22.267Z"
   },
   {
    "duration": 30,
    "start_time": "2021-11-19T11:40:55.262Z"
   },
   {
    "duration": 38,
    "start_time": "2021-11-19T11:41:09.845Z"
   },
   {
    "duration": 39,
    "start_time": "2021-11-19T11:42:53.796Z"
   },
   {
    "duration": 21,
    "start_time": "2021-11-19T11:43:24.687Z"
   },
   {
    "duration": 47,
    "start_time": "2021-11-19T11:44:07.530Z"
   },
   {
    "duration": 47,
    "start_time": "2021-11-19T11:44:22.463Z"
   },
   {
    "duration": 6,
    "start_time": "2021-11-19T11:46:06.287Z"
   },
   {
    "duration": 5,
    "start_time": "2021-11-19T11:46:36.464Z"
   },
   {
    "duration": 11,
    "start_time": "2021-11-19T11:46:44.455Z"
   },
   {
    "duration": 12,
    "start_time": "2021-11-19T11:47:12.428Z"
   },
   {
    "duration": 285,
    "start_time": "2021-11-19T11:47:47.235Z"
   },
   {
    "duration": 371,
    "start_time": "2021-11-19T11:48:01.928Z"
   },
   {
    "duration": 52,
    "start_time": "2021-11-19T11:48:11.480Z"
   },
   {
    "duration": 13,
    "start_time": "2021-11-19T11:49:27.416Z"
   },
   {
    "duration": 307,
    "start_time": "2021-11-19T11:49:47.399Z"
   },
   {
    "duration": 289,
    "start_time": "2021-11-19T11:50:56.961Z"
   },
   {
    "duration": 318,
    "start_time": "2021-11-19T11:51:26.702Z"
   },
   {
    "duration": 14,
    "start_time": "2021-11-19T11:51:37.717Z"
   },
   {
    "duration": 14,
    "start_time": "2021-11-19T11:51:59.539Z"
   },
   {
    "duration": 15,
    "start_time": "2021-11-19T11:52:07.820Z"
   },
   {
    "duration": 15,
    "start_time": "2021-11-19T11:52:28.187Z"
   },
   {
    "duration": 14,
    "start_time": "2021-11-19T11:52:45.892Z"
   },
   {
    "duration": 297,
    "start_time": "2021-11-19T11:54:03.748Z"
   },
   {
    "duration": 17,
    "start_time": "2021-11-19T11:54:11.805Z"
   },
   {
    "duration": 55,
    "start_time": "2021-11-19T11:55:01.313Z"
   },
   {
    "duration": 14,
    "start_time": "2021-11-19T11:55:03.884Z"
   },
   {
    "duration": 54,
    "start_time": "2021-11-19T11:55:29.051Z"
   },
   {
    "duration": 59,
    "start_time": "2021-11-19T11:56:36.473Z"
   },
   {
    "duration": 57,
    "start_time": "2021-11-19T11:56:49.454Z"
   },
   {
    "duration": 54,
    "start_time": "2021-11-19T11:56:56.492Z"
   },
   {
    "duration": 8,
    "start_time": "2021-11-19T11:57:13.429Z"
   },
   {
    "duration": 9,
    "start_time": "2021-11-19T11:57:50.948Z"
   },
   {
    "duration": 52,
    "start_time": "2021-11-19T11:59:26.099Z"
   },
   {
    "duration": 47,
    "start_time": "2021-11-19T11:59:32.934Z"
   },
   {
    "duration": 55,
    "start_time": "2021-11-19T11:59:36.392Z"
   },
   {
    "duration": 18,
    "start_time": "2021-11-19T12:00:52.279Z"
   },
   {
    "duration": 18,
    "start_time": "2021-11-19T12:00:58.447Z"
   },
   {
    "duration": 297,
    "start_time": "2021-11-19T12:01:55.966Z"
   },
   {
    "duration": 16,
    "start_time": "2021-11-19T12:02:20.512Z"
   },
   {
    "duration": 22,
    "start_time": "2021-11-19T12:03:08.726Z"
   },
   {
    "duration": 3068,
    "start_time": "2021-11-19T12:03:17.537Z"
   },
   {
    "duration": 288,
    "start_time": "2021-11-19T12:03:28.632Z"
   },
   {
    "duration": 25,
    "start_time": "2021-11-19T12:03:35.431Z"
   },
   {
    "duration": 7,
    "start_time": "2021-11-19T12:03:48.023Z"
   },
   {
    "duration": 10,
    "start_time": "2021-11-19T12:04:00.456Z"
   },
   {
    "duration": 34,
    "start_time": "2021-11-19T12:05:12.503Z"
   },
   {
    "duration": 98,
    "start_time": "2021-11-19T12:07:09.633Z"
   },
   {
    "duration": 7,
    "start_time": "2021-11-19T12:07:39.527Z"
   },
   {
    "duration": 8,
    "start_time": "2021-11-19T12:08:04.480Z"
   },
   {
    "duration": 35,
    "start_time": "2021-11-19T12:10:53.230Z"
   },
   {
    "duration": 353,
    "start_time": "2021-11-19T12:11:39.292Z"
   },
   {
    "duration": 16,
    "start_time": "2021-11-19T12:11:43.667Z"
   },
   {
    "duration": 3,
    "start_time": "2021-11-19T12:13:19.317Z"
   },
   {
    "duration": 35,
    "start_time": "2021-11-19T12:24:36.028Z"
   },
   {
    "duration": 35,
    "start_time": "2021-11-19T12:25:31.206Z"
   },
   {
    "duration": 3,
    "start_time": "2021-11-19T12:26:12.960Z"
   },
   {
    "duration": 18,
    "start_time": "2021-11-19T12:29:55.046Z"
   },
   {
    "duration": 18,
    "start_time": "2021-11-19T12:31:04.447Z"
   },
   {
    "duration": 535,
    "start_time": "2021-11-19T12:31:41.696Z"
   },
   {
    "duration": -111,
    "start_time": "2021-11-19T12:32:04.372Z"
   },
   {
    "duration": 108,
    "start_time": "2021-11-19T12:32:06.749Z"
   },
   {
    "duration": 18,
    "start_time": "2021-11-19T12:32:08.991Z"
   },
   {
    "duration": 7,
    "start_time": "2021-11-19T12:32:54.879Z"
   },
   {
    "duration": 7,
    "start_time": "2021-11-19T12:32:59.826Z"
   },
   {
    "duration": 7,
    "start_time": "2021-11-19T12:33:33.016Z"
   },
   {
    "duration": 8,
    "start_time": "2021-11-19T12:33:49.416Z"
   },
   {
    "duration": 10,
    "start_time": "2021-11-19T12:34:16.192Z"
   },
   {
    "duration": 12,
    "start_time": "2021-11-19T12:34:37.719Z"
   },
   {
    "duration": 10,
    "start_time": "2021-11-19T12:37:32.169Z"
   },
   {
    "duration": 9,
    "start_time": "2021-11-19T12:39:19.904Z"
   },
   {
    "duration": 7,
    "start_time": "2021-11-19T12:39:30.259Z"
   },
   {
    "duration": 10,
    "start_time": "2021-11-19T12:39:46.329Z"
   },
   {
    "duration": 6,
    "start_time": "2021-11-19T12:40:39.442Z"
   },
   {
    "duration": 38,
    "start_time": "2021-11-19T12:41:21.664Z"
   },
   {
    "duration": 303,
    "start_time": "2021-11-20T06:09:21.106Z"
   },
   {
    "duration": 1187,
    "start_time": "2021-11-20T06:09:28.466Z"
   },
   {
    "duration": 20,
    "start_time": "2021-11-20T06:09:29.655Z"
   },
   {
    "duration": 7,
    "start_time": "2021-11-20T06:09:29.677Z"
   },
   {
    "duration": 13,
    "start_time": "2021-11-20T06:09:29.686Z"
   },
   {
    "duration": 16,
    "start_time": "2021-11-20T06:09:29.701Z"
   },
   {
    "duration": 278,
    "start_time": "2021-11-20T06:09:29.718Z"
   },
   {
    "duration": 14,
    "start_time": "2021-11-20T06:09:29.998Z"
   },
   {
    "duration": 9,
    "start_time": "2021-11-20T06:09:30.081Z"
   },
   {
    "duration": 17,
    "start_time": "2021-11-20T06:09:30.275Z"
   },
   {
    "duration": 1239,
    "start_time": "2021-11-20T06:09:30.469Z"
   },
   {
    "duration": 1022,
    "start_time": "2021-11-20T06:09:31.710Z"
   },
   {
    "duration": 15423,
    "start_time": "2021-11-20T06:09:32.734Z"
   },
   {
    "duration": 18576,
    "start_time": "2021-11-20T06:09:48.159Z"
   },
   {
    "duration": 19418,
    "start_time": "2021-11-20T06:10:06.737Z"
   },
   {
    "duration": 343,
    "start_time": "2021-11-20T06:10:26.157Z"
   },
   {
    "duration": 227,
    "start_time": "2021-11-20T06:10:26.502Z"
   },
   {
    "duration": 2,
    "start_time": "2021-11-20T06:10:26.732Z"
   },
   {
    "duration": 210,
    "start_time": "2021-11-20T06:10:26.736Z"
   },
   {
    "duration": 301,
    "start_time": "2021-11-20T06:10:26.947Z"
   },
   {
    "duration": 165,
    "start_time": "2021-11-20T06:10:27.250Z"
   },
   {
    "duration": 28,
    "start_time": "2021-11-20T06:10:27.417Z"
   },
   {
    "duration": 246,
    "start_time": "2021-11-20T06:10:27.447Z"
   },
   {
    "duration": 241,
    "start_time": "2021-11-20T06:10:27.695Z"
   },
   {
    "duration": 155,
    "start_time": "2021-11-20T06:10:27.937Z"
   },
   {
    "duration": 18,
    "start_time": "2021-11-20T06:10:28.094Z"
   },
   {
    "duration": 338,
    "start_time": "2021-11-20T06:10:28.115Z"
   },
   {
    "duration": 3,
    "start_time": "2021-11-20T06:10:28.463Z"
   },
   {
    "duration": 33,
    "start_time": "2021-11-20T06:10:28.467Z"
   },
   {
    "duration": 35,
    "start_time": "2021-11-20T06:10:28.501Z"
   },
   {
    "duration": 486,
    "start_time": "2021-11-20T06:10:28.537Z"
   },
   {
    "duration": 2,
    "start_time": "2021-11-20T06:10:29.025Z"
   },
   {
    "duration": 78,
    "start_time": "2021-11-20T06:10:29.030Z"
   },
   {
    "duration": 5,
    "start_time": "2021-11-20T06:10:29.109Z"
   },
   {
    "duration": 50,
    "start_time": "2021-11-20T06:10:29.116Z"
   },
   {
    "duration": 2,
    "start_time": "2021-11-20T06:10:29.168Z"
   },
   {
    "duration": 26,
    "start_time": "2021-11-20T06:10:29.171Z"
   },
   {
    "duration": 370,
    "start_time": "2021-11-20T06:10:29.199Z"
   },
   {
    "duration": 60,
    "start_time": "2021-11-20T06:10:29.571Z"
   },
   {
    "duration": 2,
    "start_time": "2021-11-20T06:10:29.633Z"
   },
   {
    "duration": 773,
    "start_time": "2021-11-20T06:20:53.048Z"
   },
   {
    "duration": 7,
    "start_time": "2021-11-20T06:21:58.125Z"
   },
   {
    "duration": 335,
    "start_time": "2021-11-20T06:22:23.719Z"
   },
   {
    "duration": 6,
    "start_time": "2021-11-20T06:22:35.843Z"
   },
   {
    "duration": 5,
    "start_time": "2021-11-20T06:23:00.069Z"
   },
   {
    "duration": 806,
    "start_time": "2021-11-20T06:23:07.337Z"
   },
   {
    "duration": 524,
    "start_time": "2021-11-20T06:23:28.159Z"
   },
   {
    "duration": 416,
    "start_time": "2021-11-20T06:24:26.240Z"
   },
   {
    "duration": 448,
    "start_time": "2021-11-20T06:25:41.635Z"
   },
   {
    "duration": 370,
    "start_time": "2021-11-20T06:26:47.568Z"
   },
   {
    "duration": 336,
    "start_time": "2021-11-20T06:27:02.196Z"
   },
   {
    "duration": 338,
    "start_time": "2021-11-20T06:27:17.950Z"
   },
   {
    "duration": 326,
    "start_time": "2021-11-20T06:27:59.501Z"
   },
   {
    "duration": 475,
    "start_time": "2021-11-20T06:28:32.152Z"
   },
   {
    "duration": 347,
    "start_time": "2021-11-20T06:28:52.989Z"
   },
   {
    "duration": 358,
    "start_time": "2021-11-20T06:29:14.822Z"
   },
   {
    "duration": 293,
    "start_time": "2021-11-20T06:30:00.290Z"
   },
   {
    "duration": 283,
    "start_time": "2021-11-20T06:30:18.135Z"
   },
   {
    "duration": 330,
    "start_time": "2021-11-20T06:31:42.907Z"
   },
   {
    "duration": 1380,
    "start_time": "2021-11-20T06:33:30.269Z"
   },
   {
    "duration": 7,
    "start_time": "2021-11-20T06:36:21.113Z"
   },
   {
    "duration": 358,
    "start_time": "2021-11-20T06:36:42.335Z"
   },
   {
    "duration": 6,
    "start_time": "2021-11-20T06:37:01.847Z"
   },
   {
    "duration": 9,
    "start_time": "2021-11-20T06:37:13.396Z"
   },
   {
    "duration": 6,
    "start_time": "2021-11-20T06:37:29.925Z"
   },
   {
    "duration": 6,
    "start_time": "2021-11-20T06:37:52.816Z"
   },
   {
    "duration": 7,
    "start_time": "2021-11-20T06:38:08.734Z"
   },
   {
    "duration": 3,
    "start_time": "2021-11-20T06:38:35.131Z"
   },
   {
    "duration": 274,
    "start_time": "2021-11-20T06:40:06.406Z"
   },
   {
    "duration": 277,
    "start_time": "2021-11-20T06:41:21.486Z"
   },
   {
    "duration": 283,
    "start_time": "2021-11-20T06:43:48.634Z"
   },
   {
    "duration": 288,
    "start_time": "2021-11-20T06:44:17.665Z"
   },
   {
    "duration": 608,
    "start_time": "2021-11-20T06:45:18.227Z"
   },
   {
    "duration": 792,
    "start_time": "2021-11-20T06:46:18.030Z"
   },
   {
    "duration": 771,
    "start_time": "2021-11-20T06:47:02.023Z"
   },
   {
    "duration": 541,
    "start_time": "2021-11-20T06:47:26.124Z"
   },
   {
    "duration": 816,
    "start_time": "2021-11-20T06:48:43.521Z"
   },
   {
    "duration": 940,
    "start_time": "2021-11-20T06:48:47.533Z"
   },
   {
    "duration": 576,
    "start_time": "2021-11-20T06:51:52.545Z"
   },
   {
    "duration": 580,
    "start_time": "2021-11-20T06:52:28.956Z"
   },
   {
    "duration": 5,
    "start_time": "2021-11-20T06:53:07.936Z"
   },
   {
    "duration": 5,
    "start_time": "2021-11-20T06:56:56.171Z"
   },
   {
    "duration": 7,
    "start_time": "2021-11-20T06:57:07.635Z"
   },
   {
    "duration": 499,
    "start_time": "2021-11-20T06:57:53.780Z"
   },
   {
    "duration": 497,
    "start_time": "2021-11-20T06:58:07.111Z"
   },
   {
    "duration": 45,
    "start_time": "2021-11-20T06:59:21.380Z"
   },
   {
    "duration": 253,
    "start_time": "2021-11-20T08:17:50.905Z"
   },
   {
    "duration": 15,
    "start_time": "2021-11-20T08:17:58.305Z"
   },
   {
    "duration": 7,
    "start_time": "2021-11-20T08:19:46.807Z"
   },
   {
    "duration": 8,
    "start_time": "2021-11-20T08:19:59.840Z"
   },
   {
    "duration": 87,
    "start_time": "2021-11-20T08:20:06.589Z"
   },
   {
    "duration": 8,
    "start_time": "2021-11-20T08:20:11.932Z"
   },
   {
    "duration": 11,
    "start_time": "2021-11-20T08:20:41.286Z"
   },
   {
    "duration": 11,
    "start_time": "2021-11-20T08:21:26.267Z"
   },
   {
    "duration": 13,
    "start_time": "2021-11-20T08:28:13.385Z"
   },
   {
    "duration": 257,
    "start_time": "2021-11-20T08:31:32.955Z"
   },
   {
    "duration": 252,
    "start_time": "2021-11-20T08:31:59.067Z"
   },
   {
    "duration": 15,
    "start_time": "2021-11-20T08:32:38.540Z"
   },
   {
    "duration": 284,
    "start_time": "2021-11-20T08:34:28.215Z"
   },
   {
    "duration": 4,
    "start_time": "2021-11-20T08:34:56.610Z"
   },
   {
    "duration": 4,
    "start_time": "2021-11-20T08:35:03.454Z"
   },
   {
    "duration": 24,
    "start_time": "2021-11-20T08:35:09.764Z"
   },
   {
    "duration": 7,
    "start_time": "2021-11-20T08:35:17.194Z"
   },
   {
    "duration": 25,
    "start_time": "2021-11-20T08:35:28.745Z"
   },
   {
    "duration": 8,
    "start_time": "2021-11-20T08:35:36.535Z"
   },
   {
    "duration": 23,
    "start_time": "2021-11-20T08:36:06.562Z"
   },
   {
    "duration": 7,
    "start_time": "2021-11-20T08:36:09.602Z"
   },
   {
    "duration": 24,
    "start_time": "2021-11-20T08:36:16.948Z"
   },
   {
    "duration": 7,
    "start_time": "2021-11-20T08:36:19.089Z"
   },
   {
    "duration": 22,
    "start_time": "2021-11-20T08:37:16.366Z"
   },
   {
    "duration": 8,
    "start_time": "2021-11-20T08:37:18.476Z"
   },
   {
    "duration": 267,
    "start_time": "2021-11-20T08:43:34.719Z"
   },
   {
    "duration": 28,
    "start_time": "2021-11-20T08:44:12.464Z"
   },
   {
    "duration": 7,
    "start_time": "2021-11-20T08:44:15.879Z"
   },
   {
    "duration": 25,
    "start_time": "2021-11-20T08:44:47.602Z"
   },
   {
    "duration": 10,
    "start_time": "2021-11-20T08:44:50.529Z"
   },
   {
    "duration": 46,
    "start_time": "2021-11-20T08:47:41.963Z"
   },
   {
    "duration": 267,
    "start_time": "2021-11-20T08:51:02.058Z"
   },
   {
    "duration": 8,
    "start_time": "2021-11-20T08:51:09.261Z"
   },
   {
    "duration": 256,
    "start_time": "2021-11-20T08:52:07.065Z"
   },
   {
    "duration": 258,
    "start_time": "2021-11-20T08:52:11.989Z"
   },
   {
    "duration": 263,
    "start_time": "2021-11-20T08:52:31.935Z"
   },
   {
    "duration": 885,
    "start_time": "2021-11-20T08:52:54.283Z"
   },
   {
    "duration": 259,
    "start_time": "2021-11-20T08:53:19.876Z"
   },
   {
    "duration": 17,
    "start_time": "2021-11-20T08:53:24.954Z"
   },
   {
    "duration": 9128,
    "start_time": "2021-11-20T08:53:37.452Z"
   },
   {
    "duration": 18,
    "start_time": "2021-11-20T08:54:08.377Z"
   },
   {
    "duration": 253,
    "start_time": "2021-11-20T08:54:17.893Z"
   },
   {
    "duration": 284,
    "start_time": "2021-11-20T08:54:31.114Z"
   },
   {
    "duration": 17,
    "start_time": "2021-11-20T08:54:44.006Z"
   },
   {
    "duration": 8308,
    "start_time": "2021-11-20T09:00:19.535Z"
   },
   {
    "duration": 54,
    "start_time": "2021-11-20T09:01:12.286Z"
   },
   {
    "duration": 18,
    "start_time": "2021-11-20T09:01:17.442Z"
   },
   {
    "duration": 256,
    "start_time": "2021-11-20T09:01:50.968Z"
   },
   {
    "duration": 7,
    "start_time": "2021-11-20T09:02:18.783Z"
   },
   {
    "duration": 262,
    "start_time": "2021-11-20T09:03:09.868Z"
   },
   {
    "duration": 970,
    "start_time": "2021-11-20T09:03:57.355Z"
   },
   {
    "duration": 986,
    "start_time": "2021-11-20T09:04:36.181Z"
   },
   {
    "duration": 17,
    "start_time": "2021-11-20T09:05:01.991Z"
   },
   {
    "duration": 988,
    "start_time": "2021-11-20T09:05:40.611Z"
   },
   {
    "duration": 6,
    "start_time": "2021-11-20T09:05:50.382Z"
   },
   {
    "duration": 964,
    "start_time": "2021-11-20T09:06:07.770Z"
   },
   {
    "duration": 252,
    "start_time": "2021-11-20T09:06:19.153Z"
   },
   {
    "duration": 1266,
    "start_time": "2021-11-20T09:06:33.916Z"
   },
   {
    "duration": 970,
    "start_time": "2021-11-20T09:07:16.023Z"
   },
   {
    "duration": 10,
    "start_time": "2021-11-20T09:09:05.504Z"
   },
   {
    "duration": 328,
    "start_time": "2021-11-20T09:10:49.258Z"
   },
   {
    "duration": 19,
    "start_time": "2021-11-20T09:11:10.602Z"
   },
   {
    "duration": 47,
    "start_time": "2021-11-20T09:12:20.570Z"
   },
   {
    "duration": 46,
    "start_time": "2021-11-20T09:12:49.095Z"
   },
   {
    "duration": 49,
    "start_time": "2021-11-20T09:13:18.402Z"
   },
   {
    "duration": 111,
    "start_time": "2021-11-20T09:15:25.515Z"
   },
   {
    "duration": 3,
    "start_time": "2021-11-20T09:15:31.577Z"
   },
   {
    "duration": 272,
    "start_time": "2021-11-20T09:16:06.842Z"
   },
   {
    "duration": 280,
    "start_time": "2021-11-20T09:16:37.486Z"
   },
   {
    "duration": 45,
    "start_time": "2021-11-20T09:16:41.537Z"
   },
   {
    "duration": 45,
    "start_time": "2021-11-20T09:17:07.718Z"
   },
   {
    "duration": 52,
    "start_time": "2021-11-20T09:20:55.521Z"
   },
   {
    "duration": 52,
    "start_time": "2021-11-20T09:22:07.714Z"
   },
   {
    "duration": 246,
    "start_time": "2021-11-20T09:24:45.803Z"
   },
   {
    "duration": 63,
    "start_time": "2021-11-20T09:25:23.490Z"
   },
   {
    "duration": 53,
    "start_time": "2021-11-20T09:25:43.214Z"
   },
   {
    "duration": 22,
    "start_time": "2021-11-20T09:28:01.183Z"
   },
   {
    "duration": 12,
    "start_time": "2021-11-20T09:28:36.280Z"
   },
   {
    "duration": 11,
    "start_time": "2021-11-20T09:29:15.784Z"
   },
   {
    "duration": 12,
    "start_time": "2021-11-20T09:29:39.063Z"
   },
   {
    "duration": 25,
    "start_time": "2021-11-20T09:30:42.556Z"
   },
   {
    "duration": 24,
    "start_time": "2021-11-20T09:31:30.358Z"
   },
   {
    "duration": 266,
    "start_time": "2021-11-20T09:33:44.245Z"
   },
   {
    "duration": 61,
    "start_time": "2021-11-20T09:34:25.065Z"
   },
   {
    "duration": 162,
    "start_time": "2021-11-20T09:35:05.211Z"
   },
   {
    "duration": 58,
    "start_time": "2021-11-20T09:35:49.218Z"
   },
   {
    "duration": 62,
    "start_time": "2021-11-20T09:36:00.945Z"
   },
   {
    "duration": 58,
    "start_time": "2021-11-20T09:38:20.104Z"
   },
   {
    "duration": 57,
    "start_time": "2021-11-20T09:39:39.469Z"
   },
   {
    "duration": 15,
    "start_time": "2021-11-20T11:33:35.357Z"
   },
   {
    "duration": 8,
    "start_time": "2021-11-20T11:34:24.894Z"
   },
   {
    "duration": 8,
    "start_time": "2021-11-20T11:37:18.719Z"
   },
   {
    "duration": 595,
    "start_time": "2021-11-20T11:48:57.059Z"
   },
   {
    "duration": 535,
    "start_time": "2021-11-20T11:51:06.872Z"
   },
   {
    "duration": 8275,
    "start_time": "2021-11-20T11:51:40.824Z"
   },
   {
    "duration": 793,
    "start_time": "2021-11-20T11:51:55.051Z"
   },
   {
    "duration": 543,
    "start_time": "2021-11-20T11:52:17.152Z"
   },
   {
    "duration": 8,
    "start_time": "2021-11-20T11:52:31.517Z"
   },
   {
    "duration": 6,
    "start_time": "2021-11-20T11:52:40.195Z"
   },
   {
    "duration": 6,
    "start_time": "2021-11-20T11:53:35.677Z"
   },
   {
    "duration": 7,
    "start_time": "2021-11-20T11:53:43.776Z"
   },
   {
    "duration": 238,
    "start_time": "2021-11-20T11:55:07.952Z"
   },
   {
    "duration": 16,
    "start_time": "2021-11-20T11:55:10.825Z"
   },
   {
    "duration": 12,
    "start_time": "2021-11-20T11:56:05.311Z"
   },
   {
    "duration": 18,
    "start_time": "2021-11-20T11:56:40.362Z"
   },
   {
    "duration": 11,
    "start_time": "2021-11-20T11:57:11.917Z"
   },
   {
    "duration": 255,
    "start_time": "2021-11-20T11:58:12.554Z"
   },
   {
    "duration": 4325,
    "start_time": "2021-11-20T11:58:22.089Z"
   },
   {
    "duration": 839,
    "start_time": "2021-11-20T12:00:20.708Z"
   },
   {
    "duration": 12,
    "start_time": "2021-11-20T12:00:23.812Z"
   },
   {
    "duration": 11,
    "start_time": "2021-11-20T12:02:29.640Z"
   },
   {
    "duration": 10,
    "start_time": "2021-11-20T12:02:46.351Z"
   },
   {
    "duration": 1174,
    "start_time": "2021-11-20T12:03:41.014Z"
   },
   {
    "duration": 1333,
    "start_time": "2021-11-21T06:44:05.834Z"
   },
   {
    "duration": 17,
    "start_time": "2021-11-21T06:44:07.169Z"
   },
   {
    "duration": 6,
    "start_time": "2021-11-21T06:44:07.188Z"
   },
   {
    "duration": 12,
    "start_time": "2021-11-21T06:44:07.196Z"
   },
   {
    "duration": 15,
    "start_time": "2021-11-21T06:44:07.210Z"
   },
   {
    "duration": 259,
    "start_time": "2021-11-21T06:44:07.244Z"
   },
   {
    "duration": 13,
    "start_time": "2021-11-21T06:44:07.504Z"
   },
   {
    "duration": 8,
    "start_time": "2021-11-21T06:44:07.519Z"
   },
   {
    "duration": 14,
    "start_time": "2021-11-21T06:44:07.544Z"
   },
   {
    "duration": 1238,
    "start_time": "2021-11-21T06:44:07.559Z"
   },
   {
    "duration": 1075,
    "start_time": "2021-11-21T06:44:08.798Z"
   },
   {
    "duration": 15398,
    "start_time": "2021-11-21T06:44:09.875Z"
   },
   {
    "duration": 554,
    "start_time": "2021-11-21T06:44:25.274Z"
   },
   {
    "duration": 18636,
    "start_time": "2021-11-21T06:44:25.829Z"
   },
   {
    "duration": 19791,
    "start_time": "2021-11-21T06:44:44.467Z"
   },
   {
    "duration": 360,
    "start_time": "2021-11-21T06:45:04.260Z"
   },
   {
    "duration": 235,
    "start_time": "2021-11-21T06:45:04.622Z"
   },
   {
    "duration": 3,
    "start_time": "2021-11-21T06:45:04.859Z"
   },
   {
    "duration": 224,
    "start_time": "2021-11-21T06:45:04.864Z"
   },
   {
    "duration": 307,
    "start_time": "2021-11-21T06:45:05.090Z"
   },
   {
    "duration": 166,
    "start_time": "2021-11-21T06:45:05.399Z"
   },
   {
    "duration": 31,
    "start_time": "2021-11-21T06:45:05.567Z"
   },
   {
    "duration": 279,
    "start_time": "2021-11-21T06:45:05.603Z"
   },
   {
    "duration": 321,
    "start_time": "2021-11-21T06:45:05.885Z"
   },
   {
    "duration": 165,
    "start_time": "2021-11-21T06:45:06.208Z"
   },
   {
    "duration": 14,
    "start_time": "2021-11-21T06:45:06.375Z"
   },
   {
    "duration": 255,
    "start_time": "2021-11-21T06:45:06.392Z"
   },
   {
    "duration": 2,
    "start_time": "2021-11-21T06:45:06.650Z"
   },
   {
    "duration": 9,
    "start_time": "2021-11-21T06:45:06.654Z"
   },
   {
    "duration": 12,
    "start_time": "2021-11-21T06:45:06.665Z"
   },
   {
    "duration": 543,
    "start_time": "2021-11-21T06:45:06.679Z"
   },
   {
    "duration": 2,
    "start_time": "2021-11-21T06:45:07.223Z"
   },
   {
    "duration": 55,
    "start_time": "2021-11-21T06:45:07.227Z"
   },
   {
    "duration": 21,
    "start_time": "2021-11-21T06:45:07.284Z"
   },
   {
    "duration": 534,
    "start_time": "2021-11-21T06:45:07.307Z"
   },
   {
    "duration": 3,
    "start_time": "2021-11-21T06:45:07.844Z"
   },
   {
    "duration": 57,
    "start_time": "2021-11-21T06:45:07.849Z"
   },
   {
    "duration": 2,
    "start_time": "2021-11-21T06:45:07.907Z"
   },
   {
    "duration": 39,
    "start_time": "2021-11-21T06:45:07.911Z"
   },
   {
    "duration": 10,
    "start_time": "2021-11-21T06:45:07.952Z"
   },
   {
    "duration": 1155,
    "start_time": "2021-11-21T06:45:07.963Z"
   },
   {
    "duration": 3,
    "start_time": "2021-11-21T06:45:09.119Z"
   },
   {
    "duration": 26,
    "start_time": "2021-11-21T06:45:09.123Z"
   },
   {
    "duration": 6,
    "start_time": "2021-11-21T06:45:09.151Z"
   },
   {
    "duration": 903,
    "start_time": "2021-11-21T06:49:42.800Z"
   },
   {
    "duration": 804,
    "start_time": "2021-11-21T06:50:31.401Z"
   },
   {
    "duration": 257,
    "start_time": "2021-11-21T06:53:22.700Z"
   },
   {
    "duration": 24,
    "start_time": "2021-11-21T06:53:58.385Z"
   },
   {
    "duration": 253,
    "start_time": "2021-11-21T06:56:02.128Z"
   },
   {
    "duration": 260,
    "start_time": "2021-11-21T06:56:16.236Z"
   },
   {
    "duration": 195,
    "start_time": "2021-11-21T06:56:39.029Z"
   },
   {
    "duration": 10,
    "start_time": "2021-11-21T06:58:53.829Z"
   },
   {
    "duration": 23,
    "start_time": "2021-11-21T06:58:57.658Z"
   },
   {
    "duration": 8,
    "start_time": "2021-11-21T06:59:29.798Z"
   },
   {
    "duration": 20,
    "start_time": "2021-11-21T07:02:40.015Z"
   },
   {
    "duration": 18,
    "start_time": "2021-11-21T07:04:18.552Z"
   },
   {
    "duration": 34,
    "start_time": "2021-11-21T07:04:54.185Z"
   },
   {
    "duration": 4,
    "start_time": "2021-11-21T07:06:46.363Z"
   },
   {
    "duration": 1607,
    "start_time": "2021-11-21T07:09:29.373Z"
   },
   {
    "duration": 1169,
    "start_time": "2021-11-21T07:09:40.463Z"
   },
   {
    "duration": 34,
    "start_time": "2021-11-21T07:12:34.621Z"
   },
   {
    "duration": 37,
    "start_time": "2021-11-21T07:12:47.462Z"
   },
   {
    "duration": 25,
    "start_time": "2021-11-21T07:13:55.371Z"
   },
   {
    "duration": 37,
    "start_time": "2021-11-21T07:14:01.995Z"
   },
   {
    "duration": 172,
    "start_time": "2021-11-21T07:14:30.657Z"
   },
   {
    "duration": 1272,
    "start_time": "2021-11-21T07:16:47.791Z"
   },
   {
    "duration": 1237,
    "start_time": "2021-11-21T07:18:58.083Z"
   },
   {
    "duration": 1226,
    "start_time": "2021-11-21T07:20:04.638Z"
   },
   {
    "duration": 1250,
    "start_time": "2021-11-21T07:22:32.959Z"
   },
   {
    "duration": 54,
    "start_time": "2021-11-21T07:39:15.217Z"
   },
   {
    "duration": 61,
    "start_time": "2021-11-21T07:39:55.659Z"
   },
   {
    "duration": 11,
    "start_time": "2021-11-21T07:40:22.622Z"
   },
   {
    "duration": 1077,
    "start_time": "2021-11-21T07:40:46.023Z"
   },
   {
    "duration": 7711,
    "start_time": "2021-11-21T07:41:14.027Z"
   },
   {
    "duration": 8144,
    "start_time": "2021-11-21T07:41:40.706Z"
   },
   {
    "duration": 88,
    "start_time": "2021-11-21T07:41:53.426Z"
   },
   {
    "duration": 86,
    "start_time": "2021-11-21T07:41:56.216Z"
   },
   {
    "duration": 1225,
    "start_time": "2021-11-21T07:42:00.519Z"
   },
   {
    "duration": 1259,
    "start_time": "2021-11-21T07:42:08.900Z"
   },
   {
    "duration": 3,
    "start_time": "2021-11-21T07:44:22.045Z"
   },
   {
    "duration": 1161,
    "start_time": "2021-11-21T07:44:44.257Z"
   },
   {
    "duration": 1080,
    "start_time": "2021-11-21T07:44:57.633Z"
   },
   {
    "duration": 244,
    "start_time": "2021-11-21T07:51:40.043Z"
   },
   {
    "duration": 12,
    "start_time": "2021-11-21T07:51:43.761Z"
   },
   {
    "duration": 7,
    "start_time": "2021-11-21T07:53:05.428Z"
   },
   {
    "duration": 9,
    "start_time": "2021-11-21T07:53:36.340Z"
   },
   {
    "duration": 262,
    "start_time": "2021-11-21T07:54:24.118Z"
   },
   {
    "duration": 943,
    "start_time": "2021-11-21T07:55:52.749Z"
   },
   {
    "duration": 254,
    "start_time": "2021-11-21T07:56:27.646Z"
   },
   {
    "duration": 258,
    "start_time": "2021-11-21T07:57:57.534Z"
   },
   {
    "duration": 249,
    "start_time": "2021-11-21T07:59:27.851Z"
   },
   {
    "duration": 13,
    "start_time": "2021-11-21T08:11:52.296Z"
   },
   {
    "duration": 331,
    "start_time": "2021-11-21T08:12:42.265Z"
   },
   {
    "duration": 2,
    "start_time": "2021-11-21T08:30:59.887Z"
   },
   {
    "duration": 2,
    "start_time": "2021-11-21T08:31:01.421Z"
   },
   {
    "duration": 4,
    "start_time": "2021-11-21T08:34:17.159Z"
   },
   {
    "duration": 25,
    "start_time": "2021-11-21T08:58:12.110Z"
   },
   {
    "duration": 14,
    "start_time": "2021-11-21T09:11:18.846Z"
   },
   {
    "duration": 14,
    "start_time": "2021-11-21T09:11:36.087Z"
   },
   {
    "duration": 15,
    "start_time": "2021-11-21T09:12:22.256Z"
   },
   {
    "duration": 15,
    "start_time": "2021-11-21T09:14:42.935Z"
   },
   {
    "duration": 16,
    "start_time": "2021-11-21T09:18:34.809Z"
   },
   {
    "duration": 369,
    "start_time": "2021-11-21T09:22:09.877Z"
   },
   {
    "duration": 321,
    "start_time": "2021-11-21T09:22:19.048Z"
   },
   {
    "duration": 343,
    "start_time": "2021-11-21T09:22:51.978Z"
   },
   {
    "duration": 335,
    "start_time": "2021-11-21T09:23:04.643Z"
   },
   {
    "duration": 334,
    "start_time": "2021-11-21T09:28:23.738Z"
   },
   {
    "duration": 415,
    "start_time": "2021-11-21T09:28:32.411Z"
   },
   {
    "duration": 330,
    "start_time": "2021-11-21T09:28:50.964Z"
   },
   {
    "duration": 344,
    "start_time": "2021-11-21T09:29:20.525Z"
   },
   {
    "duration": 343,
    "start_time": "2021-11-21T09:29:34.060Z"
   },
   {
    "duration": 354,
    "start_time": "2021-11-21T09:30:03.247Z"
   },
   {
    "duration": 359,
    "start_time": "2021-11-21T09:30:54.299Z"
   },
   {
    "duration": 448,
    "start_time": "2021-11-21T09:31:01.948Z"
   },
   {
    "duration": 9,
    "start_time": "2021-11-21T09:40:37.723Z"
   },
   {
    "duration": 136,
    "start_time": "2021-11-21T09:40:46.380Z"
   },
   {
    "duration": 265,
    "start_time": "2021-11-21T09:40:53.858Z"
   },
   {
    "duration": 307,
    "start_time": "2021-11-21T09:41:28.604Z"
   },
   {
    "duration": 371,
    "start_time": "2021-11-21T09:41:36.110Z"
   },
   {
    "duration": 361,
    "start_time": "2021-11-21T09:41:47.042Z"
   },
   {
    "duration": 216,
    "start_time": "2021-11-21T09:43:50.228Z"
   },
   {
    "duration": 207,
    "start_time": "2021-11-21T09:44:13.197Z"
   },
   {
    "duration": 238,
    "start_time": "2021-11-21T09:44:17.013Z"
   },
   {
    "duration": 226,
    "start_time": "2021-11-21T09:44:24.044Z"
   },
   {
    "duration": 362,
    "start_time": "2021-11-21T09:44:26.786Z"
   },
   {
    "duration": 224,
    "start_time": "2021-11-21T09:44:39.350Z"
   },
   {
    "duration": 216,
    "start_time": "2021-11-21T09:44:45.218Z"
   },
   {
    "duration": 281,
    "start_time": "2021-11-21T09:45:50.935Z"
   },
   {
    "duration": 524,
    "start_time": "2021-11-21T09:46:06.229Z"
   },
   {
    "duration": 546,
    "start_time": "2021-11-21T09:47:08.126Z"
   },
   {
    "duration": 643,
    "start_time": "2021-11-21T09:47:45.359Z"
   },
   {
    "duration": 557,
    "start_time": "2021-11-21T09:48:40.470Z"
   },
   {
    "duration": 499,
    "start_time": "2021-11-21T09:49:08.167Z"
   },
   {
    "duration": 485,
    "start_time": "2021-11-21T09:49:23.905Z"
   },
   {
    "duration": 610,
    "start_time": "2021-11-21T09:49:40.162Z"
   },
   {
    "duration": 212,
    "start_time": "2021-11-21T09:53:18.192Z"
   },
   {
    "duration": 6,
    "start_time": "2021-11-21T09:58:45.776Z"
   },
   {
    "duration": 342,
    "start_time": "2021-11-21T09:58:51.929Z"
   },
   {
    "duration": 6,
    "start_time": "2021-11-21T09:58:54.649Z"
   },
   {
    "duration": 255,
    "start_time": "2021-11-21T09:59:01.312Z"
   },
   {
    "duration": 5,
    "start_time": "2021-11-21T09:59:35.954Z"
   },
   {
    "duration": 209,
    "start_time": "2021-11-21T10:02:41.737Z"
   },
   {
    "duration": 204,
    "start_time": "2021-11-21T10:03:17.423Z"
   },
   {
    "duration": 204,
    "start_time": "2021-11-21T10:04:18.278Z"
   },
   {
    "duration": 215,
    "start_time": "2021-11-21T10:04:46.830Z"
   },
   {
    "duration": 231,
    "start_time": "2021-11-21T10:05:13.472Z"
   },
   {
    "duration": 215,
    "start_time": "2021-11-21T10:05:18.250Z"
   },
   {
    "duration": 222,
    "start_time": "2021-11-21T10:06:56.799Z"
   },
   {
    "duration": 565,
    "start_time": "2021-11-21T10:07:35.591Z"
   },
   {
    "duration": 187,
    "start_time": "2021-11-21T10:07:43.442Z"
   },
   {
    "duration": 470,
    "start_time": "2021-11-21T10:07:45.015Z"
   },
   {
    "duration": 473,
    "start_time": "2021-11-21T10:07:51.421Z"
   },
   {
    "duration": 226,
    "start_time": "2021-11-21T10:08:08.711Z"
   },
   {
    "duration": 222,
    "start_time": "2021-11-21T10:08:27.335Z"
   },
   {
    "duration": 543,
    "start_time": "2021-11-21T10:13:45.330Z"
   },
   {
    "duration": 349,
    "start_time": "2021-11-21T10:14:06.080Z"
   },
   {
    "duration": 260,
    "start_time": "2021-11-21T10:14:14.215Z"
   },
   {
    "duration": 313,
    "start_time": "2021-11-21T10:19:44.479Z"
   },
   {
    "duration": 299,
    "start_time": "2021-11-21T10:28:37.730Z"
   },
   {
    "duration": 190,
    "start_time": "2021-11-21T10:28:45.256Z"
   },
   {
    "duration": 212,
    "start_time": "2021-11-21T10:30:11.488Z"
   },
   {
    "duration": 527,
    "start_time": "2021-11-21T10:32:00.560Z"
   },
   {
    "duration": 443,
    "start_time": "2021-11-21T10:33:15.490Z"
   },
   {
    "duration": 300,
    "start_time": "2021-11-21T10:33:50.266Z"
   },
   {
    "duration": 771,
    "start_time": "2021-11-21T10:34:29.562Z"
   },
   {
    "duration": 4,
    "start_time": "2021-11-21T10:34:41.140Z"
   },
   {
    "duration": 7,
    "start_time": "2021-11-21T10:34:51.257Z"
   },
   {
    "duration": 454,
    "start_time": "2021-11-21T10:35:11.585Z"
   },
   {
    "duration": 5,
    "start_time": "2021-11-21T10:35:59.322Z"
   },
   {
    "duration": 227,
    "start_time": "2021-11-21T10:36:09.360Z"
   },
   {
    "duration": 438,
    "start_time": "2021-11-21T10:36:48.203Z"
   },
   {
    "duration": 640,
    "start_time": "2021-11-21T10:37:14.718Z"
   },
   {
    "duration": 435,
    "start_time": "2021-11-21T10:38:02.330Z"
   },
   {
    "duration": 764,
    "start_time": "2021-11-21T10:38:32.339Z"
   },
   {
    "duration": 704,
    "start_time": "2021-11-21T10:39:14.498Z"
   },
   {
    "duration": 672,
    "start_time": "2021-11-21T10:42:28.420Z"
   },
   {
    "duration": 117,
    "start_time": "2021-11-21T10:52:43.989Z"
   },
   {
    "duration": 90,
    "start_time": "2021-11-21T10:52:50.630Z"
   },
   {
    "duration": 81,
    "start_time": "2021-11-21T10:52:59.093Z"
   },
   {
    "duration": 85,
    "start_time": "2021-11-21T10:53:09.757Z"
   },
   {
    "duration": 152,
    "start_time": "2021-11-21T10:53:23.413Z"
   },
   {
    "duration": 160,
    "start_time": "2021-11-21T10:53:49.292Z"
   },
   {
    "duration": 153,
    "start_time": "2021-11-21T10:54:23.085Z"
   },
   {
    "duration": 144,
    "start_time": "2021-11-21T10:55:36.670Z"
   },
   {
    "duration": 147,
    "start_time": "2021-11-21T10:56:01.886Z"
   },
   {
    "duration": 248,
    "start_time": "2021-11-21T10:56:24.919Z"
   },
   {
    "duration": 149,
    "start_time": "2021-11-21T10:56:41.541Z"
   },
   {
    "duration": 150,
    "start_time": "2021-11-21T10:57:01.746Z"
   },
   {
    "duration": 147,
    "start_time": "2021-11-21T10:57:27.270Z"
   },
   {
    "duration": 141,
    "start_time": "2021-11-21T10:58:06.392Z"
   },
   {
    "duration": 149,
    "start_time": "2021-11-21T10:58:32.626Z"
   },
   {
    "duration": 144,
    "start_time": "2021-11-21T10:59:07.321Z"
   },
   {
    "duration": 157,
    "start_time": "2021-11-21T11:01:41.867Z"
   },
   {
    "duration": 146,
    "start_time": "2021-11-21T11:01:48.281Z"
   },
   {
    "duration": 143,
    "start_time": "2021-11-21T11:01:59.406Z"
   },
   {
    "duration": 152,
    "start_time": "2021-11-21T11:02:11.729Z"
   },
   {
    "duration": 232,
    "start_time": "2021-11-21T11:02:33.560Z"
   },
   {
    "duration": 481,
    "start_time": "2021-11-21T11:07:33.624Z"
   },
   {
    "duration": 474,
    "start_time": "2021-11-21T11:08:15.473Z"
   },
   {
    "duration": 62,
    "start_time": "2021-11-21T11:08:55.665Z"
   },
   {
    "duration": 86,
    "start_time": "2021-11-21T11:09:05.743Z"
   },
   {
    "duration": 41,
    "start_time": "2021-11-21T11:09:12.936Z"
   },
   {
    "duration": 388,
    "start_time": "2021-11-21T11:59:57.492Z"
   },
   {
    "duration": 12,
    "start_time": "2021-11-21T12:00:24.921Z"
   },
   {
    "duration": 94,
    "start_time": "2021-11-21T12:02:37.462Z"
   },
   {
    "duration": 120,
    "start_time": "2021-11-21T12:03:23.013Z"
   },
   {
    "duration": 17,
    "start_time": "2021-11-21T12:04:03.085Z"
   },
   {
    "duration": 17,
    "start_time": "2021-11-21T12:04:23.204Z"
   },
   {
    "duration": 41,
    "start_time": "2021-11-21T12:13:18.475Z"
   },
   {
    "duration": 25,
    "start_time": "2021-11-21T12:14:29.191Z"
   },
   {
    "duration": 7,
    "start_time": "2021-11-21T12:14:41.616Z"
   },
   {
    "duration": 7,
    "start_time": "2021-11-21T12:15:38.727Z"
   },
   {
    "duration": 7,
    "start_time": "2021-11-21T12:16:09.792Z"
   },
   {
    "duration": 8,
    "start_time": "2021-11-21T12:16:20.328Z"
   },
   {
    "duration": 39,
    "start_time": "2021-11-21T12:17:55.001Z"
   },
   {
    "duration": 8,
    "start_time": "2021-11-21T12:17:57.355Z"
   },
   {
    "duration": 7,
    "start_time": "2021-11-21T12:18:16.949Z"
   },
   {
    "duration": 10,
    "start_time": "2021-11-21T12:18:21.616Z"
   },
   {
    "duration": 8,
    "start_time": "2021-11-21T12:18:50.323Z"
   },
   {
    "duration": 11,
    "start_time": "2021-11-21T12:20:09.473Z"
   },
   {
    "duration": 41,
    "start_time": "2021-11-21T12:22:35.484Z"
   },
   {
    "duration": 41,
    "start_time": "2021-11-21T12:22:58.986Z"
   },
   {
    "duration": 41,
    "start_time": "2021-11-21T12:23:09.707Z"
   },
   {
    "duration": 50,
    "start_time": "2021-11-21T12:24:52.736Z"
   },
   {
    "duration": 47,
    "start_time": "2021-11-21T12:25:16.018Z"
   },
   {
    "duration": 40,
    "start_time": "2021-11-21T12:25:30.473Z"
   },
   {
    "duration": 39,
    "start_time": "2021-11-21T12:25:40.995Z"
   },
   {
    "duration": 25,
    "start_time": "2021-11-21T12:32:31.951Z"
   },
   {
    "duration": 550,
    "start_time": "2021-11-21T12:33:40.973Z"
   },
   {
    "duration": 523,
    "start_time": "2021-11-21T12:33:52.707Z"
   },
   {
    "duration": 462,
    "start_time": "2021-11-21T12:34:04.875Z"
   },
   {
    "duration": 477,
    "start_time": "2021-11-21T12:34:19.075Z"
   },
   {
    "duration": 475,
    "start_time": "2021-11-21T12:34:30.962Z"
   },
   {
    "duration": 436,
    "start_time": "2021-11-21T12:34:37.864Z"
   },
   {
    "duration": 469,
    "start_time": "2021-11-21T12:34:44.667Z"
   },
   {
    "duration": 462,
    "start_time": "2021-11-21T12:34:50.782Z"
   },
   {
    "duration": 505,
    "start_time": "2021-11-21T12:35:21.796Z"
   },
   {
    "duration": 465,
    "start_time": "2021-11-21T12:35:33.664Z"
   },
   {
    "duration": 607,
    "start_time": "2021-11-21T12:35:48.531Z"
   },
   {
    "duration": 258,
    "start_time": "2021-11-21T12:38:22.253Z"
   },
   {
    "duration": 452,
    "start_time": "2021-11-21T12:38:42.807Z"
   },
   {
    "duration": 480,
    "start_time": "2021-11-21T12:38:56.384Z"
   },
   {
    "duration": 491,
    "start_time": "2021-11-21T12:39:05.596Z"
   },
   {
    "duration": 465,
    "start_time": "2021-11-21T12:39:20.470Z"
   },
   {
    "duration": 570,
    "start_time": "2021-11-21T12:39:45.204Z"
   },
   {
    "duration": 480,
    "start_time": "2021-11-21T12:40:06.888Z"
   },
   {
    "duration": 440,
    "start_time": "2021-11-21T12:40:16.294Z"
   },
   {
    "duration": 448,
    "start_time": "2021-11-21T12:40:23.349Z"
   },
   {
    "duration": 451,
    "start_time": "2021-11-21T12:40:55.069Z"
   },
   {
    "duration": 546,
    "start_time": "2021-11-21T12:41:02.641Z"
   },
   {
    "duration": 546,
    "start_time": "2021-11-21T12:41:12.942Z"
   },
   {
    "duration": 454,
    "start_time": "2021-11-21T12:41:19.959Z"
   },
   {
    "duration": 437,
    "start_time": "2021-11-21T12:41:35.542Z"
   },
   {
    "duration": 450,
    "start_time": "2021-11-21T12:42:02.613Z"
   },
   {
    "duration": 687,
    "start_time": "2021-11-21T12:57:55.768Z"
   },
   {
    "duration": 429,
    "start_time": "2021-11-21T13:09:08.751Z"
   },
   {
    "duration": 298,
    "start_time": "2021-11-21T13:09:22.628Z"
   },
   {
    "duration": 324,
    "start_time": "2021-11-21T13:09:31.739Z"
   },
   {
    "duration": 301,
    "start_time": "2021-11-21T13:09:35.478Z"
   },
   {
    "duration": 278,
    "start_time": "2021-11-21T13:09:54.636Z"
   },
   {
    "duration": 1220,
    "start_time": "2021-11-21T13:58:10.604Z"
   },
   {
    "duration": 1310,
    "start_time": "2021-11-21T13:58:29.811Z"
   },
   {
    "duration": 1288,
    "start_time": "2021-11-21T13:58:52.051Z"
   },
   {
    "duration": 1284,
    "start_time": "2021-11-21T13:59:03.506Z"
   },
   {
    "duration": 1145,
    "start_time": "2021-11-21T13:59:13.259Z"
   },
   {
    "duration": 1092,
    "start_time": "2021-11-21T13:59:20.770Z"
   },
   {
    "duration": 1159,
    "start_time": "2021-11-21T13:59:28.020Z"
   },
   {
    "duration": 1036,
    "start_time": "2021-11-21T13:59:38.762Z"
   },
   {
    "duration": 1351,
    "start_time": "2021-11-21T14:00:01.595Z"
   },
   {
    "duration": 1053,
    "start_time": "2021-11-21T14:00:09.826Z"
   },
   {
    "duration": 1349,
    "start_time": "2021-11-21T14:00:13.988Z"
   },
   {
    "duration": 1027,
    "start_time": "2021-11-21T14:00:37.898Z"
   },
   {
    "duration": 1199,
    "start_time": "2021-11-21T14:00:51.747Z"
   },
   {
    "duration": 1190,
    "start_time": "2021-11-21T14:01:29.435Z"
   },
   {
    "duration": 1331,
    "start_time": "2021-11-21T14:01:37.147Z"
   },
   {
    "duration": 1235,
    "start_time": "2021-11-21T14:01:46.483Z"
   },
   {
    "duration": 1013,
    "start_time": "2021-11-21T14:04:03.363Z"
   },
   {
    "duration": 1429,
    "start_time": "2021-11-21T14:04:09.868Z"
   },
   {
    "duration": 1089,
    "start_time": "2021-11-21T14:04:32.930Z"
   },
   {
    "duration": 1208,
    "start_time": "2021-11-21T14:04:47.428Z"
   },
   {
    "duration": 1407,
    "start_time": "2021-11-21T14:06:07.932Z"
   },
   {
    "duration": 1222,
    "start_time": "2021-11-21T14:06:36.524Z"
   },
   {
    "duration": 1193,
    "start_time": "2021-11-21T14:06:50.672Z"
   },
   {
    "duration": 1174,
    "start_time": "2021-11-21T14:10:02.310Z"
   },
   {
    "duration": 11,
    "start_time": "2021-11-21T14:15:12.861Z"
   },
   {
    "duration": 63,
    "start_time": "2021-11-21T14:15:33.877Z"
   },
   {
    "duration": 90,
    "start_time": "2021-11-21T14:16:41.668Z"
   },
   {
    "duration": 71,
    "start_time": "2021-11-21T14:16:44.993Z"
   },
   {
    "duration": 71,
    "start_time": "2021-11-21T14:17:01.910Z"
   },
   {
    "duration": 41,
    "start_time": "2021-11-21T14:18:42.551Z"
   },
   {
    "duration": 55,
    "start_time": "2021-11-21T14:19:38.957Z"
   },
   {
    "duration": 53,
    "start_time": "2021-11-21T14:20:24.447Z"
   },
   {
    "duration": 19,
    "start_time": "2021-11-21T14:21:45.844Z"
   },
   {
    "duration": 21,
    "start_time": "2021-11-21T14:21:57.527Z"
   },
   {
    "duration": 21,
    "start_time": "2021-11-21T14:23:14.766Z"
   },
   {
    "duration": 14,
    "start_time": "2021-11-21T14:23:35.455Z"
   },
   {
    "duration": 11,
    "start_time": "2021-11-21T14:24:04.213Z"
   },
   {
    "duration": 11,
    "start_time": "2021-11-21T14:24:55.428Z"
   },
   {
    "duration": 54,
    "start_time": "2021-11-21T14:25:41.172Z"
   },
   {
    "duration": 51,
    "start_time": "2021-11-21T14:27:32.780Z"
   },
   {
    "duration": 54,
    "start_time": "2021-11-21T14:27:46.587Z"
   },
   {
    "duration": 1095,
    "start_time": "2021-11-21T14:29:29.105Z"
   },
   {
    "duration": 13,
    "start_time": "2021-11-21T14:33:27.218Z"
   },
   {
    "duration": 13,
    "start_time": "2021-11-21T14:34:13.798Z"
   },
   {
    "duration": 13,
    "start_time": "2021-11-21T14:34:14.442Z"
   },
   {
    "duration": 11,
    "start_time": "2021-11-21T14:36:28.959Z"
   },
   {
    "duration": 14,
    "start_time": "2021-11-21T14:36:37.816Z"
   },
   {
    "duration": 81,
    "start_time": "2021-11-21T14:38:23.649Z"
   },
   {
    "duration": 75,
    "start_time": "2021-11-21T14:38:38.552Z"
   },
   {
    "duration": 916,
    "start_time": "2021-11-21T14:39:06.969Z"
   },
   {
    "duration": 181,
    "start_time": "2021-11-21T14:40:14.616Z"
   },
   {
    "duration": 282,
    "start_time": "2021-11-21T14:40:27.109Z"
   },
   {
    "duration": 774,
    "start_time": "2021-11-21T14:40:43.849Z"
   },
   {
    "duration": 4,
    "start_time": "2021-11-21T14:40:55.632Z"
   },
   {
    "duration": 147,
    "start_time": "2021-11-21T14:41:37.152Z"
   },
   {
    "duration": 262,
    "start_time": "2021-11-21T14:41:54.166Z"
   },
   {
    "duration": 162,
    "start_time": "2021-11-21T14:41:58.149Z"
   },
   {
    "duration": 365,
    "start_time": "2021-11-21T14:42:28.887Z"
   },
   {
    "duration": 10,
    "start_time": "2021-11-21T14:42:36.990Z"
   },
   {
    "duration": 1455,
    "start_time": "2021-11-22T05:53:06.809Z"
   },
   {
    "duration": 34,
    "start_time": "2021-11-22T05:53:08.267Z"
   },
   {
    "duration": 24,
    "start_time": "2021-11-22T05:53:08.947Z"
   },
   {
    "duration": 434,
    "start_time": "2021-11-22T05:53:09.269Z"
   },
   {
    "duration": 20,
    "start_time": "2021-11-22T05:53:09.725Z"
   },
   {
    "duration": 13,
    "start_time": "2021-11-22T05:53:10.042Z"
   },
   {
    "duration": 21,
    "start_time": "2021-11-22T05:53:10.358Z"
   },
   {
    "duration": 1976,
    "start_time": "2021-11-22T05:53:10.637Z"
   },
   {
    "duration": 1851,
    "start_time": "2021-11-22T05:53:12.616Z"
   },
   {
    "duration": 24952,
    "start_time": "2021-11-22T05:53:14.471Z"
   },
   {
    "duration": 977,
    "start_time": "2021-11-22T05:53:39.427Z"
   },
   {
    "duration": 29441,
    "start_time": "2021-11-22T05:53:40.406Z"
   },
   {
    "duration": 30906,
    "start_time": "2021-11-22T05:54:09.850Z"
   },
   {
    "duration": 27,
    "start_time": "2021-11-22T05:54:40.759Z"
   },
   {
    "duration": 611,
    "start_time": "2021-11-22T05:54:40.791Z"
   },
   {
    "duration": 922,
    "start_time": "2021-11-22T05:54:41.405Z"
   },
   {
    "duration": 359,
    "start_time": "2021-11-22T05:54:42.330Z"
   },
   {
    "duration": 475,
    "start_time": "2021-11-22T05:54:42.692Z"
   },
   {
    "duration": 343,
    "start_time": "2021-11-22T05:54:43.169Z"
   },
   {
    "duration": 1147,
    "start_time": "2021-11-22T05:54:43.514Z"
   },
   {
    "duration": 268,
    "start_time": "2021-11-22T05:54:44.663Z"
   },
   {
    "duration": 40,
    "start_time": "2021-11-22T05:54:44.933Z"
   },
   {
    "duration": 15,
    "start_time": "2021-11-22T05:54:44.975Z"
   },
   {
    "duration": 821,
    "start_time": "2021-11-22T05:54:44.992Z"
   },
   {
    "duration": 78,
    "start_time": "2021-11-22T05:54:45.815Z"
   },
   {
    "duration": 48,
    "start_time": "2021-11-22T05:54:45.896Z"
   },
   {
    "duration": 783,
    "start_time": "2021-11-22T05:54:45.946Z"
   },
   {
    "duration": 103,
    "start_time": "2021-11-22T05:54:46.731Z"
   },
   {
    "duration": 1449,
    "start_time": "2021-11-22T05:54:46.836Z"
   },
   {
    "duration": 142,
    "start_time": "2021-11-22T05:54:48.290Z"
   },
   {
    "duration": 12,
    "start_time": "2021-11-22T05:54:48.435Z"
   },
   {
    "duration": 487,
    "start_time": "2021-11-22T05:54:48.450Z"
   },
   {
    "duration": 534,
    "start_time": "2021-11-22T05:54:48.940Z"
   },
   {
    "duration": 6,
    "start_time": "2021-11-22T05:54:49.477Z"
   },
   {
    "duration": 133,
    "start_time": "2021-11-22T06:02:22.869Z"
   },
   {
    "duration": 133,
    "start_time": "2021-11-22T06:04:22.766Z"
   },
   {
    "duration": 1391,
    "start_time": "2021-11-22T06:25:08.125Z"
   },
   {
    "duration": 1338,
    "start_time": "2021-11-22T06:25:31.944Z"
   },
   {
    "duration": 1673,
    "start_time": "2021-11-22T06:26:36.836Z"
   },
   {
    "duration": 1432,
    "start_time": "2021-11-22T06:26:43.461Z"
   },
   {
    "duration": 10,
    "start_time": "2021-11-22T06:28:48.802Z"
   },
   {
    "duration": 423,
    "start_time": "2021-11-22T06:29:51.726Z"
   },
   {
    "duration": 122,
    "start_time": "2021-11-22T06:30:09.542Z"
   },
   {
    "duration": 316,
    "start_time": "2021-11-22T06:30:13.119Z"
   },
   {
    "duration": 129,
    "start_time": "2021-11-22T06:31:17.682Z"
   },
   {
    "duration": 99,
    "start_time": "2021-11-22T06:31:22.485Z"
   },
   {
    "duration": 1906,
    "start_time": "2021-11-22T06:31:33.621Z"
   },
   {
    "duration": 1549,
    "start_time": "2021-11-22T06:31:47.535Z"
   },
   {
    "duration": 1860,
    "start_time": "2021-11-22T06:31:55.265Z"
   },
   {
    "duration": 1340,
    "start_time": "2021-11-22T06:32:37.192Z"
   },
   {
    "duration": 1199,
    "start_time": "2021-11-22T06:32:43.475Z"
   },
   {
    "duration": 12,
    "start_time": "2021-11-22T06:33:04.332Z"
   },
   {
    "duration": 1940,
    "start_time": "2021-11-22T06:33:34.217Z"
   },
   {
    "duration": 430,
    "start_time": "2021-11-22T06:34:52.890Z"
   },
   {
    "duration": 375,
    "start_time": "2021-11-22T06:35:11.538Z"
   },
   {
    "duration": 370,
    "start_time": "2021-11-22T06:35:16.217Z"
   },
   {
    "duration": 336,
    "start_time": "2021-11-22T06:35:21.379Z"
   },
   {
    "duration": 1865,
    "start_time": "2021-11-22T06:36:49.736Z"
   },
   {
    "duration": 1594,
    "start_time": "2021-11-22T06:37:01.156Z"
   },
   {
    "duration": 661,
    "start_time": "2021-11-22T06:38:09.076Z"
   },
   {
    "duration": 318,
    "start_time": "2021-11-22T06:38:40.381Z"
   },
   {
    "duration": 298,
    "start_time": "2021-11-22T06:40:07.732Z"
   },
   {
    "duration": 314,
    "start_time": "2021-11-22T06:40:34.926Z"
   },
   {
    "duration": 1439,
    "start_time": "2021-11-22T06:40:45.802Z"
   },
   {
    "duration": 350,
    "start_time": "2021-11-22T06:43:36.259Z"
   },
   {
    "duration": 283,
    "start_time": "2021-11-22T06:44:04.796Z"
   },
   {
    "duration": 319,
    "start_time": "2021-11-22T06:45:56.295Z"
   },
   {
    "duration": 312,
    "start_time": "2021-11-22T06:47:06.293Z"
   },
   {
    "duration": 316,
    "start_time": "2021-11-22T06:47:15.843Z"
   },
   {
    "duration": 1743,
    "start_time": "2021-11-22T06:48:45.243Z"
   },
   {
    "duration": 899,
    "start_time": "2021-11-22T06:50:57.853Z"
   },
   {
    "duration": 1813,
    "start_time": "2021-11-22T06:51:04.355Z"
   },
   {
    "duration": 319,
    "start_time": "2021-11-22T06:51:28.624Z"
   },
   {
    "duration": 314,
    "start_time": "2021-11-22T06:52:56.075Z"
   },
   {
    "duration": 325,
    "start_time": "2021-11-22T06:53:01.248Z"
   },
   {
    "duration": 1470,
    "start_time": "2021-11-22T06:54:51.399Z"
   },
   {
    "duration": 1334,
    "start_time": "2021-11-22T06:56:11.153Z"
   },
   {
    "duration": 1069,
    "start_time": "2021-11-22T06:56:41.664Z"
   },
   {
    "duration": 1057,
    "start_time": "2021-11-22T06:56:54.122Z"
   },
   {
    "duration": 289,
    "start_time": "2021-11-22T06:57:55.098Z"
   },
   {
    "duration": 14,
    "start_time": "2021-11-22T06:58:07.154Z"
   },
   {
    "duration": 8383,
    "start_time": "2021-11-22T06:58:18.248Z"
   },
   {
    "duration": 29,
    "start_time": "2021-11-22T06:58:30.178Z"
   },
   {
    "duration": 707,
    "start_time": "2021-11-22T07:01:18.558Z"
   },
   {
    "duration": 948,
    "start_time": "2021-11-22T07:01:35.059Z"
   },
   {
    "duration": 1853,
    "start_time": "2021-11-22T07:02:12.056Z"
   },
   {
    "duration": 340,
    "start_time": "2021-11-22T07:02:31.107Z"
   },
   {
    "duration": 373,
    "start_time": "2021-11-22T07:02:57.575Z"
   },
   {
    "duration": 1176,
    "start_time": "2021-11-22T07:07:22.899Z"
   },
   {
    "duration": 852,
    "start_time": "2021-11-22T07:07:50.381Z"
   },
   {
    "duration": 847,
    "start_time": "2021-11-22T07:08:42.467Z"
   },
   {
    "duration": 827,
    "start_time": "2021-11-22T07:09:04.819Z"
   },
   {
    "duration": 1128,
    "start_time": "2021-11-22T07:10:37.796Z"
   },
   {
    "duration": 1141,
    "start_time": "2021-11-22T07:10:48.749Z"
   },
   {
    "duration": 910,
    "start_time": "2021-11-22T07:12:06.031Z"
   },
   {
    "duration": 964,
    "start_time": "2021-11-22T07:12:19.789Z"
   },
   {
    "duration": 2180,
    "start_time": "2021-11-22T07:13:23.233Z"
   },
   {
    "duration": 6,
    "start_time": "2021-11-22T07:13:54.337Z"
   },
   {
    "duration": 887,
    "start_time": "2021-11-22T07:14:09.473Z"
   },
   {
    "duration": 855,
    "start_time": "2021-11-22T07:14:25.085Z"
   },
   {
    "duration": 1599,
    "start_time": "2021-11-22T07:18:11.170Z"
   },
   {
    "duration": 1200,
    "start_time": "2021-11-22T07:20:15.849Z"
   },
   {
    "duration": 1237,
    "start_time": "2021-11-22T07:20:29.887Z"
   },
   {
    "duration": 1567,
    "start_time": "2021-11-22T07:23:15.021Z"
   },
   {
    "duration": 958,
    "start_time": "2021-11-22T07:23:20.928Z"
   },
   {
    "duration": 965,
    "start_time": "2021-11-22T07:23:54.785Z"
   },
   {
    "duration": 985,
    "start_time": "2021-11-22T07:24:08.167Z"
   },
   {
    "duration": 1285,
    "start_time": "2021-11-22T07:24:38.201Z"
   },
   {
    "duration": 1246,
    "start_time": "2021-11-22T07:25:18.204Z"
   },
   {
    "duration": 2452,
    "start_time": "2021-11-22T07:25:54.280Z"
   },
   {
    "duration": 682,
    "start_time": "2021-11-22T07:29:08.716Z"
   },
   {
    "duration": 1164,
    "start_time": "2021-11-22T07:30:05.831Z"
   },
   {
    "duration": 1168,
    "start_time": "2021-11-22T07:30:48.872Z"
   },
   {
    "duration": 1189,
    "start_time": "2021-11-22T07:31:35.027Z"
   },
   {
    "duration": 1233,
    "start_time": "2021-11-22T07:35:07.286Z"
   },
   {
    "duration": 1170,
    "start_time": "2021-11-22T07:35:43.573Z"
   },
   {
    "duration": 1185,
    "start_time": "2021-11-22T07:37:34.585Z"
   },
   {
    "duration": 1302,
    "start_time": "2021-11-22T07:39:40.948Z"
   },
   {
    "duration": 1292,
    "start_time": "2021-11-22T07:41:27.432Z"
   },
   {
    "duration": 1192,
    "start_time": "2021-11-22T07:42:37.294Z"
   },
   {
    "duration": 1176,
    "start_time": "2021-11-22T07:43:06.624Z"
   },
   {
    "duration": 1173,
    "start_time": "2021-11-22T07:43:15.221Z"
   },
   {
    "duration": 1182,
    "start_time": "2021-11-22T07:44:34.122Z"
   },
   {
    "duration": 434,
    "start_time": "2021-11-22T08:51:40.795Z"
   },
   {
    "duration": 661,
    "start_time": "2021-11-22T08:53:42.068Z"
   },
   {
    "duration": 430,
    "start_time": "2021-11-22T08:58:15.773Z"
   },
   {
    "duration": 424,
    "start_time": "2021-11-22T08:59:43.188Z"
   },
   {
    "duration": 23,
    "start_time": "2021-11-22T09:04:46.491Z"
   },
   {
    "duration": 1197,
    "start_time": "2021-11-22T09:07:05.139Z"
   },
   {
    "duration": 1198,
    "start_time": "2021-11-22T09:07:27.944Z"
   },
   {
    "duration": 1227,
    "start_time": "2021-11-22T09:07:45.290Z"
   },
   {
    "duration": 492,
    "start_time": "2021-11-22T09:08:25.065Z"
   },
   {
    "duration": 442,
    "start_time": "2021-11-22T09:08:50.298Z"
   },
   {
    "duration": 570,
    "start_time": "2021-11-22T09:09:39.993Z"
   },
   {
    "duration": 1113,
    "start_time": "2021-11-22T09:09:49.200Z"
   },
   {
    "duration": 594,
    "start_time": "2021-11-22T09:10:03.440Z"
   },
   {
    "duration": 449,
    "start_time": "2021-11-22T09:10:11.704Z"
   },
   {
    "duration": 1186,
    "start_time": "2021-11-22T09:11:35.107Z"
   },
   {
    "duration": 1139,
    "start_time": "2021-11-22T09:11:53.094Z"
   },
   {
    "duration": 1161,
    "start_time": "2021-11-22T09:12:12.966Z"
   },
   {
    "duration": 377,
    "start_time": "2021-11-22T09:30:33.627Z"
   },
   {
    "duration": 355,
    "start_time": "2021-11-22T09:31:37.239Z"
   },
   {
    "duration": 357,
    "start_time": "2021-11-22T09:32:06.447Z"
   },
   {
    "duration": 380,
    "start_time": "2021-11-22T09:33:39.077Z"
   },
   {
    "duration": 609,
    "start_time": "2021-11-22T09:34:16.382Z"
   },
   {
    "duration": 364,
    "start_time": "2021-11-22T09:34:49.438Z"
   },
   {
    "duration": 372,
    "start_time": "2021-11-22T09:34:59.031Z"
   },
   {
    "duration": 367,
    "start_time": "2021-11-22T09:35:43.671Z"
   },
   {
    "duration": 383,
    "start_time": "2021-11-22T09:37:06.999Z"
   },
   {
    "duration": 360,
    "start_time": "2021-11-22T09:37:19.358Z"
   },
   {
    "duration": 459,
    "start_time": "2021-11-22T09:37:49.574Z"
   },
   {
    "duration": 353,
    "start_time": "2021-11-22T09:37:59.517Z"
   },
   {
    "duration": 1121,
    "start_time": "2021-11-22T09:44:48.999Z"
   },
   {
    "duration": 303,
    "start_time": "2021-11-22T09:52:19.006Z"
   },
   {
    "duration": 1123,
    "start_time": "2021-11-22T09:52:53.200Z"
   },
   {
    "duration": 1279,
    "start_time": "2021-11-22T09:53:48.049Z"
   },
   {
    "duration": 1110,
    "start_time": "2021-11-22T09:53:55.816Z"
   },
   {
    "duration": 23,
    "start_time": "2021-11-22T09:57:14.099Z"
   },
   {
    "duration": 92,
    "start_time": "2021-11-22T09:57:42.409Z"
   },
   {
    "duration": 325,
    "start_time": "2021-11-22T09:57:47.901Z"
   },
   {
    "duration": 14,
    "start_time": "2021-11-22T09:57:57.392Z"
   },
   {
    "duration": 14,
    "start_time": "2021-11-22T09:58:15.493Z"
   },
   {
    "duration": 14,
    "start_time": "2021-11-22T09:58:59.221Z"
   },
   {
    "duration": 18,
    "start_time": "2021-11-22T10:00:50.996Z"
   },
   {
    "duration": 7,
    "start_time": "2021-11-22T10:02:19.259Z"
   },
   {
    "duration": 284,
    "start_time": "2021-11-22T10:04:17.530Z"
   },
   {
    "duration": 19,
    "start_time": "2021-11-22T10:04:33.316Z"
   },
   {
    "duration": 22,
    "start_time": "2021-11-22T10:04:42.945Z"
   },
   {
    "duration": 17,
    "start_time": "2021-11-22T10:09:01.740Z"
   },
   {
    "duration": 25,
    "start_time": "2021-11-22T10:13:02.594Z"
   },
   {
    "duration": 28,
    "start_time": "2021-11-22T10:13:12.883Z"
   },
   {
    "duration": 7073,
    "start_time": "2021-11-22T10:14:03.771Z"
   },
   {
    "duration": 31,
    "start_time": "2021-11-22T10:14:17.144Z"
   },
   {
    "duration": 107,
    "start_time": "2021-11-22T10:15:37.564Z"
   },
   {
    "duration": 26,
    "start_time": "2021-11-22T10:15:42.043Z"
   },
   {
    "duration": 29,
    "start_time": "2021-11-22T10:15:58.089Z"
   },
   {
    "duration": 21,
    "start_time": "2021-11-22T10:16:58.350Z"
   },
   {
    "duration": 25,
    "start_time": "2021-11-22T10:17:30.377Z"
   },
   {
    "duration": 25,
    "start_time": "2021-11-22T10:20:03.636Z"
   },
   {
    "duration": 396,
    "start_time": "2021-11-22T10:23:29.486Z"
   },
   {
    "duration": 390,
    "start_time": "2021-11-22T10:25:28.535Z"
   },
   {
    "duration": 616,
    "start_time": "2021-11-22T10:26:06.196Z"
   },
   {
    "duration": 398,
    "start_time": "2021-11-22T10:26:40.469Z"
   },
   {
    "duration": 13,
    "start_time": "2021-11-22T10:29:50.837Z"
   },
   {
    "duration": 398,
    "start_time": "2021-11-22T10:32:16.549Z"
   },
   {
    "duration": 1137,
    "start_time": "2021-11-22T10:36:29.220Z"
   },
   {
    "duration": 1083,
    "start_time": "2021-11-22T10:37:05.521Z"
   },
   {
    "duration": 1242,
    "start_time": "2021-11-22T10:37:26.319Z"
   },
   {
    "duration": 1145,
    "start_time": "2021-11-22T10:38:58.711Z"
   },
   {
    "duration": 16,
    "start_time": "2021-11-22T10:44:02.232Z"
   },
   {
    "duration": 767,
    "start_time": "2021-11-22T10:46:07.783Z"
   },
   {
    "duration": 759,
    "start_time": "2021-11-22T10:46:41.597Z"
   },
   {
    "duration": 756,
    "start_time": "2021-11-22T10:47:15.784Z"
   },
   {
    "duration": 773,
    "start_time": "2021-11-22T10:47:30.694Z"
   },
   {
    "duration": 661,
    "start_time": "2021-11-22T10:53:19.277Z"
   },
   {
    "duration": 469,
    "start_time": "2021-11-22T10:54:22.291Z"
   },
   {
    "duration": 715,
    "start_time": "2021-11-22T10:54:28.960Z"
   },
   {
    "duration": 529,
    "start_time": "2021-11-22T10:55:22.240Z"
   },
   {
    "duration": 535,
    "start_time": "2021-11-22T10:55:52.629Z"
   },
   {
    "duration": 524,
    "start_time": "2021-11-22T10:56:02.506Z"
   },
   {
    "duration": 618,
    "start_time": "2021-11-22T10:56:20.017Z"
   },
   {
    "duration": 572,
    "start_time": "2021-11-22T10:56:32.952Z"
   },
   {
    "duration": 477,
    "start_time": "2021-11-22T10:56:46.233Z"
   },
   {
    "duration": 538,
    "start_time": "2021-11-22T10:57:02.107Z"
   },
   {
    "duration": 514,
    "start_time": "2021-11-22T12:40:02.892Z"
   },
   {
    "duration": 525,
    "start_time": "2021-11-22T12:42:02.189Z"
   },
   {
    "duration": 518,
    "start_time": "2021-11-22T12:42:48.432Z"
   },
   {
    "duration": 504,
    "start_time": "2021-11-22T12:46:49.005Z"
   },
   {
    "duration": 736,
    "start_time": "2021-11-22T12:48:42.231Z"
   },
   {
    "duration": 526,
    "start_time": "2021-11-22T12:49:26.398Z"
   },
   {
    "duration": 520,
    "start_time": "2021-11-22T12:51:12.575Z"
   },
   {
    "duration": 624,
    "start_time": "2021-11-22T12:51:22.902Z"
   },
   {
    "duration": 25,
    "start_time": "2021-11-22T13:48:51.237Z"
   },
   {
    "duration": 305,
    "start_time": "2021-11-22T13:49:44.813Z"
   },
   {
    "duration": 21,
    "start_time": "2021-11-22T13:49:56.877Z"
   },
   {
    "duration": 13,
    "start_time": "2021-11-22T13:50:33.620Z"
   },
   {
    "duration": 10,
    "start_time": "2021-11-22T13:50:48.003Z"
   },
   {
    "duration": 263,
    "start_time": "2021-11-22T13:51:22.559Z"
   },
   {
    "duration": 335,
    "start_time": "2021-11-22T13:53:30.255Z"
   },
   {
    "duration": 13,
    "start_time": "2021-11-22T13:53:41.894Z"
   },
   {
    "duration": 12,
    "start_time": "2021-11-22T13:54:06.936Z"
   },
   {
    "duration": 14,
    "start_time": "2021-11-22T13:54:21.221Z"
   },
   {
    "duration": 12,
    "start_time": "2021-11-22T13:54:30.119Z"
   },
   {
    "duration": 10,
    "start_time": "2021-11-22T13:55:01.042Z"
   },
   {
    "duration": 10,
    "start_time": "2021-11-22T13:55:03.984Z"
   },
   {
    "duration": 10,
    "start_time": "2021-11-22T13:55:09.944Z"
   },
   {
    "duration": 10,
    "start_time": "2021-11-22T13:55:25.679Z"
   },
   {
    "duration": 351,
    "start_time": "2021-11-22T13:55:47.784Z"
   },
   {
    "duration": 284,
    "start_time": "2021-11-22T13:56:05.271Z"
   },
   {
    "duration": 10,
    "start_time": "2021-11-22T13:56:47.111Z"
   },
   {
    "duration": 11,
    "start_time": "2021-11-22T13:57:13.400Z"
   },
   {
    "duration": 10,
    "start_time": "2021-11-22T13:57:24.912Z"
   },
   {
    "duration": 12,
    "start_time": "2021-11-22T13:57:31.945Z"
   },
   {
    "duration": 282,
    "start_time": "2021-11-22T13:57:43.897Z"
   },
   {
    "duration": 15,
    "start_time": "2021-11-22T13:58:17.478Z"
   },
   {
    "duration": 8,
    "start_time": "2021-11-22T13:59:46.125Z"
   },
   {
    "duration": 15,
    "start_time": "2021-11-22T13:59:53.066Z"
   },
   {
    "duration": 14,
    "start_time": "2021-11-22T14:00:02.300Z"
   },
   {
    "duration": 17,
    "start_time": "2021-11-22T14:00:58.634Z"
   },
   {
    "duration": 298,
    "start_time": "2021-11-22T14:01:52.236Z"
   },
   {
    "duration": 14,
    "start_time": "2021-11-22T14:02:05.647Z"
   },
   {
    "duration": 12,
    "start_time": "2021-11-22T14:02:22.662Z"
   },
   {
    "duration": 12,
    "start_time": "2021-11-22T14:02:36.322Z"
   },
   {
    "duration": 21,
    "start_time": "2021-11-22T14:03:04.557Z"
   },
   {
    "duration": 16,
    "start_time": "2021-11-22T14:03:21.243Z"
   },
   {
    "duration": 300,
    "start_time": "2021-11-22T14:03:51.996Z"
   },
   {
    "duration": 836,
    "start_time": "2021-11-22T14:04:41.718Z"
   },
   {
    "duration": 1035,
    "start_time": "2021-11-22T14:04:57.596Z"
   },
   {
    "duration": 417,
    "start_time": "2021-11-22T14:05:10.423Z"
   },
   {
    "duration": 575,
    "start_time": "2021-11-22T14:05:33.487Z"
   },
   {
    "duration": 559,
    "start_time": "2021-11-22T14:05:43.167Z"
   },
   {
    "duration": 426,
    "start_time": "2021-11-22T14:05:52.754Z"
   },
   {
    "duration": 155,
    "start_time": "2021-11-22T14:06:20.189Z"
   },
   {
    "duration": 206,
    "start_time": "2021-11-22T14:07:39.295Z"
   },
   {
    "duration": 190,
    "start_time": "2021-11-22T14:10:11.733Z"
   },
   {
    "duration": 211,
    "start_time": "2021-11-22T14:10:22.885Z"
   },
   {
    "duration": 13,
    "start_time": "2021-11-22T14:11:21.793Z"
   },
   {
    "duration": 16,
    "start_time": "2021-11-22T14:12:16.043Z"
   },
   {
    "duration": 19,
    "start_time": "2021-11-22T14:13:08.551Z"
   },
   {
    "duration": 207,
    "start_time": "2021-11-22T14:13:41.556Z"
   },
   {
    "duration": 941,
    "start_time": "2021-11-22T14:14:21.449Z"
   },
   {
    "duration": 563,
    "start_time": "2021-11-22T14:14:31.979Z"
   },
   {
    "duration": 194,
    "start_time": "2021-11-22T14:14:37.121Z"
   },
   {
    "duration": 200,
    "start_time": "2021-11-22T14:14:52.138Z"
   },
   {
    "duration": 190,
    "start_time": "2021-11-22T14:15:27.907Z"
   },
   {
    "duration": 182,
    "start_time": "2021-11-22T14:15:34.730Z"
   },
   {
    "duration": 159,
    "start_time": "2021-11-22T14:15:41.933Z"
   },
   {
    "duration": 160,
    "start_time": "2021-11-22T14:16:27.137Z"
   },
   {
    "duration": 8,
    "start_time": "2021-11-22T14:26:34.995Z"
   },
   {
    "duration": 15,
    "start_time": "2021-11-22T14:27:04.300Z"
   },
   {
    "duration": 7,
    "start_time": "2021-11-22T14:27:18.322Z"
   },
   {
    "duration": 8,
    "start_time": "2021-11-22T14:27:26.902Z"
   },
   {
    "duration": 1662,
    "start_time": "2021-11-22T16:56:36.392Z"
   },
   {
    "duration": 35,
    "start_time": "2021-11-22T16:56:38.057Z"
   },
   {
    "duration": 53,
    "start_time": "2021-11-22T16:56:38.095Z"
   },
   {
    "duration": 576,
    "start_time": "2021-11-22T16:56:38.151Z"
   },
   {
    "duration": 26,
    "start_time": "2021-11-22T16:56:38.730Z"
   },
   {
    "duration": 26,
    "start_time": "2021-11-22T16:56:38.758Z"
   },
   {
    "duration": 41,
    "start_time": "2021-11-22T16:56:38.787Z"
   },
   {
    "duration": 2264,
    "start_time": "2021-11-22T16:56:38.832Z"
   },
   {
    "duration": 2205,
    "start_time": "2021-11-22T16:56:41.099Z"
   },
   {
    "duration": 30772,
    "start_time": "2021-11-22T16:56:43.307Z"
   },
   {
    "duration": 972,
    "start_time": "2021-11-22T16:57:14.081Z"
   },
   {
    "duration": 37067,
    "start_time": "2021-11-22T16:57:15.055Z"
   },
   {
    "duration": 33886,
    "start_time": "2021-11-22T16:57:52.125Z"
   },
   {
    "duration": 529,
    "start_time": "2021-11-22T16:58:26.013Z"
   },
   {
    "duration": 536,
    "start_time": "2021-11-22T16:58:26.545Z"
   },
   {
    "duration": 24,
    "start_time": "2021-11-22T16:58:27.084Z"
   },
   {
    "duration": 639,
    "start_time": "2021-11-22T16:58:27.130Z"
   },
   {
    "duration": 1034,
    "start_time": "2021-11-22T16:58:27.772Z"
   },
   {
    "duration": 402,
    "start_time": "2021-11-22T16:58:28.809Z"
   },
   {
    "duration": 482,
    "start_time": "2021-11-22T16:58:29.214Z"
   },
   {
    "duration": 310,
    "start_time": "2021-11-22T16:58:29.699Z"
   },
   {
    "duration": 1131,
    "start_time": "2021-11-22T16:58:30.012Z"
   },
   {
    "duration": 281,
    "start_time": "2021-11-22T16:58:31.148Z"
   },
   {
    "duration": 31,
    "start_time": "2021-11-22T16:58:31.433Z"
   },
   {
    "duration": 869,
    "start_time": "2021-11-22T16:58:31.467Z"
   },
   {
    "duration": 66,
    "start_time": "2021-11-22T16:58:32.340Z"
   },
   {
    "duration": 65,
    "start_time": "2021-11-22T16:58:32.409Z"
   },
   {
    "duration": 821,
    "start_time": "2021-11-22T16:58:32.476Z"
   },
   {
    "duration": 176,
    "start_time": "2021-11-22T16:58:33.299Z"
   },
   {
    "duration": 111,
    "start_time": "2021-11-22T16:58:33.477Z"
   },
   {
    "duration": 1020,
    "start_time": "2021-11-22T16:58:33.590Z"
   },
   {
    "duration": 802,
    "start_time": "2021-11-22T16:58:33.810Z"
   },
   {
    "duration": 802,
    "start_time": "2021-11-22T16:58:33.812Z"
   },
   {
    "duration": 1523,
    "start_time": "2021-11-22T17:06:22.680Z"
   },
   {
    "duration": 35,
    "start_time": "2021-11-22T17:06:24.206Z"
   },
   {
    "duration": 24,
    "start_time": "2021-11-22T17:06:24.244Z"
   },
   {
    "duration": 526,
    "start_time": "2021-11-22T17:06:24.271Z"
   },
   {
    "duration": 32,
    "start_time": "2021-11-22T17:06:24.799Z"
   },
   {
    "duration": 12,
    "start_time": "2021-11-22T17:06:24.833Z"
   },
   {
    "duration": 25,
    "start_time": "2021-11-22T17:06:24.847Z"
   },
   {
    "duration": 2431,
    "start_time": "2021-11-22T17:06:24.876Z"
   },
   {
    "duration": 2628,
    "start_time": "2021-11-22T17:06:27.311Z"
   },
   {
    "duration": 27444,
    "start_time": "2021-11-22T17:06:29.942Z"
   },
   {
    "duration": 989,
    "start_time": "2021-11-22T17:06:57.389Z"
   },
   {
    "duration": 34640,
    "start_time": "2021-11-22T17:06:58.381Z"
   },
   {
    "duration": 31940,
    "start_time": "2021-11-22T17:07:33.029Z"
   },
   {
    "duration": 490,
    "start_time": "2021-11-22T17:08:04.971Z"
   },
   {
    "duration": 492,
    "start_time": "2021-11-22T17:08:05.464Z"
   },
   {
    "duration": 22,
    "start_time": "2021-11-22T17:08:05.958Z"
   },
   {
    "duration": 594,
    "start_time": "2021-11-22T17:08:05.982Z"
   },
   {
    "duration": 956,
    "start_time": "2021-11-22T17:08:06.579Z"
   },
   {
    "duration": 396,
    "start_time": "2021-11-22T17:08:07.537Z"
   },
   {
    "duration": 470,
    "start_time": "2021-11-22T17:08:07.935Z"
   },
   {
    "duration": 297,
    "start_time": "2021-11-22T17:08:08.408Z"
   },
   {
    "duration": 1072,
    "start_time": "2021-11-22T17:08:08.708Z"
   },
   {
    "duration": 258,
    "start_time": "2021-11-22T17:08:09.785Z"
   },
   {
    "duration": 29,
    "start_time": "2021-11-22T17:08:10.046Z"
   },
   {
    "duration": 720,
    "start_time": "2021-11-22T17:08:10.078Z"
   },
   {
    "duration": 82,
    "start_time": "2021-11-22T17:08:10.801Z"
   },
   {
    "duration": 57,
    "start_time": "2021-11-22T17:08:10.886Z"
   },
   {
    "duration": 896,
    "start_time": "2021-11-22T17:08:10.946Z"
   },
   {
    "duration": 179,
    "start_time": "2021-11-22T17:08:11.845Z"
   },
   {
    "duration": 110,
    "start_time": "2021-11-22T17:08:12.029Z"
   },
   {
    "duration": 859,
    "start_time": "2021-11-22T17:08:12.142Z"
   },
   {
    "duration": 783,
    "start_time": "2021-11-22T17:08:12.220Z"
   },
   {
    "duration": 782,
    "start_time": "2021-11-22T17:08:12.223Z"
   },
   {
    "duration": 119,
    "start_time": "2021-11-22T17:18:08.596Z"
   },
   {
    "duration": 44,
    "start_time": "2021-11-22T17:32:00.643Z"
   },
   {
    "duration": 357,
    "start_time": "2021-11-22T17:36:38.484Z"
   },
   {
    "duration": 15,
    "start_time": "2021-11-22T17:42:52.944Z"
   },
   {
    "duration": 38,
    "start_time": "2021-11-22T17:43:54.183Z"
   },
   {
    "duration": 14,
    "start_time": "2021-11-22T17:49:39.179Z"
   },
   {
    "duration": 115,
    "start_time": "2021-11-22T17:57:41.836Z"
   },
   {
    "duration": 646,
    "start_time": "2021-11-22T18:31:07.879Z"
   },
   {
    "duration": 475,
    "start_time": "2021-11-22T18:31:12.712Z"
   },
   {
    "duration": 119,
    "start_time": "2021-11-22T18:50:08.845Z"
   },
   {
    "duration": 409,
    "start_time": "2021-11-23T07:42:14.484Z"
   },
   {
    "duration": 1595,
    "start_time": "2021-11-23T07:42:19.858Z"
   },
   {
    "duration": 32,
    "start_time": "2021-11-23T07:42:21.455Z"
   },
   {
    "duration": 24,
    "start_time": "2021-11-23T07:42:21.807Z"
   },
   {
    "duration": 502,
    "start_time": "2021-11-23T07:42:23.104Z"
   },
   {
    "duration": 21,
    "start_time": "2021-11-23T07:42:23.819Z"
   },
   {
    "duration": 11,
    "start_time": "2021-11-23T07:42:24.368Z"
   },
   {
    "duration": 23,
    "start_time": "2021-11-23T07:42:24.921Z"
   },
   {
    "duration": 2134,
    "start_time": "2021-11-23T07:42:25.592Z"
   },
   {
    "duration": 1827,
    "start_time": "2021-11-23T07:42:27.729Z"
   },
   {
    "duration": 25296,
    "start_time": "2021-11-23T07:42:29.560Z"
   },
   {
    "duration": 961,
    "start_time": "2021-11-23T07:42:54.859Z"
   },
   {
    "duration": 30743,
    "start_time": "2021-11-23T07:42:55.822Z"
   },
   {
    "duration": 32505,
    "start_time": "2021-11-23T07:43:26.567Z"
   },
   {
    "duration": 694,
    "start_time": "2021-11-23T07:43:59.074Z"
   },
   {
    "duration": 494,
    "start_time": "2021-11-23T07:43:59.774Z"
   },
   {
    "duration": 34,
    "start_time": "2021-11-23T07:44:00.272Z"
   },
   {
    "duration": 618,
    "start_time": "2021-11-23T07:44:00.309Z"
   },
   {
    "duration": 1003,
    "start_time": "2021-11-23T07:44:00.929Z"
   },
   {
    "duration": 494,
    "start_time": "2021-11-23T07:44:01.934Z"
   },
   {
    "duration": 533,
    "start_time": "2021-11-23T07:44:02.432Z"
   },
   {
    "duration": 287,
    "start_time": "2021-11-23T07:44:02.967Z"
   },
   {
    "duration": 1133,
    "start_time": "2021-11-23T07:44:03.256Z"
   },
   {
    "duration": 271,
    "start_time": "2021-11-23T07:44:04.391Z"
   },
   {
    "duration": 40,
    "start_time": "2021-11-23T07:44:04.664Z"
   },
   {
    "duration": 756,
    "start_time": "2021-11-23T07:44:04.706Z"
   },
   {
    "duration": 81,
    "start_time": "2021-11-23T07:44:05.464Z"
   },
   {
    "duration": 37,
    "start_time": "2021-11-23T07:44:05.547Z"
   },
   {
    "duration": 787,
    "start_time": "2021-11-23T07:44:05.600Z"
   },
   {
    "duration": 167,
    "start_time": "2021-11-23T07:44:06.390Z"
   },
   {
    "duration": 197,
    "start_time": "2021-11-23T07:44:06.562Z"
   },
   {
    "duration": 825,
    "start_time": "2021-11-23T07:44:06.762Z"
   },
   {
    "duration": 1710,
    "start_time": "2021-11-23T07:44:05.879Z"
   },
   {
    "duration": 1708,
    "start_time": "2021-11-23T07:44:05.882Z"
   },
   {
    "duration": 1707,
    "start_time": "2021-11-23T07:44:05.885Z"
   },
   {
    "duration": 7,
    "start_time": "2021-11-23T09:27:31.249Z"
   },
   {
    "duration": 372,
    "start_time": "2021-11-23T09:27:51.350Z"
   },
   {
    "duration": 10,
    "start_time": "2021-11-23T09:28:01.384Z"
   },
   {
    "duration": 6,
    "start_time": "2021-11-23T09:28:18.138Z"
   },
   {
    "duration": 383,
    "start_time": "2021-11-23T09:36:13.420Z"
   },
   {
    "duration": 7,
    "start_time": "2021-11-23T09:42:19.949Z"
   },
   {
    "duration": 391,
    "start_time": "2021-11-23T09:46:28.207Z"
   },
   {
    "duration": 7,
    "start_time": "2021-11-23T09:48:54.387Z"
   },
   {
    "duration": 7,
    "start_time": "2021-11-23T10:01:42.100Z"
   },
   {
    "duration": 353,
    "start_time": "2021-11-23T10:02:23.530Z"
   },
   {
    "duration": 345,
    "start_time": "2021-11-23T10:02:29.072Z"
   },
   {
    "duration": 1076,
    "start_time": "2021-11-23T13:37:37.291Z"
   },
   {
    "duration": 878,
    "start_time": "2021-11-23T13:37:59.232Z"
   },
   {
    "duration": 34,
    "start_time": "2021-11-23T13:38:00.113Z"
   },
   {
    "duration": 23,
    "start_time": "2021-11-23T13:38:00.212Z"
   },
   {
    "duration": 536,
    "start_time": "2021-11-23T13:38:00.492Z"
   },
   {
    "duration": 20,
    "start_time": "2021-11-23T13:38:01.252Z"
   },
   {
    "duration": 12,
    "start_time": "2021-11-23T13:38:01.892Z"
   },
   {
    "duration": 20,
    "start_time": "2021-11-23T13:38:02.372Z"
   },
   {
    "duration": 2236,
    "start_time": "2021-11-23T13:38:03.091Z"
   },
   {
    "duration": 1874,
    "start_time": "2021-11-23T13:38:05.329Z"
   },
   {
    "duration": 25092,
    "start_time": "2021-11-23T13:38:07.206Z"
   },
   {
    "duration": 957,
    "start_time": "2021-11-23T13:38:32.301Z"
   },
   {
    "duration": 30411,
    "start_time": "2021-11-23T13:38:33.261Z"
   },
   {
    "duration": 32260,
    "start_time": "2021-11-23T13:39:03.674Z"
   },
   {
    "duration": 504,
    "start_time": "2021-11-23T13:39:35.937Z"
   },
   {
    "duration": 506,
    "start_time": "2021-11-23T13:39:36.445Z"
   },
   {
    "duration": 32,
    "start_time": "2021-11-23T13:39:36.954Z"
   },
   {
    "duration": 607,
    "start_time": "2021-11-23T13:39:36.989Z"
   },
   {
    "duration": 979,
    "start_time": "2021-11-23T13:39:37.599Z"
   },
   {
    "duration": 390,
    "start_time": "2021-11-23T13:39:38.580Z"
   },
   {
    "duration": 470,
    "start_time": "2021-11-23T13:39:38.972Z"
   },
   {
    "duration": 285,
    "start_time": "2021-11-23T13:39:39.444Z"
   },
   {
    "duration": 1095,
    "start_time": "2021-11-23T13:39:39.732Z"
   },
   {
    "duration": 259,
    "start_time": "2021-11-23T13:39:40.830Z"
   },
   {
    "duration": 33,
    "start_time": "2021-11-23T13:39:41.092Z"
   },
   {
    "duration": 726,
    "start_time": "2021-11-23T13:39:41.128Z"
   },
   {
    "duration": 76,
    "start_time": "2021-11-23T13:39:41.856Z"
   },
   {
    "duration": 60,
    "start_time": "2021-11-23T13:39:41.935Z"
   },
   {
    "duration": 871,
    "start_time": "2021-11-23T13:39:41.998Z"
   },
   {
    "duration": 170,
    "start_time": "2021-11-23T13:39:42.872Z"
   },
   {
    "duration": 104,
    "start_time": "2021-11-23T13:39:43.046Z"
   },
   {
    "duration": 739,
    "start_time": "2021-11-23T13:39:43.152Z"
   },
   {
    "duration": 644,
    "start_time": "2021-11-23T13:39:43.250Z"
   },
   {
    "duration": 643,
    "start_time": "2021-11-23T13:39:43.252Z"
   },
   {
    "duration": 522,
    "start_time": "2021-11-23T13:44:15.465Z"
   },
   {
    "duration": 530,
    "start_time": "2021-11-23T13:44:56.511Z"
   },
   {
    "duration": 504,
    "start_time": "2021-11-23T13:45:22.322Z"
   },
   {
    "duration": 514,
    "start_time": "2021-11-23T13:45:33.862Z"
   },
   {
    "duration": 504,
    "start_time": "2021-11-23T13:45:54.244Z"
   },
   {
    "duration": 529,
    "start_time": "2021-11-23T13:46:24.904Z"
   },
   {
    "duration": 710,
    "start_time": "2021-11-23T13:46:40.543Z"
   },
   {
    "duration": 65,
    "start_time": "2021-11-23T13:46:41.642Z"
   },
   {
    "duration": 138,
    "start_time": "2021-11-23T13:46:42.042Z"
   },
   {
    "duration": 759,
    "start_time": "2021-11-23T13:46:42.442Z"
   },
   {
    "duration": 156,
    "start_time": "2021-11-23T13:46:43.264Z"
   },
   {
    "duration": 104,
    "start_time": "2021-11-23T13:46:43.663Z"
   },
   {
    "duration": 659,
    "start_time": "2021-11-23T13:46:44.522Z"
   },
   {
    "duration": 524,
    "start_time": "2021-11-23T13:46:45.882Z"
   },
   {
    "duration": 489,
    "start_time": "2021-11-23T13:46:46.741Z"
   },
   {
    "duration": 552,
    "start_time": "2021-11-23T13:48:04.715Z"
   },
   {
    "duration": 501,
    "start_time": "2021-11-23T13:49:09.195Z"
   },
   {
    "duration": 648,
    "start_time": "2021-11-23T13:50:11.855Z"
   },
   {
    "duration": 506,
    "start_time": "2021-11-23T13:51:43.332Z"
   },
   {
    "duration": 524,
    "start_time": "2021-11-23T13:52:15.811Z"
   },
   {
    "duration": 510,
    "start_time": "2021-11-23T13:53:56.134Z"
   },
   {
    "duration": 526,
    "start_time": "2021-11-23T13:54:58.089Z"
   },
   {
    "duration": 521,
    "start_time": "2021-11-23T13:55:12.790Z"
   },
   {
    "duration": 702,
    "start_time": "2021-11-23T13:56:06.510Z"
   },
   {
    "duration": 23,
    "start_time": "2021-11-23T13:56:41.769Z"
   },
   {
    "duration": 42,
    "start_time": "2021-11-23T13:56:48.669Z"
   },
   {
    "duration": 80,
    "start_time": "2021-11-23T13:58:27.780Z"
   },
   {
    "duration": 7,
    "start_time": "2021-11-23T14:03:33.122Z"
   },
   {
    "duration": 64,
    "start_time": "2021-11-23T14:03:40.621Z"
   },
   {
    "duration": 11,
    "start_time": "2021-11-23T14:04:58.113Z"
   },
   {
    "duration": 41,
    "start_time": "2021-11-23T14:04:59.993Z"
   },
   {
    "duration": 998,
    "start_time": "2021-11-23T14:21:44.019Z"
   },
   {
    "duration": 997,
    "start_time": "2021-11-23T14:24:33.092Z"
   },
   {
    "duration": 931,
    "start_time": "2021-11-23T14:24:51.519Z"
   },
   {
    "duration": 350,
    "start_time": "2021-11-23T14:26:54.772Z"
   },
   {
    "duration": 311,
    "start_time": "2021-11-23T14:28:35.831Z"
   },
   {
    "duration": 27,
    "start_time": "2021-11-23T14:28:59.030Z"
   },
   {
    "duration": 120,
    "start_time": "2021-11-23T14:29:37.130Z"
   },
   {
    "duration": 36,
    "start_time": "2021-11-23T14:29:37.971Z"
   },
   {
    "duration": 24,
    "start_time": "2021-11-23T14:29:38.589Z"
   },
   {
    "duration": 538,
    "start_time": "2021-11-23T14:29:38.990Z"
   },
   {
    "duration": 21,
    "start_time": "2021-11-23T14:29:40.090Z"
   },
   {
    "duration": 12,
    "start_time": "2021-11-23T14:29:41.010Z"
   },
   {
    "duration": 31,
    "start_time": "2021-11-23T14:29:43.191Z"
   },
   {
    "duration": 2110,
    "start_time": "2021-11-23T14:29:45.911Z"
   },
   {
    "duration": 2224,
    "start_time": "2021-11-23T14:29:48.024Z"
   },
   {
    "duration": 38112,
    "start_time": "2021-11-23T14:29:50.251Z"
   },
   {
    "duration": 3292,
    "start_time": "2021-11-23T14:30:28.369Z"
   },
   {
    "duration": 41646,
    "start_time": "2021-11-23T14:30:31.667Z"
   },
   {
    "duration": 43741,
    "start_time": "2021-11-23T14:31:13.316Z"
   },
   {
    "duration": 546,
    "start_time": "2021-11-23T14:31:57.068Z"
   },
   {
    "duration": 570,
    "start_time": "2021-11-23T14:31:57.617Z"
   },
   {
    "duration": 21,
    "start_time": "2021-11-23T14:31:58.190Z"
   },
   {
    "duration": 744,
    "start_time": "2021-11-23T14:31:58.213Z"
   },
   {
    "duration": 999,
    "start_time": "2021-11-23T14:31:58.968Z"
   },
   {
    "duration": 14,
    "start_time": "2021-11-23T14:31:59.970Z"
   },
   {
    "duration": 19,
    "start_time": "2021-11-23T14:33:34.814Z"
   },
   {
    "duration": 419,
    "start_time": "2021-11-23T14:34:30.130Z"
   },
   {
    "duration": 959,
    "start_time": "2021-11-23T14:34:51.989Z"
   },
   {
    "duration": 1410,
    "start_time": "2021-11-23T14:36:37.249Z"
   },
   {
    "duration": 1292,
    "start_time": "2021-11-23T14:38:00.349Z"
   },
   {
    "duration": 773,
    "start_time": "2021-11-23T14:38:30.694Z"
   },
   {
    "duration": 1461,
    "start_time": "2021-11-23T14:38:43.692Z"
   },
   {
    "duration": 954,
    "start_time": "2021-11-23T14:39:22.148Z"
   },
   {
    "duration": 968,
    "start_time": "2021-11-23T14:39:36.049Z"
   },
   {
    "duration": 951,
    "start_time": "2021-11-23T14:39:45.549Z"
   },
   {
    "duration": 1063,
    "start_time": "2021-11-23T14:39:51.029Z"
   },
   {
    "duration": 953,
    "start_time": "2021-11-23T14:40:07.576Z"
   },
   {
    "duration": 978,
    "start_time": "2021-11-23T14:40:14.929Z"
   },
   {
    "duration": 965,
    "start_time": "2021-11-23T14:40:22.129Z"
   },
   {
    "duration": 910,
    "start_time": "2021-11-23T14:40:46.369Z"
   },
   {
    "duration": 897,
    "start_time": "2021-11-23T14:41:00.409Z"
   },
   {
    "duration": 1044,
    "start_time": "2021-11-23T14:42:10.755Z"
   },
   {
    "duration": 936,
    "start_time": "2021-11-23T14:42:17.855Z"
   },
   {
    "duration": 941,
    "start_time": "2021-11-23T14:42:28.350Z"
   },
   {
    "duration": 1030,
    "start_time": "2021-11-23T14:42:33.747Z"
   },
   {
    "duration": 882,
    "start_time": "2021-11-23T14:43:26.317Z"
   },
   {
    "duration": 1038,
    "start_time": "2021-11-23T14:44:00.084Z"
   },
   {
    "duration": 18,
    "start_time": "2021-11-23T14:45:49.238Z"
   },
   {
    "duration": 11,
    "start_time": "2021-11-23T14:46:04.275Z"
   },
   {
    "duration": 11,
    "start_time": "2021-11-23T14:46:19.336Z"
   },
   {
    "duration": 8741,
    "start_time": "2021-11-23T14:46:52.775Z"
   },
   {
    "duration": 19,
    "start_time": "2021-11-23T14:47:08.214Z"
   },
   {
    "duration": 636,
    "start_time": "2021-11-23T14:47:42.349Z"
   },
   {
    "duration": 19,
    "start_time": "2021-11-23T14:47:55.244Z"
   },
   {
    "duration": 8034,
    "start_time": "2021-11-23T14:48:06.356Z"
   },
   {
    "duration": 13,
    "start_time": "2021-11-23T14:48:29.903Z"
   },
   {
    "duration": 16,
    "start_time": "2021-11-23T14:48:37.575Z"
   },
   {
    "duration": 11,
    "start_time": "2021-11-23T14:48:49.896Z"
   },
   {
    "duration": 12,
    "start_time": "2021-11-23T14:49:21.760Z"
   },
   {
    "duration": 12,
    "start_time": "2021-11-23T14:50:22.272Z"
   },
   {
    "duration": 6,
    "start_time": "2021-11-23T14:50:39.940Z"
   },
   {
    "duration": 6,
    "start_time": "2021-11-23T14:50:46.412Z"
   },
   {
    "duration": 18,
    "start_time": "2021-11-23T15:00:59.069Z"
   },
   {
    "duration": 756,
    "start_time": "2021-11-23T15:04:38.062Z"
   },
   {
    "duration": 921,
    "start_time": "2021-11-23T15:05:58.552Z"
   },
   {
    "duration": 764,
    "start_time": "2021-11-23T15:06:09.587Z"
   },
   {
    "duration": 772,
    "start_time": "2021-11-23T15:06:19.874Z"
   },
   {
    "duration": 721,
    "start_time": "2021-11-23T15:08:15.036Z"
   },
   {
    "duration": 821,
    "start_time": "2021-11-23T15:08:25.973Z"
   },
   {
    "duration": 530,
    "start_time": "2021-11-23T15:08:31.837Z"
   },
   {
    "duration": 770,
    "start_time": "2021-11-23T15:12:37.191Z"
   },
   {
    "duration": 736,
    "start_time": "2021-11-23T15:12:42.397Z"
   },
   {
    "duration": 863,
    "start_time": "2021-11-23T15:13:34.973Z"
   },
   {
    "duration": 819,
    "start_time": "2021-11-23T15:13:42.148Z"
   },
   {
    "duration": 769,
    "start_time": "2021-11-23T15:13:44.461Z"
   },
   {
    "duration": 723,
    "start_time": "2021-11-23T15:13:55.248Z"
   },
   {
    "duration": 755,
    "start_time": "2021-11-23T15:14:10.557Z"
   },
   {
    "duration": 756,
    "start_time": "2021-11-23T15:14:22.932Z"
   },
   {
    "duration": 755,
    "start_time": "2021-11-23T15:14:27.171Z"
   },
   {
    "duration": 761,
    "start_time": "2021-11-23T15:14:36.358Z"
   },
   {
    "duration": 130,
    "start_time": "2021-11-23T15:14:51.927Z"
   },
   {
    "duration": 878,
    "start_time": "2021-11-23T15:14:55.741Z"
   },
   {
    "duration": 94,
    "start_time": "2021-11-23T15:15:30.258Z"
   },
   {
    "duration": 846,
    "start_time": "2021-11-23T15:15:32.924Z"
   },
   {
    "duration": 777,
    "start_time": "2021-11-23T15:15:38.160Z"
   },
   {
    "duration": 782,
    "start_time": "2021-11-23T15:15:55.703Z"
   },
   {
    "duration": 938,
    "start_time": "2021-11-23T15:17:25.877Z"
   },
   {
    "duration": 778,
    "start_time": "2021-11-23T15:17:38.143Z"
   },
   {
    "duration": 889,
    "start_time": "2021-11-23T15:18:09.434Z"
   },
   {
    "duration": 511,
    "start_time": "2021-11-23T15:18:31.271Z"
   },
   {
    "duration": 1388,
    "start_time": "2021-11-23T15:19:06.688Z"
   },
   {
    "duration": 6,
    "start_time": "2021-11-23T15:20:15.786Z"
   },
   {
    "duration": 160,
    "start_time": "2021-11-23T15:21:39.405Z"
   },
   {
    "duration": 5,
    "start_time": "2021-11-23T15:21:57.847Z"
   },
   {
    "duration": 5,
    "start_time": "2021-11-23T15:22:08.248Z"
   },
   {
    "duration": 5,
    "start_time": "2021-11-23T15:22:58.119Z"
   },
   {
    "duration": 5,
    "start_time": "2021-11-23T15:23:05.512Z"
   },
   {
    "duration": 4,
    "start_time": "2021-11-23T15:23:08.999Z"
   },
   {
    "duration": 6,
    "start_time": "2021-11-23T15:23:21.560Z"
   },
   {
    "duration": 1502,
    "start_time": "2021-11-23T15:23:42.467Z"
   },
   {
    "duration": 1252,
    "start_time": "2021-11-23T15:24:10.958Z"
   },
   {
    "duration": 12,
    "start_time": "2021-11-23T15:24:38.875Z"
   },
   {
    "duration": 13,
    "start_time": "2021-11-23T15:24:53.753Z"
   },
   {
    "duration": 1542,
    "start_time": "2021-11-23T15:25:16.257Z"
   },
   {
    "duration": 1197,
    "start_time": "2021-11-23T15:28:56.870Z"
   },
   {
    "duration": 235,
    "start_time": "2021-11-23T15:37:59.248Z"
   },
   {
    "duration": 8,
    "start_time": "2021-11-23T15:38:34.309Z"
   },
   {
    "duration": 8,
    "start_time": "2021-11-23T15:38:53.665Z"
   },
   {
    "duration": 193,
    "start_time": "2021-11-23T15:40:21.280Z"
   },
   {
    "duration": 8,
    "start_time": "2021-11-23T15:40:23.421Z"
   },
   {
    "duration": 189,
    "start_time": "2021-11-23T15:41:29.344Z"
   },
   {
    "duration": 190,
    "start_time": "2021-11-23T15:42:09.294Z"
   },
   {
    "duration": 186,
    "start_time": "2021-11-23T15:42:13.340Z"
   },
   {
    "duration": 10,
    "start_time": "2021-11-23T15:47:31.257Z"
   },
   {
    "duration": 9,
    "start_time": "2021-11-23T15:48:00.807Z"
   },
   {
    "duration": 9,
    "start_time": "2021-11-23T15:48:11.798Z"
   },
   {
    "duration": 8,
    "start_time": "2021-11-23T15:49:03.998Z"
   },
   {
    "duration": 9,
    "start_time": "2021-11-23T15:49:20.232Z"
   },
   {
    "duration": 11,
    "start_time": "2021-11-23T15:50:27.330Z"
   },
   {
    "duration": 10,
    "start_time": "2021-11-23T15:50:33.623Z"
   },
   {
    "duration": 340,
    "start_time": "2021-11-23T15:52:20.440Z"
   },
   {
    "duration": 11,
    "start_time": "2021-11-23T15:52:39.904Z"
   },
   {
    "duration": 11,
    "start_time": "2021-11-23T15:52:48.874Z"
   },
   {
    "duration": 9,
    "start_time": "2021-11-23T15:53:18.296Z"
   },
   {
    "duration": 7,
    "start_time": "2021-11-23T16:00:53.015Z"
   },
   {
    "duration": 339,
    "start_time": "2021-11-23T16:01:46.067Z"
   },
   {
    "duration": 306,
    "start_time": "2021-11-23T16:02:10.301Z"
   },
   {
    "duration": 103,
    "start_time": "2021-11-23T16:04:04.064Z"
   },
   {
    "duration": 58,
    "start_time": "2021-11-23T16:04:08.841Z"
   },
   {
    "duration": 315,
    "start_time": "2021-11-23T16:04:49.694Z"
   },
   {
    "duration": 53,
    "start_time": "2021-11-23T16:05:02.085Z"
   },
   {
    "duration": 55,
    "start_time": "2021-11-23T16:06:22.377Z"
   },
   {
    "duration": 36,
    "start_time": "2021-11-23T16:06:51.617Z"
   },
   {
    "duration": 63,
    "start_time": "2021-11-23T16:07:03.818Z"
   },
   {
    "duration": 8325,
    "start_time": "2021-11-23T16:08:04.841Z"
   },
   {
    "duration": 57,
    "start_time": "2021-11-23T16:08:22.772Z"
   },
   {
    "duration": 27,
    "start_time": "2021-11-23T16:09:25.962Z"
   },
   {
    "duration": 23,
    "start_time": "2021-11-23T16:09:36.363Z"
   },
   {
    "duration": 19,
    "start_time": "2021-11-23T16:09:51.624Z"
   },
   {
    "duration": 59,
    "start_time": "2021-11-23T16:14:15.156Z"
   },
   {
    "duration": 99,
    "start_time": "2021-11-23T16:14:25.245Z"
   },
   {
    "duration": 48,
    "start_time": "2021-11-23T16:14:32.654Z"
   },
   {
    "duration": 11,
    "start_time": "2021-11-23T16:14:42.504Z"
   },
   {
    "duration": 293,
    "start_time": "2021-11-23T16:14:53.971Z"
   },
   {
    "duration": 297,
    "start_time": "2021-11-23T16:14:59.403Z"
   },
   {
    "duration": 7,
    "start_time": "2021-11-23T16:15:08.605Z"
   },
   {
    "duration": 45,
    "start_time": "2021-11-23T16:15:14.662Z"
   },
   {
    "duration": 30,
    "start_time": "2021-11-23T16:15:20.877Z"
   },
   {
    "duration": 40,
    "start_time": "2021-11-23T16:15:37.499Z"
   },
   {
    "duration": 8,
    "start_time": "2021-11-23T16:15:46.103Z"
   },
   {
    "duration": 49,
    "start_time": "2021-11-23T16:16:02.851Z"
   },
   {
    "duration": 40,
    "start_time": "2021-11-23T16:16:13.285Z"
   },
   {
    "duration": 40,
    "start_time": "2021-11-23T16:16:21.796Z"
   },
   {
    "duration": 42,
    "start_time": "2021-11-23T16:16:35.684Z"
   },
   {
    "duration": 315,
    "start_time": "2021-11-23T16:16:47.637Z"
   },
   {
    "duration": 7,
    "start_time": "2021-11-23T16:16:54.651Z"
   },
   {
    "duration": 115,
    "start_time": "2021-11-23T16:17:25.478Z"
   },
   {
    "duration": 6,
    "start_time": "2021-11-23T16:17:35.436Z"
   },
   {
    "duration": 31,
    "start_time": "2021-11-23T16:17:43.084Z"
   },
   {
    "duration": 16,
    "start_time": "2021-11-23T16:17:58.125Z"
   },
   {
    "duration": 9,
    "start_time": "2021-11-23T16:18:46.230Z"
   },
   {
    "duration": 409,
    "start_time": "2021-11-23T16:21:25.868Z"
   },
   {
    "duration": 15,
    "start_time": "2021-11-23T16:23:03.344Z"
   },
   {
    "duration": 56,
    "start_time": "2021-11-23T16:23:07.088Z"
   },
   {
    "duration": 55,
    "start_time": "2021-11-23T16:23:22.279Z"
   },
   {
    "duration": 56,
    "start_time": "2021-11-23T16:23:37.167Z"
   },
   {
    "duration": 62,
    "start_time": "2021-11-23T16:24:21.950Z"
   },
   {
    "duration": 56,
    "start_time": "2021-11-23T16:25:08.390Z"
   },
   {
    "duration": 369,
    "start_time": "2021-11-23T16:26:01.598Z"
   },
   {
    "duration": 51,
    "start_time": "2021-11-23T16:26:22.834Z"
   },
   {
    "duration": 44,
    "start_time": "2021-11-23T16:26:42.416Z"
   },
   {
    "duration": 44,
    "start_time": "2021-11-23T16:27:41.905Z"
   },
   {
    "duration": 61,
    "start_time": "2021-11-23T16:28:04.959Z"
   },
   {
    "duration": 56,
    "start_time": "2021-11-23T16:28:24.787Z"
   },
   {
    "duration": 328,
    "start_time": "2021-11-23T16:29:39.795Z"
   },
   {
    "duration": 378,
    "start_time": "2021-11-23T16:30:50.785Z"
   },
   {
    "duration": 596,
    "start_time": "2021-11-23T16:33:07.781Z"
   },
   {
    "duration": 883,
    "start_time": "2021-11-23T16:34:38.598Z"
   },
   {
    "duration": 10,
    "start_time": "2021-11-23T16:36:54.094Z"
   },
   {
    "duration": 17,
    "start_time": "2021-11-23T16:37:20.830Z"
   },
   {
    "duration": 100,
    "start_time": "2021-11-23T16:37:53.212Z"
   },
   {
    "duration": 18,
    "start_time": "2021-11-23T16:38:01.119Z"
   },
   {
    "duration": 19,
    "start_time": "2021-11-23T16:38:09.639Z"
   },
   {
    "duration": 21,
    "start_time": "2021-11-23T16:38:34.324Z"
   },
   {
    "duration": 14,
    "start_time": "2021-11-23T16:38:52.281Z"
   },
   {
    "duration": 13,
    "start_time": "2021-11-23T16:39:19.237Z"
   },
   {
    "duration": 82,
    "start_time": "2021-11-23T16:42:55.030Z"
   },
   {
    "duration": 21,
    "start_time": "2021-11-23T16:43:16.615Z"
   },
   {
    "duration": 389,
    "start_time": "2021-11-23T16:44:03.111Z"
   },
   {
    "duration": 23,
    "start_time": "2021-11-23T16:44:17.903Z"
   },
   {
    "duration": 5,
    "start_time": "2021-11-23T16:44:30.543Z"
   },
   {
    "duration": 18,
    "start_time": "2021-11-23T16:47:36.200Z"
   },
   {
    "duration": 30,
    "start_time": "2021-11-23T16:47:43.573Z"
   },
   {
    "duration": 1067,
    "start_time": "2021-11-23T16:48:02.441Z"
   },
   {
    "duration": 25,
    "start_time": "2021-11-23T16:49:35.951Z"
   },
   {
    "duration": 22,
    "start_time": "2021-11-23T16:52:24.479Z"
   },
   {
    "duration": 885,
    "start_time": "2021-11-23T16:52:29.136Z"
   },
   {
    "duration": 757,
    "start_time": "2021-11-23T16:52:42.938Z"
   },
   {
    "duration": 819,
    "start_time": "2021-11-23T16:53:03.137Z"
   },
   {
    "duration": 21,
    "start_time": "2021-11-23T16:53:39.007Z"
   },
   {
    "duration": 969,
    "start_time": "2021-11-23T16:53:42.727Z"
   },
   {
    "duration": 26,
    "start_time": "2021-11-23T16:53:48.671Z"
   },
   {
    "duration": 824,
    "start_time": "2021-11-23T16:53:52.074Z"
   },
   {
    "duration": 993,
    "start_time": "2021-11-23T16:54:11.439Z"
   },
   {
    "duration": 713,
    "start_time": "2021-11-23T16:56:39.020Z"
   },
   {
    "duration": 756,
    "start_time": "2021-11-23T16:57:41.284Z"
   },
   {
    "duration": 698,
    "start_time": "2021-11-23T16:57:53.618Z"
   },
   {
    "duration": 686,
    "start_time": "2021-11-23T16:59:07.661Z"
   },
   {
    "duration": 48,
    "start_time": "2021-11-23T17:00:29.273Z"
   },
   {
    "duration": 15,
    "start_time": "2021-11-23T17:00:53.005Z"
   },
   {
    "duration": 10,
    "start_time": "2021-11-23T17:02:40.841Z"
   },
   {
    "duration": 465,
    "start_time": "2021-11-23T17:02:52.911Z"
   },
   {
    "duration": 368,
    "start_time": "2021-11-23T17:03:18.550Z"
   },
   {
    "duration": 9,
    "start_time": "2021-11-23T17:03:24.469Z"
   },
   {
    "duration": 811,
    "start_time": "2021-11-23T17:03:43.248Z"
   },
   {
    "duration": 941,
    "start_time": "2021-11-23T17:04:36.720Z"
   },
   {
    "duration": 714,
    "start_time": "2021-11-23T17:10:08.602Z"
   },
   {
    "duration": 714,
    "start_time": "2021-11-23T17:10:26.972Z"
   },
   {
    "duration": 743,
    "start_time": "2021-11-23T17:10:32.877Z"
   },
   {
    "duration": 26,
    "start_time": "2021-11-23T17:13:12.189Z"
   },
   {
    "duration": 30,
    "start_time": "2021-11-23T17:15:11.990Z"
   },
   {
    "duration": 13,
    "start_time": "2021-11-23T17:16:36.566Z"
   },
   {
    "duration": 12,
    "start_time": "2021-11-23T17:21:54.063Z"
   },
   {
    "duration": 21,
    "start_time": "2021-11-23T17:22:06.186Z"
   },
   {
    "duration": 16,
    "start_time": "2021-11-23T17:23:57.184Z"
   },
   {
    "duration": 6,
    "start_time": "2021-11-23T17:26:00.527Z"
   },
   {
    "duration": 22,
    "start_time": "2021-11-23T17:27:50.783Z"
   },
   {
    "duration": 27,
    "start_time": "2021-11-23T17:29:04.560Z"
   },
   {
    "duration": 23,
    "start_time": "2021-11-23T17:29:15.584Z"
   },
   {
    "duration": 29,
    "start_time": "2021-11-23T17:31:54.120Z"
   },
   {
    "duration": 10,
    "start_time": "2021-11-23T17:39:06.980Z"
   },
   {
    "duration": 14,
    "start_time": "2021-11-23T17:39:32.800Z"
   },
   {
    "duration": 14,
    "start_time": "2021-11-23T17:40:22.647Z"
   },
   {
    "duration": 8,
    "start_time": "2021-11-23T17:41:26.254Z"
   },
   {
    "duration": 16,
    "start_time": "2021-11-23T17:42:26.081Z"
   },
   {
    "duration": 8,
    "start_time": "2021-11-23T17:42:37.489Z"
   },
   {
    "duration": 919,
    "start_time": "2021-11-23T17:43:13.220Z"
   },
   {
    "duration": 11,
    "start_time": "2021-11-23T17:44:50.312Z"
   },
   {
    "duration": 12,
    "start_time": "2021-11-23T17:45:53.833Z"
   },
   {
    "duration": 9,
    "start_time": "2021-11-23T17:46:30.703Z"
   },
   {
    "duration": 1617,
    "start_time": "2021-11-24T06:46:52.868Z"
   },
   {
    "duration": 31,
    "start_time": "2021-11-24T06:46:54.488Z"
   },
   {
    "duration": 24,
    "start_time": "2021-11-24T06:46:54.522Z"
   },
   {
    "duration": 526,
    "start_time": "2021-11-24T06:46:54.567Z"
   },
   {
    "duration": 21,
    "start_time": "2021-11-24T06:46:55.096Z"
   },
   {
    "duration": 12,
    "start_time": "2021-11-24T06:46:55.119Z"
   },
   {
    "duration": 66,
    "start_time": "2021-11-24T06:46:55.133Z"
   },
   {
    "duration": 2004,
    "start_time": "2021-11-24T06:46:55.204Z"
   },
   {
    "duration": 2077,
    "start_time": "2021-11-24T06:46:57.211Z"
   },
   {
    "duration": 34916,
    "start_time": "2021-11-24T06:46:59.290Z"
   },
   {
    "duration": 3208,
    "start_time": "2021-11-24T06:47:34.208Z"
   },
   {
    "duration": 36949,
    "start_time": "2021-11-24T06:47:37.419Z"
   },
   {
    "duration": 39913,
    "start_time": "2021-11-24T06:48:14.371Z"
   },
   {
    "duration": 518,
    "start_time": "2021-11-24T06:48:54.287Z"
   },
   {
    "duration": 520,
    "start_time": "2021-11-24T06:48:54.808Z"
   },
   {
    "duration": 36,
    "start_time": "2021-11-24T06:48:55.331Z"
   },
   {
    "duration": 718,
    "start_time": "2021-11-24T06:48:55.370Z"
   },
   {
    "duration": 471,
    "start_time": "2021-11-24T06:48:56.090Z"
   },
   {
    "duration": 875,
    "start_time": "2021-11-24T06:48:55.689Z"
   },
   {
    "duration": 874,
    "start_time": "2021-11-24T06:48:55.692Z"
   },
   {
    "duration": 872,
    "start_time": "2021-11-24T06:48:55.695Z"
   },
   {
    "duration": 869,
    "start_time": "2021-11-24T06:48:55.699Z"
   },
   {
    "duration": 866,
    "start_time": "2021-11-24T06:48:55.704Z"
   },
   {
    "duration": 863,
    "start_time": "2021-11-24T06:48:55.708Z"
   },
   {
    "duration": 862,
    "start_time": "2021-11-24T06:48:55.711Z"
   },
   {
    "duration": 859,
    "start_time": "2021-11-24T06:48:55.715Z"
   },
   {
    "duration": 856,
    "start_time": "2021-11-24T06:48:55.719Z"
   },
   {
    "duration": 749,
    "start_time": "2021-11-24T06:48:55.828Z"
   },
   {
    "duration": 738,
    "start_time": "2021-11-24T06:48:55.840Z"
   },
   {
    "duration": 737,
    "start_time": "2021-11-24T06:48:55.843Z"
   },
   {
    "duration": 734,
    "start_time": "2021-11-24T06:48:55.847Z"
   },
   {
    "duration": 732,
    "start_time": "2021-11-24T06:48:55.851Z"
   },
   {
    "duration": 729,
    "start_time": "2021-11-24T06:48:55.855Z"
   },
   {
    "duration": 727,
    "start_time": "2021-11-24T06:48:55.858Z"
   },
   {
    "duration": 324,
    "start_time": "2021-11-24T06:50:51.390Z"
   },
   {
    "duration": 124,
    "start_time": "2021-11-24T06:51:01.161Z"
   },
   {
    "duration": 31,
    "start_time": "2021-11-24T06:51:01.469Z"
   },
   {
    "duration": 24,
    "start_time": "2021-11-24T06:51:01.909Z"
   },
   {
    "duration": 500,
    "start_time": "2021-11-24T06:51:02.209Z"
   },
   {
    "duration": 20,
    "start_time": "2021-11-24T06:51:03.009Z"
   },
   {
    "duration": 12,
    "start_time": "2021-11-24T06:51:03.667Z"
   },
   {
    "duration": 31,
    "start_time": "2021-11-24T06:51:04.130Z"
   },
   {
    "duration": 2065,
    "start_time": "2021-11-24T06:51:04.829Z"
   },
   {
    "duration": 2055,
    "start_time": "2021-11-24T06:51:06.897Z"
   },
   {
    "duration": 36100,
    "start_time": "2021-11-24T06:51:08.955Z"
   },
   {
    "duration": 3212,
    "start_time": "2021-11-24T06:51:45.058Z"
   },
   {
    "duration": 38497,
    "start_time": "2021-11-24T06:51:48.272Z"
   },
   {
    "duration": 39736,
    "start_time": "2021-11-24T06:52:26.772Z"
   },
   {
    "duration": 515,
    "start_time": "2021-11-24T06:53:06.510Z"
   },
   {
    "duration": 530,
    "start_time": "2021-11-24T06:53:07.029Z"
   },
   {
    "duration": 21,
    "start_time": "2021-11-24T06:53:07.567Z"
   },
   {
    "duration": 610,
    "start_time": "2021-11-24T06:53:07.590Z"
   },
   {
    "duration": 332,
    "start_time": "2021-11-24T06:53:08.203Z"
   },
   {
    "duration": 896,
    "start_time": "2021-11-24T06:53:07.642Z"
   },
   {
    "duration": 892,
    "start_time": "2021-11-24T06:53:07.648Z"
   },
   {
    "duration": 890,
    "start_time": "2021-11-24T06:53:07.651Z"
   },
   {
    "duration": 889,
    "start_time": "2021-11-24T06:53:07.654Z"
   },
   {
    "duration": 887,
    "start_time": "2021-11-24T06:53:07.657Z"
   },
   {
    "duration": 885,
    "start_time": "2021-11-24T06:53:07.661Z"
   },
   {
    "duration": 882,
    "start_time": "2021-11-24T06:53:07.665Z"
   },
   {
    "duration": 882,
    "start_time": "2021-11-24T06:53:07.667Z"
   },
   {
    "duration": 880,
    "start_time": "2021-11-24T06:53:07.670Z"
   },
   {
    "duration": 879,
    "start_time": "2021-11-24T06:53:07.673Z"
   },
   {
    "duration": 876,
    "start_time": "2021-11-24T06:53:07.677Z"
   },
   {
    "duration": 876,
    "start_time": "2021-11-24T06:53:07.679Z"
   },
   {
    "duration": 770,
    "start_time": "2021-11-24T06:53:07.786Z"
   },
   {
    "duration": 769,
    "start_time": "2021-11-24T06:53:07.789Z"
   },
   {
    "duration": 767,
    "start_time": "2021-11-24T06:53:07.792Z"
   },
   {
    "duration": 765,
    "start_time": "2021-11-24T06:53:07.795Z"
   },
   {
    "duration": 1597,
    "start_time": "2021-11-24T06:54:50.673Z"
   },
   {
    "duration": 400,
    "start_time": "2021-11-24T06:54:56.769Z"
   },
   {
    "duration": 683,
    "start_time": "2021-11-24T06:54:58.750Z"
   },
   {
    "duration": 1165,
    "start_time": "2021-11-24T06:54:59.757Z"
   },
   {
    "duration": 204,
    "start_time": "2021-11-24T06:55:00.925Z"
   },
   {
    "duration": 672,
    "start_time": "2021-11-24T06:55:01.357Z"
   },
   {
    "duration": 38,
    "start_time": "2021-11-24T06:55:02.032Z"
   },
   {
    "duration": 9,
    "start_time": "2021-11-24T06:55:02.487Z"
   },
   {
    "duration": 749,
    "start_time": "2021-11-24T06:55:03.177Z"
   },
   {
    "duration": 318,
    "start_time": "2021-11-24T06:55:04.329Z"
   },
   {
    "duration": 39,
    "start_time": "2021-11-24T06:55:04.787Z"
   },
   {
    "duration": 786,
    "start_time": "2021-11-24T06:55:05.249Z"
   },
   {
    "duration": 181,
    "start_time": "2021-11-24T06:55:06.248Z"
   },
   {
    "duration": 103,
    "start_time": "2021-11-24T06:55:06.773Z"
   },
   {
    "duration": 834,
    "start_time": "2021-11-24T06:55:07.692Z"
   },
   {
    "duration": 538,
    "start_time": "2021-11-24T06:55:09.155Z"
   },
   {
    "duration": 484,
    "start_time": "2021-11-24T06:55:10.069Z"
   },
   {
    "duration": 772,
    "start_time": "2021-11-24T06:57:46.130Z"
   },
   {
    "duration": 677,
    "start_time": "2021-11-24T06:58:38.830Z"
   },
   {
    "duration": 327,
    "start_time": "2021-11-24T07:04:22.029Z"
   },
   {
    "duration": 1018,
    "start_time": "2021-11-24T07:04:35.510Z"
   },
   {
    "duration": 9,
    "start_time": "2021-11-24T07:05:49.237Z"
   },
   {
    "duration": 778,
    "start_time": "2021-11-24T07:06:02.110Z"
   },
   {
    "duration": 700,
    "start_time": "2021-11-24T07:06:33.000Z"
   },
   {
    "duration": 322,
    "start_time": "2021-11-24T07:12:20.447Z"
   },
   {
    "duration": 306,
    "start_time": "2021-11-24T07:12:49.416Z"
   },
   {
    "duration": 8,
    "start_time": "2021-11-24T07:24:57.688Z"
   },
   {
    "duration": 16,
    "start_time": "2021-11-24T07:25:22.368Z"
   },
   {
    "duration": 368,
    "start_time": "2021-11-24T07:25:58.772Z"
   },
   {
    "duration": 11,
    "start_time": "2021-11-24T07:26:08.772Z"
   },
   {
    "duration": 916,
    "start_time": "2021-11-24T07:26:21.953Z"
   },
   {
    "duration": 850,
    "start_time": "2021-11-24T07:27:39.857Z"
   },
   {
    "duration": 1275,
    "start_time": "2021-11-24T07:28:02.159Z"
   },
   {
    "duration": 1195,
    "start_time": "2021-11-24T07:28:14.339Z"
   },
   {
    "duration": 955,
    "start_time": "2021-11-24T07:28:20.044Z"
   },
   {
    "duration": 854,
    "start_time": "2021-11-24T07:30:09.328Z"
   },
   {
    "duration": 755,
    "start_time": "2021-11-24T07:32:51.612Z"
   },
   {
    "duration": 749,
    "start_time": "2021-11-24T07:35:06.648Z"
   },
   {
    "duration": 1059,
    "start_time": "2021-11-24T07:35:28.447Z"
   },
   {
    "duration": 767,
    "start_time": "2021-11-24T07:35:39.692Z"
   },
   {
    "duration": 1027,
    "start_time": "2021-11-24T07:36:17.719Z"
   },
   {
    "duration": 825,
    "start_time": "2021-11-24T07:36:31.496Z"
   },
   {
    "duration": 756,
    "start_time": "2021-11-24T07:36:42.141Z"
   },
   {
    "duration": 229,
    "start_time": "2021-11-24T07:37:58.631Z"
   },
   {
    "duration": 159,
    "start_time": "2021-11-24T07:46:36.670Z"
   },
   {
    "duration": 6,
    "start_time": "2021-11-24T07:47:27.908Z"
   },
   {
    "duration": 5,
    "start_time": "2021-11-24T07:48:00.009Z"
   },
   {
    "duration": 299,
    "start_time": "2021-11-24T07:51:14.963Z"
   },
   {
    "duration": 15,
    "start_time": "2021-11-24T07:51:21.396Z"
   },
   {
    "duration": 41,
    "start_time": "2021-11-24T07:51:53.239Z"
   },
   {
    "duration": 676,
    "start_time": "2021-11-24T09:01:35.138Z"
   },
   {
    "duration": 709,
    "start_time": "2021-11-24T09:01:51.588Z"
   },
   {
    "duration": 1313,
    "start_time": "2021-11-24T09:03:03.373Z"
   },
   {
    "duration": 1194,
    "start_time": "2021-11-24T09:03:40.300Z"
   },
   {
    "duration": 1169,
    "start_time": "2021-11-24T09:04:36.148Z"
   },
   {
    "duration": 49,
    "start_time": "2021-11-24T09:07:56.313Z"
   },
   {
    "duration": 12,
    "start_time": "2021-11-24T09:08:19.719Z"
   },
   {
    "duration": 1120,
    "start_time": "2021-11-24T09:10:52.936Z"
   },
   {
    "duration": 1286,
    "start_time": "2021-11-24T09:15:53.947Z"
   },
   {
    "duration": 1250,
    "start_time": "2021-11-24T09:16:11.410Z"
   },
   {
    "duration": 797,
    "start_time": "2021-11-24T09:53:23.984Z"
   },
   {
    "duration": 643,
    "start_time": "2021-11-24T09:54:20.845Z"
   },
   {
    "duration": 677,
    "start_time": "2021-11-24T09:54:24.945Z"
   },
   {
    "duration": 560,
    "start_time": "2021-11-24T09:54:49.348Z"
   },
   {
    "duration": 924,
    "start_time": "2021-11-24T09:55:47.542Z"
   },
   {
    "duration": 972,
    "start_time": "2021-11-24T09:56:21.729Z"
   },
   {
    "duration": 515,
    "start_time": "2021-11-24T09:56:41.781Z"
   },
   {
    "duration": 544,
    "start_time": "2021-11-24T09:56:56.133Z"
   },
   {
    "duration": 1007,
    "start_time": "2021-11-24T09:57:26.065Z"
   },
   {
    "duration": 540,
    "start_time": "2021-11-24T09:57:59.438Z"
   },
   {
    "duration": 549,
    "start_time": "2021-11-24T09:59:18.918Z"
   },
   {
    "duration": 579,
    "start_time": "2021-11-24T10:04:06.828Z"
   },
   {
    "duration": 835,
    "start_time": "2021-11-24T10:04:36.654Z"
   },
   {
    "duration": 810,
    "start_time": "2021-11-24T10:05:28.366Z"
   },
   {
    "duration": 597,
    "start_time": "2021-11-24T10:05:39.175Z"
   },
   {
    "duration": 481,
    "start_time": "2021-11-24T10:09:54.200Z"
   },
   {
    "duration": 1598,
    "start_time": "2021-11-24T10:18:25.570Z"
   },
   {
    "duration": 34,
    "start_time": "2021-11-24T10:18:27.170Z"
   },
   {
    "duration": 23,
    "start_time": "2021-11-24T10:18:27.207Z"
   },
   {
    "duration": 542,
    "start_time": "2021-11-24T10:18:27.234Z"
   },
   {
    "duration": 21,
    "start_time": "2021-11-24T10:18:27.779Z"
   },
   {
    "duration": 12,
    "start_time": "2021-11-24T10:18:27.803Z"
   },
   {
    "duration": 61,
    "start_time": "2021-11-24T10:18:27.817Z"
   },
   {
    "duration": 1954,
    "start_time": "2021-11-24T10:18:27.882Z"
   },
   {
    "duration": 2041,
    "start_time": "2021-11-24T10:18:29.839Z"
   },
   {
    "duration": 34332,
    "start_time": "2021-11-24T10:18:31.882Z"
   },
   {
    "duration": 3358,
    "start_time": "2021-11-24T10:19:06.217Z"
   },
   {
    "duration": 37119,
    "start_time": "2021-11-24T10:19:09.577Z"
   },
   {
    "duration": 40505,
    "start_time": "2021-11-24T10:19:46.698Z"
   },
   {
    "duration": 519,
    "start_time": "2021-11-24T10:20:27.205Z"
   },
   {
    "duration": 530,
    "start_time": "2021-11-24T10:20:27.727Z"
   },
   {
    "duration": 21,
    "start_time": "2021-11-24T10:20:28.268Z"
   },
   {
    "duration": 714,
    "start_time": "2021-11-24T10:20:28.294Z"
   },
   {
    "duration": 1464,
    "start_time": "2021-11-24T10:20:29.012Z"
   },
   {
    "duration": 419,
    "start_time": "2021-11-24T10:20:30.478Z"
   },
   {
    "duration": 481,
    "start_time": "2021-11-24T10:20:30.899Z"
   },
   {
    "duration": 1225,
    "start_time": "2021-11-24T10:20:31.383Z"
   },
   {
    "duration": 196,
    "start_time": "2021-11-24T10:20:32.611Z"
   },
   {
    "duration": 694,
    "start_time": "2021-11-24T10:20:32.812Z"
   },
   {
    "duration": 27,
    "start_time": "2021-11-24T10:20:33.509Z"
   },
   {
    "duration": 34,
    "start_time": "2021-11-24T10:20:33.538Z"
   },
   {
    "duration": 776,
    "start_time": "2021-11-24T10:20:33.574Z"
   },
   {
    "duration": 328,
    "start_time": "2021-11-24T10:20:34.352Z"
   },
   {
    "duration": 42,
    "start_time": "2021-11-24T10:20:34.682Z"
   },
   {
    "duration": 796,
    "start_time": "2021-11-24T10:20:34.727Z"
   },
   {
    "duration": 168,
    "start_time": "2021-11-24T10:20:35.525Z"
   },
   {
    "duration": 118,
    "start_time": "2021-11-24T10:20:35.695Z"
   },
   {
    "duration": 1183,
    "start_time": "2021-11-24T10:20:35.815Z"
   },
   {
    "duration": 574,
    "start_time": "2021-11-24T10:20:37.001Z"
   },
   {
    "duration": 608,
    "start_time": "2021-11-24T10:20:37.578Z"
   },
   {
    "duration": 8,
    "start_time": "2021-11-24T10:35:10.323Z"
   },
   {
    "duration": 9,
    "start_time": "2021-11-24T10:36:02.584Z"
   },
   {
    "duration": 1670,
    "start_time": "2021-11-24T11:46:11.040Z"
   },
   {
    "duration": 33,
    "start_time": "2021-11-24T11:46:12.713Z"
   },
   {
    "duration": 40,
    "start_time": "2021-11-24T11:46:12.749Z"
   },
   {
    "duration": 537,
    "start_time": "2021-11-24T11:46:12.791Z"
   },
   {
    "duration": 38,
    "start_time": "2021-11-24T11:46:13.330Z"
   },
   {
    "duration": 14,
    "start_time": "2021-11-24T11:46:13.370Z"
   },
   {
    "duration": 31,
    "start_time": "2021-11-24T11:46:13.387Z"
   },
   {
    "duration": 2115,
    "start_time": "2021-11-24T11:46:13.424Z"
   },
   {
    "duration": 2075,
    "start_time": "2021-11-24T11:46:15.544Z"
   },
   {
    "duration": 39327,
    "start_time": "2021-11-24T11:46:17.623Z"
   },
   {
    "duration": 3247,
    "start_time": "2021-11-24T11:46:56.952Z"
   },
   {
    "duration": 36906,
    "start_time": "2021-11-24T11:47:00.202Z"
   },
   {
    "duration": 43160,
    "start_time": "2021-11-24T11:47:37.111Z"
   },
   {
    "duration": 751,
    "start_time": "2021-11-24T11:48:20.274Z"
   },
   {
    "duration": 859,
    "start_time": "2021-11-24T11:48:21.028Z"
   },
   {
    "duration": 22,
    "start_time": "2021-11-24T11:48:21.889Z"
   },
   {
    "duration": 783,
    "start_time": "2021-11-24T11:48:21.914Z"
   },
   {
    "duration": 1747,
    "start_time": "2021-11-24T11:48:22.700Z"
   },
   {
    "duration": 425,
    "start_time": "2021-11-24T11:48:24.449Z"
   },
   {
    "duration": 704,
    "start_time": "2021-11-24T11:48:24.877Z"
   },
   {
    "duration": 1794,
    "start_time": "2021-11-24T11:48:25.584Z"
   },
   {
    "duration": 212,
    "start_time": "2021-11-24T11:48:27.382Z"
   },
   {
    "duration": 723,
    "start_time": "2021-11-24T11:48:27.596Z"
   },
   {
    "duration": 26,
    "start_time": "2021-11-24T11:48:28.322Z"
   },
   {
    "duration": 8,
    "start_time": "2021-11-24T11:48:28.368Z"
   },
   {
    "duration": 1055,
    "start_time": "2021-11-24T11:48:28.382Z"
   },
   {
    "duration": 338,
    "start_time": "2021-11-24T11:48:29.440Z"
   },
   {
    "duration": 40,
    "start_time": "2021-11-24T11:48:29.780Z"
   },
   {
    "duration": 792,
    "start_time": "2021-11-24T11:48:29.823Z"
   },
   {
    "duration": 157,
    "start_time": "2021-11-24T11:48:30.618Z"
   },
   {
    "duration": 147,
    "start_time": "2021-11-24T11:48:30.779Z"
   },
   {
    "duration": 1209,
    "start_time": "2021-11-24T11:48:30.929Z"
   },
   {
    "duration": 574,
    "start_time": "2021-11-24T11:48:32.141Z"
   },
   {
    "duration": 551,
    "start_time": "2021-11-24T11:48:32.718Z"
   },
   {
    "duration": 2736,
    "start_time": "2021-11-24T18:50:31.694Z"
   },
   {
    "duration": 50,
    "start_time": "2021-11-24T18:50:34.433Z"
   },
   {
    "duration": 24,
    "start_time": "2021-11-24T18:50:34.487Z"
   },
   {
    "duration": 531,
    "start_time": "2021-11-24T18:50:34.515Z"
   },
   {
    "duration": 31,
    "start_time": "2021-11-24T18:50:35.048Z"
   },
   {
    "duration": 12,
    "start_time": "2021-11-24T18:50:35.081Z"
   },
   {
    "duration": 31,
    "start_time": "2021-11-24T18:50:35.095Z"
   },
   {
    "duration": 2022,
    "start_time": "2021-11-24T18:50:35.130Z"
   },
   {
    "duration": 2047,
    "start_time": "2021-11-24T18:50:37.155Z"
   },
   {
    "duration": 35083,
    "start_time": "2021-11-24T18:50:39.204Z"
   },
   {
    "duration": 3392,
    "start_time": "2021-11-24T18:51:14.290Z"
   },
   {
    "duration": 37044,
    "start_time": "2021-11-24T18:51:17.684Z"
   },
   {
    "duration": 40880,
    "start_time": "2021-11-24T18:51:54.731Z"
   },
   {
    "duration": 506,
    "start_time": "2021-11-24T18:52:35.614Z"
   },
   {
    "duration": 628,
    "start_time": "2021-11-24T18:52:36.123Z"
   },
   {
    "duration": 29,
    "start_time": "2021-11-24T18:52:36.754Z"
   },
   {
    "duration": 587,
    "start_time": "2021-11-24T18:52:36.786Z"
   },
   {
    "duration": 1494,
    "start_time": "2021-11-24T18:52:37.376Z"
   },
   {
    "duration": 438,
    "start_time": "2021-11-24T18:52:38.873Z"
   },
   {
    "duration": 542,
    "start_time": "2021-11-24T18:52:39.315Z"
   },
   {
    "duration": 1273,
    "start_time": "2021-11-24T18:52:39.859Z"
   },
   {
    "duration": 202,
    "start_time": "2021-11-24T18:52:41.135Z"
   },
   {
    "duration": 689,
    "start_time": "2021-11-24T18:52:41.342Z"
   },
   {
    "duration": 38,
    "start_time": "2021-11-24T18:52:42.034Z"
   },
   {
    "duration": 8,
    "start_time": "2021-11-24T18:52:42.074Z"
   },
   {
    "duration": 742,
    "start_time": "2021-11-24T18:52:42.084Z"
   },
   {
    "duration": 313,
    "start_time": "2021-11-24T18:52:42.828Z"
   },
   {
    "duration": 49,
    "start_time": "2021-11-24T18:52:43.143Z"
   },
   {
    "duration": 781,
    "start_time": "2021-11-24T18:52:43.195Z"
   },
   {
    "duration": 164,
    "start_time": "2021-11-24T18:52:43.978Z"
   },
   {
    "duration": 101,
    "start_time": "2021-11-24T18:52:44.144Z"
   },
   {
    "duration": 1124,
    "start_time": "2021-11-24T18:52:44.247Z"
   },
   {
    "duration": 650,
    "start_time": "2021-11-24T18:52:45.373Z"
   },
   {
    "duration": 497,
    "start_time": "2021-11-24T18:52:46.026Z"
   },
   {
    "duration": 49,
    "start_time": "2021-11-24T18:55:26.731Z"
   },
   {
    "duration": 50,
    "start_time": "2021-11-24T19:05:48.210Z"
   },
   {
    "duration": 117,
    "start_time": "2021-11-24T19:26:02.463Z"
   },
   {
    "duration": 293,
    "start_time": "2021-11-24T19:31:24.282Z"
   },
   {
    "duration": 345,
    "start_time": "2021-11-25T13:09:41.464Z"
   },
   {
    "duration": 1577,
    "start_time": "2021-11-25T13:09:51.765Z"
   },
   {
    "duration": 35,
    "start_time": "2021-11-25T13:09:53.345Z"
   },
   {
    "duration": 55,
    "start_time": "2021-11-25T13:09:53.384Z"
   },
   {
    "duration": 517,
    "start_time": "2021-11-25T13:09:53.442Z"
   },
   {
    "duration": 25,
    "start_time": "2021-11-25T13:09:54.124Z"
   },
   {
    "duration": 11,
    "start_time": "2021-11-25T13:09:54.955Z"
   },
   {
    "duration": 31,
    "start_time": "2021-11-25T13:09:55.454Z"
   },
   {
    "duration": 1969,
    "start_time": "2021-11-25T13:09:56.329Z"
   },
   {
    "duration": 2042,
    "start_time": "2021-11-25T13:09:58.301Z"
   },
   {
    "duration": 34968,
    "start_time": "2021-11-25T13:10:00.346Z"
   },
   {
    "duration": 3292,
    "start_time": "2021-11-25T13:10:35.317Z"
   },
   {
    "duration": 39195,
    "start_time": "2021-11-25T13:10:38.612Z"
   },
   {
    "duration": 38248,
    "start_time": "2021-11-25T13:11:17.810Z"
   },
   {
    "duration": 505,
    "start_time": "2021-11-25T13:11:56.061Z"
   },
   {
    "duration": 503,
    "start_time": "2021-11-25T13:11:56.570Z"
   },
   {
    "duration": 21,
    "start_time": "2021-11-25T13:11:57.076Z"
   },
   {
    "duration": 604,
    "start_time": "2021-11-25T13:11:57.099Z"
   },
   {
    "duration": 1372,
    "start_time": "2021-11-25T13:11:57.706Z"
   },
   {
    "duration": 404,
    "start_time": "2021-11-25T13:11:59.081Z"
   },
   {
    "duration": 498,
    "start_time": "2021-11-25T13:11:59.487Z"
   },
   {
    "duration": 1245,
    "start_time": "2021-11-25T13:11:59.987Z"
   },
   {
    "duration": 196,
    "start_time": "2021-11-25T13:12:01.235Z"
   },
   {
    "duration": 681,
    "start_time": "2021-11-25T13:12:01.434Z"
   },
   {
    "duration": 34,
    "start_time": "2021-11-25T13:12:02.117Z"
   },
   {
    "duration": 7,
    "start_time": "2021-11-25T13:12:02.154Z"
   },
   {
    "duration": 756,
    "start_time": "2021-11-25T13:12:02.164Z"
   },
   {
    "duration": 343,
    "start_time": "2021-11-25T13:12:02.923Z"
   },
   {
    "duration": 40,
    "start_time": "2021-11-25T13:12:03.268Z"
   },
   {
    "duration": 748,
    "start_time": "2021-11-25T13:12:03.311Z"
   },
   {
    "duration": 165,
    "start_time": "2021-11-25T13:12:04.064Z"
   },
   {
    "duration": 111,
    "start_time": "2021-11-25T13:12:04.232Z"
   },
   {
    "duration": 1104,
    "start_time": "2021-11-25T13:12:04.346Z"
   },
   {
    "duration": 623,
    "start_time": "2021-11-25T13:12:05.453Z"
   },
   {
    "duration": 503,
    "start_time": "2021-11-25T13:12:06.079Z"
   },
   {
    "duration": 2180,
    "start_time": "2021-11-25T13:16:18.718Z"
   },
   {
    "duration": 2073,
    "start_time": "2021-11-25T13:17:28.916Z"
   },
   {
    "duration": 2147,
    "start_time": "2021-11-25T13:17:46.214Z"
   },
   {
    "duration": 1743,
    "start_time": "2021-11-25T13:26:53.143Z"
   },
   {
    "duration": 1640,
    "start_time": "2021-11-25T13:27:05.107Z"
   },
   {
    "duration": 19,
    "start_time": "2021-11-25T13:30:27.895Z"
   },
   {
    "duration": 51,
    "start_time": "2021-11-25T13:30:52.773Z"
   },
   {
    "duration": 1089,
    "start_time": "2021-11-25T13:31:27.829Z"
   },
   {
    "duration": 973,
    "start_time": "2021-11-25T13:34:07.525Z"
   },
   {
    "duration": 1075,
    "start_time": "2021-11-25T13:35:18.693Z"
   },
   {
    "duration": 10,
    "start_time": "2021-11-25T13:36:23.669Z"
   },
   {
    "duration": 10,
    "start_time": "2021-11-25T13:36:27.321Z"
   },
   {
    "duration": 11,
    "start_time": "2021-11-25T13:36:46.496Z"
   },
   {
    "duration": 19,
    "start_time": "2021-11-25T13:37:21.050Z"
   },
   {
    "duration": 34,
    "start_time": "2021-11-25T13:37:51.282Z"
   },
   {
    "duration": 15,
    "start_time": "2021-11-25T13:38:06.399Z"
   },
   {
    "duration": 14,
    "start_time": "2021-11-25T13:38:15.866Z"
   },
   {
    "duration": 18,
    "start_time": "2021-11-25T13:38:54.733Z"
   },
   {
    "duration": 21,
    "start_time": "2021-11-25T13:39:55.833Z"
   },
   {
    "duration": 17,
    "start_time": "2021-11-25T13:40:20.394Z"
   },
   {
    "duration": 19,
    "start_time": "2021-11-25T13:40:30.684Z"
   },
   {
    "duration": 1012,
    "start_time": "2021-11-25T13:40:57.296Z"
   },
   {
    "duration": 21,
    "start_time": "2021-11-25T13:41:51.665Z"
   },
   {
    "duration": 2186,
    "start_time": "2021-11-25T13:42:50.043Z"
   },
   {
    "duration": 2295,
    "start_time": "2021-11-25T13:46:54.829Z"
   },
   {
    "duration": 456,
    "start_time": "2021-11-25T14:21:34.900Z"
   },
   {
    "duration": 471,
    "start_time": "2021-11-25T14:21:50.651Z"
   },
   {
    "duration": 449,
    "start_time": "2021-11-25T14:22:07.794Z"
   },
   {
    "duration": 469,
    "start_time": "2021-11-25T14:23:33.175Z"
   },
   {
    "duration": 2110,
    "start_time": "2021-11-25T14:25:53.865Z"
   },
   {
    "duration": 2147,
    "start_time": "2021-11-25T14:27:29.933Z"
   },
   {
    "duration": 2021,
    "start_time": "2021-11-25T14:30:39.647Z"
   },
   {
    "duration": 319,
    "start_time": "2021-11-25T19:35:41.856Z"
   },
   {
    "duration": 2738,
    "start_time": "2021-11-25T19:35:53.937Z"
   },
   {
    "duration": 21,
    "start_time": "2021-11-25T19:35:56.677Z"
   },
   {
    "duration": 22,
    "start_time": "2021-11-25T19:35:56.700Z"
   },
   {
    "duration": 325,
    "start_time": "2021-11-25T19:35:56.724Z"
   },
   {
    "duration": 14,
    "start_time": "2021-11-25T19:35:57.849Z"
   },
   {
    "duration": 9,
    "start_time": "2021-11-25T19:36:00.008Z"
   },
   {
    "duration": 21,
    "start_time": "2021-11-25T19:36:00.786Z"
   },
   {
    "duration": 5,
    "start_time": "2021-11-25T19:36:03.994Z"
   },
   {
    "duration": 1289,
    "start_time": "2021-11-25T19:37:22.358Z"
   },
   {
    "duration": 1247,
    "start_time": "2021-11-25T19:37:23.649Z"
   },
   {
    "duration": 21876,
    "start_time": "2021-11-25T19:37:24.899Z"
   },
   {
    "duration": 1719,
    "start_time": "2021-11-25T19:37:46.777Z"
   },
   {
    "duration": 23841,
    "start_time": "2021-11-25T19:37:48.497Z"
   },
   {
    "duration": 24589,
    "start_time": "2021-11-25T19:38:12.344Z"
   },
   {
    "duration": 318,
    "start_time": "2021-11-25T19:38:36.935Z"
   },
   {
    "duration": 305,
    "start_time": "2021-11-25T19:38:37.255Z"
   },
   {
    "duration": 14,
    "start_time": "2021-11-25T19:38:37.563Z"
   },
   {
    "duration": 370,
    "start_time": "2021-11-25T19:38:37.579Z"
   },
   {
    "duration": 851,
    "start_time": "2021-11-25T19:38:37.951Z"
   },
   {
    "duration": 243,
    "start_time": "2021-11-25T19:38:39.048Z"
   },
   {
    "duration": 475,
    "start_time": "2021-11-25T19:38:39.293Z"
   },
   {
    "duration": 855,
    "start_time": "2021-11-25T19:38:39.776Z"
   },
   {
    "duration": 135,
    "start_time": "2021-11-25T19:38:40.633Z"
   },
   {
    "duration": 422,
    "start_time": "2021-11-25T19:38:40.769Z"
   },
   {
    "duration": 18,
    "start_time": "2021-11-25T19:38:41.194Z"
   },
   {
    "duration": 5,
    "start_time": "2021-11-25T19:38:41.214Z"
   },
   {
    "duration": 1457,
    "start_time": "2021-11-25T19:38:41.245Z"
   },
   {
    "duration": 254,
    "start_time": "2021-11-25T19:38:42.705Z"
   },
   {
    "duration": 24,
    "start_time": "2021-11-25T19:38:42.960Z"
   },
   {
    "duration": 473,
    "start_time": "2021-11-25T19:38:42.986Z"
   },
   {
    "duration": 107,
    "start_time": "2021-11-25T19:38:43.461Z"
   },
   {
    "duration": 59,
    "start_time": "2021-11-25T19:38:43.570Z"
   },
   {
    "duration": 726,
    "start_time": "2021-11-25T19:38:43.631Z"
   },
   {
    "duration": 466,
    "start_time": "2021-11-25T19:38:44.359Z"
   },
   {
    "duration": 303,
    "start_time": "2021-11-25T19:38:44.827Z"
   }
  ],
  "kernelspec": {
   "display_name": "Python 3",
   "language": "python",
   "name": "python3"
  },
  "language_info": {
   "codemirror_mode": {
    "name": "ipython",
    "version": 3
   },
   "file_extension": ".py",
   "mimetype": "text/x-python",
   "name": "python",
   "nbconvert_exporter": "python",
   "pygments_lexer": "ipython3",
   "version": "3.8.5"
  },
  "toc": {
   "base_numbering": 1,
   "nav_menu": {},
   "number_sections": true,
   "sideBar": true,
   "skip_h1_title": true,
   "title_cell": "Table of Contents",
   "title_sidebar": "Contents",
   "toc_cell": false,
   "toc_position": {},
   "toc_section_display": true,
   "toc_window_display": false
  }
 },
 "nbformat": 4,
 "nbformat_minor": 2
}
